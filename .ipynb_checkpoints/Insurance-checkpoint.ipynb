{
 "cells": [
  {
   "cell_type": "code",
   "execution_count": 73,
   "metadata": {
    "id": "i9sPWRfK4OBS"
   },
   "outputs": [],
   "source": [
    "import pandas as pd\n",
    "import math\n",
    "from sklearn import preprocessing\n",
    "import numpy as np\n",
    "from sklearn.metrics import log_loss\n",
    "import pandas as pd\n",
    "from sklearn import preprocessing"
   ]
  },
  {
   "cell_type": "code",
   "execution_count": 74,
   "metadata": {
    "colab": {
     "base_uri": "https://localhost:8080/"
    },
    "id": "VJx5dEvv4pHi",
    "outputId": "104b510c-0892-4fb2-aea5-b44d586966bf"
   },
   "outputs": [],
   "source": [
    "# from google.colab import drive\n",
    "# drive.mount('/content/drive')"
   ]
  },
  {
   "cell_type": "code",
   "execution_count": 75,
   "metadata": {
    "id": "JPVMrY434qp_"
   },
   "outputs": [],
   "source": [
    "data_path = \"/home/vishnu/ML/challenges/AnalyticsOlympiad2022/data/\"\n",
    "\n",
    "train_data_path = data_path+\"train.csv\"\n",
    "test_data_path = data_path+\"test.csv\"\n",
    "\n",
    "train_data = pd.read_csv(train_data_path)\n",
    "test_data = pd.read_csv(test_data_path)"
   ]
  },
  {
   "cell_type": "markdown",
   "metadata": {
    "jp-MarkdownHeadingCollapsed": true,
    "tags": []
   },
   "source": [
    "### Normal Encoding"
   ]
  },
  {
   "cell_type": "code",
   "execution_count": 45,
   "metadata": {
    "colab": {
     "base_uri": "https://localhost:8080/"
    },
    "id": "sn2qq-Rg5mME",
    "outputId": "22a6589b-91d7-4655-ae0b-2b5e42391f8d"
   },
   "outputs": [],
   "source": [
    "\n",
    "def encode_data(data):\n",
    "    le = preprocessing.LabelEncoder()\n",
    "\n",
    "    for col in data.columns:\n",
    "        # print(col)\n",
    "        if(col not in ('ID')):\n",
    "        # print(col, train_data[col].dtypes)\n",
    "            if(data[col].dtypes=='object'):\n",
    "                le.fit(list(data[col]))\n",
    "                data[col] = le.transform(list(data[col]))\n",
    "    return data"
   ]
  },
  {
   "cell_type": "code",
   "execution_count": null,
   "metadata": {},
   "outputs": [],
   "source": [
    "train_data = encode_data(train_data)\n",
    "test_data = encode_data(test_data)"
   ]
  },
  {
   "cell_type": "markdown",
   "metadata": {},
   "source": [
    "### Data CLeaning and Feature Engineering"
   ]
  },
  {
   "cell_type": "code",
   "execution_count": 76,
   "metadata": {},
   "outputs": [],
   "source": [
    "\n",
    "def one_hot_encode_data(data):\n",
    "    le = preprocessing.LabelEncoder()\n",
    "\n",
    "    for col in data.columns:\n",
    "        # print(col)\n",
    "        if(col not in ('ID')):\n",
    "        # print(col, train_data[col].dtypes)\n",
    "            if(data[col].dtypes=='object'):\n",
    "                y = pd.get_dummies(data[col], prefix=col)\n",
    "\n",
    "                data = data.drop(col, axis = 1)\n",
    "                data = data.join(y)\n",
    "    \n",
    "    \n",
    "    \n",
    "    del data['ID']\n",
    "    # del test_data['ID']\n",
    "    \n",
    "    return data"
   ]
  },
  {
   "cell_type": "code",
   "execution_count": 77,
   "metadata": {},
   "outputs": [],
   "source": [
    "from sklearn.preprocessing import MinMaxScaler\n",
    "\n",
    "def normalize_data(data):\n",
    "    scaler = MinMaxScaler(feature_range=(-1, 1))\n",
    "    data['ANNUAL_MILEAGE'] = scaler.fit_transform(data['ANNUAL_MILEAGE'].values.reshape(-1,1))\n",
    "    \n",
    "    return data;"
   ]
  },
  {
   "cell_type": "code",
   "execution_count": 78,
   "metadata": {},
   "outputs": [],
   "source": [
    "def create_new_features(data):\n",
    "    data['VE_MA']= (data['VEHICLE_OWNERSHIP']+data['MARRIED']).astype(int)\n",
    "    data['VE_CH']= (data['VEHICLE_OWNERSHIP']+data['CHILDREN']).astype(int)\n",
    "    data['CH_MA']= (data['CHILDREN']+data['MARRIED']).astype(int)\n",
    "    data['DUIS_ACC']= (data['DUIS']*data['PAST_ACCIDENTS']).astype(int)\n",
    "    \n",
    "    return data;"
   ]
  },
  {
   "cell_type": "code",
   "execution_count": 79,
   "metadata": {},
   "outputs": [],
   "source": [
    "train_data = one_hot_encode_data(train_data)\n",
    "train_data = normalize_data(train_data)\n",
    "train_data = create_new_features(train_data)\n",
    "\n",
    "\n",
    "test_data = one_hot_encode_data(test_data)\n",
    "test_data = normalize_data(test_data)\n",
    "test_data = create_new_features(test_data)\n",
    "\n"
   ]
  },
  {
   "cell_type": "code",
   "execution_count": 80,
   "metadata": {},
   "outputs": [
    {
     "data": {
      "text/html": [
       "<div>\n",
       "<style scoped>\n",
       "    .dataframe tbody tr th:only-of-type {\n",
       "        vertical-align: middle;\n",
       "    }\n",
       "\n",
       "    .dataframe tbody tr th {\n",
       "        vertical-align: top;\n",
       "    }\n",
       "\n",
       "    .dataframe thead th {\n",
       "        text-align: right;\n",
       "    }\n",
       "</style>\n",
       "<table border=\"1\" class=\"dataframe\">\n",
       "  <thead>\n",
       "    <tr style=\"text-align: right;\">\n",
       "      <th></th>\n",
       "      <th>CREDIT_SCORE</th>\n",
       "      <th>VEHICLE_OWNERSHIP</th>\n",
       "      <th>MARRIED</th>\n",
       "      <th>CHILDREN</th>\n",
       "      <th>POSTAL_CODE</th>\n",
       "      <th>ANNUAL_MILEAGE</th>\n",
       "      <th>SPEEDING_VIOLATIONS</th>\n",
       "      <th>DUIS</th>\n",
       "      <th>PAST_ACCIDENTS</th>\n",
       "      <th>OUTCOME</th>\n",
       "      <th>...</th>\n",
       "      <th>VEHICLE_YEAR_after 2015</th>\n",
       "      <th>VEHICLE_YEAR_before 2015</th>\n",
       "      <th>TYPE_OF_VEHICLE_HatchBack</th>\n",
       "      <th>TYPE_OF_VEHICLE_SUV</th>\n",
       "      <th>TYPE_OF_VEHICLE_Sedan</th>\n",
       "      <th>TYPE_OF_VEHICLE_Sports Car</th>\n",
       "      <th>VE_MA</th>\n",
       "      <th>VE_CH</th>\n",
       "      <th>CH_MA</th>\n",
       "      <th>DUIS_ACC</th>\n",
       "    </tr>\n",
       "  </thead>\n",
       "  <tbody>\n",
       "    <tr>\n",
       "      <th>0</th>\n",
       "      <td>0.638050</td>\n",
       "      <td>0.0</td>\n",
       "      <td>0.0</td>\n",
       "      <td>0.0</td>\n",
       "      <td>37379</td>\n",
       "      <td>-0.052632</td>\n",
       "      <td>0</td>\n",
       "      <td>0</td>\n",
       "      <td>0</td>\n",
       "      <td>0.0</td>\n",
       "      <td>...</td>\n",
       "      <td>1</td>\n",
       "      <td>0</td>\n",
       "      <td>0</td>\n",
       "      <td>0</td>\n",
       "      <td>0</td>\n",
       "      <td>1</td>\n",
       "      <td>0</td>\n",
       "      <td>0</td>\n",
       "      <td>0</td>\n",
       "      <td>0</td>\n",
       "    </tr>\n",
       "    <tr>\n",
       "      <th>1</th>\n",
       "      <td>0.475741</td>\n",
       "      <td>1.0</td>\n",
       "      <td>1.0</td>\n",
       "      <td>0.0</td>\n",
       "      <td>10238</td>\n",
       "      <td>-0.263158</td>\n",
       "      <td>0</td>\n",
       "      <td>0</td>\n",
       "      <td>0</td>\n",
       "      <td>1.0</td>\n",
       "      <td>...</td>\n",
       "      <td>0</td>\n",
       "      <td>1</td>\n",
       "      <td>1</td>\n",
       "      <td>0</td>\n",
       "      <td>0</td>\n",
       "      <td>0</td>\n",
       "      <td>2</td>\n",
       "      <td>1</td>\n",
       "      <td>1</td>\n",
       "      <td>0</td>\n",
       "    </tr>\n",
       "    <tr>\n",
       "      <th>2</th>\n",
       "      <td>0.839817</td>\n",
       "      <td>1.0</td>\n",
       "      <td>1.0</td>\n",
       "      <td>1.0</td>\n",
       "      <td>10238</td>\n",
       "      <td>0.052632</td>\n",
       "      <td>0</td>\n",
       "      <td>0</td>\n",
       "      <td>0</td>\n",
       "      <td>1.0</td>\n",
       "      <td>...</td>\n",
       "      <td>0</td>\n",
       "      <td>1</td>\n",
       "      <td>0</td>\n",
       "      <td>0</td>\n",
       "      <td>1</td>\n",
       "      <td>0</td>\n",
       "      <td>2</td>\n",
       "      <td>2</td>\n",
       "      <td>2</td>\n",
       "      <td>0</td>\n",
       "    </tr>\n",
       "    <tr>\n",
       "      <th>3</th>\n",
       "      <td>0.682527</td>\n",
       "      <td>1.0</td>\n",
       "      <td>0.0</td>\n",
       "      <td>1.0</td>\n",
       "      <td>92099</td>\n",
       "      <td>-0.578947</td>\n",
       "      <td>1</td>\n",
       "      <td>0</td>\n",
       "      <td>0</td>\n",
       "      <td>1.0</td>\n",
       "      <td>...</td>\n",
       "      <td>0</td>\n",
       "      <td>1</td>\n",
       "      <td>0</td>\n",
       "      <td>0</td>\n",
       "      <td>1</td>\n",
       "      <td>0</td>\n",
       "      <td>1</td>\n",
       "      <td>2</td>\n",
       "      <td>1</td>\n",
       "      <td>0</td>\n",
       "    </tr>\n",
       "    <tr>\n",
       "      <th>4</th>\n",
       "      <td>0.572184</td>\n",
       "      <td>1.0</td>\n",
       "      <td>1.0</td>\n",
       "      <td>1.0</td>\n",
       "      <td>32122</td>\n",
       "      <td>0.368421</td>\n",
       "      <td>0</td>\n",
       "      <td>0</td>\n",
       "      <td>1</td>\n",
       "      <td>0.0</td>\n",
       "      <td>...</td>\n",
       "      <td>1</td>\n",
       "      <td>0</td>\n",
       "      <td>0</td>\n",
       "      <td>0</td>\n",
       "      <td>1</td>\n",
       "      <td>0</td>\n",
       "      <td>2</td>\n",
       "      <td>2</td>\n",
       "      <td>2</td>\n",
       "      <td>0</td>\n",
       "    </tr>\n",
       "  </tbody>\n",
       "</table>\n",
       "<p>5 rows × 37 columns</p>\n",
       "</div>"
      ],
      "text/plain": [
       "   CREDIT_SCORE  VEHICLE_OWNERSHIP  MARRIED  CHILDREN  POSTAL_CODE  \\\n",
       "0      0.638050                0.0      0.0       0.0        37379   \n",
       "1      0.475741                1.0      1.0       0.0        10238   \n",
       "2      0.839817                1.0      1.0       1.0        10238   \n",
       "3      0.682527                1.0      0.0       1.0        92099   \n",
       "4      0.572184                1.0      1.0       1.0        32122   \n",
       "\n",
       "   ANNUAL_MILEAGE  SPEEDING_VIOLATIONS  DUIS  PAST_ACCIDENTS  OUTCOME  ...  \\\n",
       "0       -0.052632                    0     0               0      0.0  ...   \n",
       "1       -0.263158                    0     0               0      1.0  ...   \n",
       "2        0.052632                    0     0               0      1.0  ...   \n",
       "3       -0.578947                    1     0               0      1.0  ...   \n",
       "4        0.368421                    0     0               1      0.0  ...   \n",
       "\n",
       "   VEHICLE_YEAR_after 2015  VEHICLE_YEAR_before 2015  \\\n",
       "0                        1                         0   \n",
       "1                        0                         1   \n",
       "2                        0                         1   \n",
       "3                        0                         1   \n",
       "4                        1                         0   \n",
       "\n",
       "   TYPE_OF_VEHICLE_HatchBack  TYPE_OF_VEHICLE_SUV  TYPE_OF_VEHICLE_Sedan  \\\n",
       "0                          0                    0                      0   \n",
       "1                          1                    0                      0   \n",
       "2                          0                    0                      1   \n",
       "3                          0                    0                      1   \n",
       "4                          0                    0                      1   \n",
       "\n",
       "   TYPE_OF_VEHICLE_Sports Car  VE_MA  VE_CH  CH_MA  DUIS_ACC  \n",
       "0                           1      0      0      0         0  \n",
       "1                           0      2      1      1         0  \n",
       "2                           0      2      2      2         0  \n",
       "3                           0      1      2      1         0  \n",
       "4                           0      2      2      2         0  \n",
       "\n",
       "[5 rows x 37 columns]"
      ]
     },
     "execution_count": 80,
     "metadata": {},
     "output_type": "execute_result"
    }
   ],
   "source": [
    "train_data.head()"
   ]
  },
  {
   "cell_type": "code",
   "execution_count": null,
   "metadata": {},
   "outputs": [],
   "source": []
  },
  {
   "cell_type": "code",
   "execution_count": 81,
   "metadata": {
    "id": "9S7thYzMP-7X"
   },
   "outputs": [],
   "source": [
    "from sklearn.model_selection import train_test_split\n",
    "\n",
    "target = train_data.OUTCOME\n",
    "del train_data['OUTCOME']\n",
    "X = train_data.values\n",
    "y = target.values\n",
    "\n",
    "# X_train, X_val, y_train, y_val = train_test_split(X, y, test_size=0.20, random_state=42)\n",
    "X_train, X_val, y_train, y_val = train_test_split(X, y, test_size=0.01, random_state=42)\n"
   ]
  },
  {
   "cell_type": "code",
   "execution_count": null,
   "metadata": {},
   "outputs": [],
   "source": []
  },
  {
   "cell_type": "markdown",
   "metadata": {},
   "source": [
    "### Different model performance"
   ]
  },
  {
   "cell_type": "code",
   "execution_count": null,
   "metadata": {
    "id": "an2aLHIWP-_n"
   },
   "outputs": [],
   "source": [
    "# XGBClassifier(learning_rate=0.05,  n_estimators=200, max_depth=3, colsample_bytree = 0.5, gamma= 0.1, objective='binary:logistic', use_label_encoder=False)\n",
    "# XGBoost validation Log loss =  0.6819472321905787\n",
    "# submission score 0.68048\n",
    "\n",
    "# XGBClassifier(learning_rate=0.05,  n_estimators=200, max_depth=3, colsample_bytree = 0.5, gamma= 0.1, objective='binary:logistic', use_label_encoder=False)\n",
    "# one hot encoding\n",
    "# submission score 0.68076\n",
    "\n",
    "\n",
    "#XGBClassifier(learning_rate=0.007,  n_estimators=300, max_depth=6, colsample_bytree = 0.8, gamma= 0.1, objective='binary:logistic', use_label_encoder=False)\n",
    "#XGBoost validation Log loss =  0.6819613814931067\n",
    "\n",
    "\n",
    "#XGBClassifier(learning_rate=0.05, n_estimators=200, max_depth=2, colsample_bytree = 0.5, gamma= 0.05, use_label_encoder=False)\n",
    "# submission score 0.68055\n",
    "\n",
    "#XGBClassifier(learning_rate=0.05, n_estimators=100, max_depth=2, colsample_bytree = 0.6, gamma= 0.1, use_label_encoder=False)\n",
    "# submission score 0.68048\n",
    "\n",
    "#AdaBoostClassifier(n_estimators=200, learning_rate=0.01)\n",
    "# submission score 0.68469\n",
    "\n",
    "#XGBClassifier(learning_rate=0.05,  n_estimators=130, max_depth=3, colsample_bytree = 0.5, gamma= 0.1, objective='binary:logistic', use_label_encoder=False)\n",
    "# submission score 0.68066\n",
    "\n",
    "#XGBClassifier(learning_rate=0.05, n_estimators=102, max_depth=2, colsample_bytree = 0.6, gamma= 0.1, use_label_encoder=False)\n",
    "#0.68052"
   ]
  },
  {
   "cell_type": "markdown",
   "metadata": {
    "id": "1PeP8ATUP0mb",
    "jp-MarkdownHeadingCollapsed": true,
    "tags": []
   },
   "source": [
    "### RandomForestClassifier"
   ]
  },
  {
   "cell_type": "code",
   "execution_count": null,
   "metadata": {
    "colab": {
     "base_uri": "https://localhost:8080/"
    },
    "id": "cq5YdpbsPqCW",
    "outputId": "a5a967f7-2f08-4860-9c2e-bf640ab83dfc"
   },
   "outputs": [
    {
     "name": "stdout",
     "output_type": "stream",
     "text": [
      "Random forest validation Log Loss =  15.58639767091402\n"
     ]
    }
   ],
   "source": [
    "from sklearn.ensemble import RandomForestClassifier\n",
    "\n",
    "model = RandomForestClassifier()\n",
    "model.fit(X_train,y_train)\n",
    "\n",
    "# Get the mean absolute error on the validation data\n",
    "y_pred = model.predict(X_val)\n",
    "\n",
    "ll = log_loss(y_val, y_pred)\n",
    "\n",
    "print('Random forest validation Log Loss = ', ll)"
   ]
  },
  {
   "cell_type": "code",
   "execution_count": null,
   "metadata": {
    "colab": {
     "base_uri": "https://localhost:8080/"
    },
    "id": "ELFHRDM62KwN",
    "outputId": "2b21ef6f-b523-4ca4-f259-2b4741b7264f"
   },
   "outputs": [
    {
     "data": {
      "text/plain": [
       "array([0., 1., 0., ..., 0., 0., 0.])"
      ]
     },
     "execution_count": 54,
     "metadata": {},
     "output_type": "execute_result"
    }
   ],
   "source": [
    "y_pred"
   ]
  },
  {
   "cell_type": "markdown",
   "metadata": {
    "id": "V5_9z2qTyNJH",
    "tags": []
   },
   "source": [
    "### XGBClasifier"
   ]
  },
  {
   "cell_type": "code",
   "execution_count": 60,
   "metadata": {
    "colab": {
     "base_uri": "https://localhost:8080/"
    },
    "id": "CTyfZObrQvDB",
    "outputId": "a4b85663-cc36-485f-db30-dc4dc5586bc5"
   },
   "outputs": [],
   "source": [
    "# !pip install xgboost==1.5 \n"
   ]
  },
  {
   "cell_type": "markdown",
   "metadata": {},
   "source": [
    "#### XGB train"
   ]
  },
  {
   "cell_type": "code",
   "execution_count": null,
   "metadata": {
    "colab": {
     "base_uri": "https://localhost:8080/",
     "height": 363
    },
    "id": "beBhbFZH6ojB",
    "outputId": "1010890a-2657-4dd4-d3bc-657262a01e8b",
    "scrolled": true,
    "tags": []
   },
   "outputs": [],
   "source": [
    "import sklearn\n",
    "from sklearn import metrics\n",
    "from sklearn import svm, datasets\n",
    "\n",
    "import xgboost\n",
    "from xgboost import XGBClassifier\n",
    "\n",
    "\n",
    "XGBModel = XGBClassifier(learning_rate=0.05, n_estimators=102, max_depth=2, colsample_bytree = 0.6, gamma= 0.1, use_label_encoder=False)\n",
    "\n",
    "\n",
    "eval_set = [(X_val, y_val)]\n",
    "XGBModel.fit(X_train, y_train, eval_metric=\"logloss\", eval_set=eval_set, verbose=True)\n",
    "\n",
    "# XGBModel.fit(X,y, eval_metric=\"logloss\", verbose=True)\n"
   ]
  },
  {
   "cell_type": "code",
   "execution_count": 90,
   "metadata": {},
   "outputs": [
    {
     "name": "stdout",
     "output_type": "stream",
     "text": [
      "XGBoost validation Log loss =  0.678996286931492\n"
     ]
    }
   ],
   "source": [
    "# Get the mean absolute error on the validation data :\n",
    "XGBpredictions = XGBModel.predict_proba(X_val)\n",
    "\n",
    "rmse = log_loss(y_val, XGBpredictions)\n",
    "print('XGBoost validation Log loss = ', rmse)\n",
    "\n",
    "#XGBoost validation Log loss =  0.6819472321905787\n",
    "\n",
    "\n"
   ]
  },
  {
   "cell_type": "markdown",
   "metadata": {},
   "source": [
    "#### XGB predict"
   ]
  },
  {
   "cell_type": "code",
   "execution_count": 91,
   "metadata": {
    "id": "zAc3fU3N_q0J"
   },
   "outputs": [],
   "source": [
    "\n",
    "testX = test_data.values\n",
    "\n",
    "y_test_pred = XGBModel.predict_proba(testX)\n",
    "\n",
    "# y_test_pred = xgb.predict_proba(val)\n",
    "y_test_pred = y_test_pred[:,1]\n",
    "y_test_pred\n",
    "\n",
    "submission_df_XG = pd.DataFrame(y_test_pred, columns=['OUTCOME'])\n",
    "submission_df_XG.to_csv('results/submission_fe_XG_103.csv', index=False)\n"
   ]
  },
  {
   "cell_type": "markdown",
   "metadata": {
    "tags": []
   },
   "source": [
    "### Adaboost"
   ]
  },
  {
   "cell_type": "code",
   "execution_count": 29,
   "metadata": {},
   "outputs": [],
   "source": [
    "from sklearn.ensemble import AdaBoostClassifier\n",
    "\n",
    "\n",
    "adaboostcls = AdaBoostClassifier(n_estimators=200, learning_rate=0.01)\n",
    "\n",
    "\n",
    "ADBModel = adaboostcls.fit(X, y)\n",
    "\n"
   ]
  },
  {
   "cell_type": "code",
   "execution_count": 49,
   "metadata": {},
   "outputs": [
    {
     "ename": "IndexError",
     "evalue": "too many indices for array: array is 1-dimensional, but 2 were indexed",
     "output_type": "error",
     "traceback": [
      "\u001b[0;31m---------------------------------------------------------------------------\u001b[0m",
      "\u001b[0;31mIndexError\u001b[0m                                Traceback (most recent call last)",
      "\u001b[0;32m/tmp/ipykernel_17737/561754860.py\u001b[0m in \u001b[0;36m<module>\u001b[0;34m\u001b[0m\n\u001b[1;32m      4\u001b[0m \u001b[0;34m\u001b[0m\u001b[0m\n\u001b[1;32m      5\u001b[0m \u001b[0;31m# y_test_pred = xgb.predict_proba(val)\u001b[0m\u001b[0;34m\u001b[0m\u001b[0;34m\u001b[0m\u001b[0m\n\u001b[0;32m----> 6\u001b[0;31m \u001b[0my_test_pred\u001b[0m \u001b[0;34m=\u001b[0m \u001b[0my_test_pred\u001b[0m\u001b[0;34m[\u001b[0m\u001b[0;34m:\u001b[0m\u001b[0;34m,\u001b[0m\u001b[0;36m1\u001b[0m\u001b[0;34m]\u001b[0m\u001b[0;34m\u001b[0m\u001b[0;34m\u001b[0m\u001b[0m\n\u001b[0m\u001b[1;32m      7\u001b[0m \u001b[0my_test_pred\u001b[0m\u001b[0;34m\u001b[0m\u001b[0;34m\u001b[0m\u001b[0m\n\u001b[1;32m      8\u001b[0m \u001b[0;34m\u001b[0m\u001b[0m\n",
      "\u001b[0;31mIndexError\u001b[0m: too many indices for array: array is 1-dimensional, but 2 were indexed"
     ]
    }
   ],
   "source": [
    "\n",
    "testX = test_data.values\n",
    "\n",
    "y_test_pred_proba = ADBModel.predict_proba(testX)\n",
    "\n",
    "# y_test_pred = xgb.predict_proba(val)\n",
    "y_test_pred = y_test_pred[:,1]\n",
    "y_test_pred\n",
    "\n",
    "submission_df = pd.DataFrame(y_test_pred, columns=['OUTCOME'])\n",
    "submission_df.to_csv('results/submission_df_ADB_2001.csv', index=False)\n"
   ]
  },
  {
   "cell_type": "code",
   "execution_count": 51,
   "metadata": {
    "id": "Jnyep3TmyzCm"
   },
   "outputs": [
    {
     "data": {
      "text/plain": [
       "array([[0.53653452, 0.46346548],\n",
       "       [0.5301473 , 0.4698527 ],\n",
       "       [0.53653452, 0.46346548],\n",
       "       ...,\n",
       "       [0.53653452, 0.46346548],\n",
       "       [0.53225436, 0.46774564],\n",
       "       [0.53321609, 0.46678391]])"
      ]
     },
     "execution_count": 51,
     "metadata": {},
     "output_type": "execute_result"
    }
   ],
   "source": [
    "y_test_pred_proba"
   ]
  },
  {
   "cell_type": "code",
   "execution_count": 52,
   "metadata": {},
   "outputs": [
    {
     "data": {
      "text/plain": [
       "array([0.46346548, 0.4698527 , 0.46346548, ..., 0.46346548, 0.46774564,\n",
       "       0.46678391])"
      ]
     },
     "execution_count": 52,
     "metadata": {},
     "output_type": "execute_result"
    }
   ],
   "source": [
    "y_test_pred_proba[:,1]"
   ]
  },
  {
   "cell_type": "code",
   "execution_count": 53,
   "metadata": {},
   "outputs": [],
   "source": [
    "y_test_pred = ADBModel.predict(testX)\n"
   ]
  },
  {
   "cell_type": "code",
   "execution_count": 54,
   "metadata": {},
   "outputs": [
    {
     "data": {
      "text/plain": [
       "array([0., 0., 0., ..., 0., 0., 0.])"
      ]
     },
     "execution_count": 54,
     "metadata": {},
     "output_type": "execute_result"
    }
   ],
   "source": [
    "y_test_pred"
   ]
  },
  {
   "cell_type": "markdown",
   "metadata": {},
   "source": [
    "### Neural Net"
   ]
  },
  {
   "cell_type": "code",
   "execution_count": 14,
   "metadata": {},
   "outputs": [
    {
     "name": "stderr",
     "output_type": "stream",
     "text": [
      "2022-10-29 11:53:11.755505: W tensorflow/stream_executor/platform/default/dso_loader.cc:64] Could not load dynamic library 'libcuda.so.1'; dlerror: libcuda.so.1: cannot open shared object file: No such file or directory\n",
      "2022-10-29 11:53:11.755550: W tensorflow/stream_executor/cuda/cuda_driver.cc:263] failed call to cuInit: UNKNOWN ERROR (303)\n",
      "2022-10-29 11:53:11.755581: I tensorflow/stream_executor/cuda/cuda_diagnostics.cc:156] kernel driver does not appear to be running on this host (vishnu-Lenovo-G50-80): /proc/driver/nvidia/version does not exist\n",
      "2022-10-29 11:53:11.755941: I tensorflow/core/platform/cpu_feature_guard.cc:193] This TensorFlow binary is optimized with oneAPI Deep Neural Network Library (oneDNN) to use the following CPU instructions in performance-critical operations:  AVX2 FMA\n",
      "To enable them in other operations, rebuild TensorFlow with the appropriate compiler flags.\n"
     ]
    },
    {
     "name": "stdout",
     "output_type": "stream",
     "text": [
      "Model: \"sequential\"\n",
      "_________________________________________________________________\n",
      " Layer (type)                Output Shape              Param #   \n",
      "=================================================================\n",
      " dense (Dense)               (None, 32)                1056      \n",
      "                                                                 \n",
      " dense_1 (Dense)             (None, 64)                2112      \n",
      "                                                                 \n",
      " dense_2 (Dense)             (None, 128)               8320      \n",
      "                                                                 \n",
      " dense_3 (Dense)             (None, 256)               33024     \n",
      "                                                                 \n",
      " dense_4 (Dense)             (None, 128)               32896     \n",
      "                                                                 \n",
      " dense_5 (Dense)             (None, 64)                8256      \n",
      "                                                                 \n",
      " dense_6 (Dense)             (None, 32)                2080      \n",
      "                                                                 \n",
      " dense_7 (Dense)             (None, 1)                 33        \n",
      "                                                                 \n",
      "=================================================================\n",
      "Total params: 87,777\n",
      "Trainable params: 87,777\n",
      "Non-trainable params: 0\n",
      "_________________________________________________________________\n"
     ]
    }
   ],
   "source": [
    "\n",
    "from keras import backend as K\n",
    "import keras\n",
    "import numpy as np\n",
    "from tensorflow.python.ops import math_ops\n",
    "\n",
    "from keras.callbacks import ModelCheckpoint\n",
    "from keras.models import Sequential\n",
    "from keras.layers import Dense, Activation, Flatten\n",
    "\n",
    "n_inputs, n_outputs = X.shape[1], 1\n",
    "\n",
    "NN_model = Sequential()\n",
    "NN_model.add(Dense(32, input_dim=n_inputs, kernel_initializer='he_uniform', activation='relu'))\n",
    "\n",
    "\n",
    "# The Hidden Layers :\n",
    "NN_model.add(Dense(64, kernel_initializer='normal',activation='relu'))\n",
    "NN_model.add(Dense(128, kernel_initializer='normal',activation='relu'))\n",
    "NN_model.add(Dense(256, kernel_initializer='normal',activation='relu'))\n",
    "NN_model.add(Dense(128, kernel_initializer='normal',activation='relu'))\n",
    "NN_model.add(Dense(64, kernel_initializer='normal',activation='relu'))\n",
    "NN_model.add(Dense(32, kernel_initializer='normal',activation='relu'))\n",
    "\n",
    "NN_model.add(Dense(n_outputs, activation='sigmoid'))\n",
    "NN_model.compile(loss='binary_crossentropy', optimizer='adam')\n",
    "\n",
    "# # The Output Layer :\n",
    "# NN_model.add(Dense(1, kernel_initializer='normal',activation='sigmoid'))\n",
    "\n",
    "# # Compile the network :\n",
    "# NN_model.compile(loss=log_loss, metrics=['mean_absolute_error'])\n",
    "NN_model.summary()"
   ]
  },
  {
   "cell_type": "code",
   "execution_count": 15,
   "metadata": {
    "scrolled": true,
    "tags": []
   },
   "outputs": [
    {
     "name": "stdout",
     "output_type": "stream",
     "text": [
      "Epoch 1/150\n",
      "1313/1313 [==============================] - 5s 4ms/step - loss: 0.7024 - val_loss: 0.6806\n",
      "Epoch 2/150\n",
      "1313/1313 [==============================] - 5s 4ms/step - loss: 0.6822 - val_loss: 0.6805\n",
      "Epoch 3/150\n",
      "1313/1313 [==============================] - 4s 3ms/step - loss: 0.6816 - val_loss: 0.6804\n",
      "Epoch 4/150\n",
      "1313/1313 [==============================] - 5s 3ms/step - loss: 0.6814 - val_loss: 0.6805\n",
      "Epoch 5/150\n",
      "1313/1313 [==============================] - 5s 4ms/step - loss: 0.6813 - val_loss: 0.6806\n",
      "Epoch 6/150\n",
      "1313/1313 [==============================] - 7s 5ms/step - loss: 0.6814 - val_loss: 0.6804\n",
      "Epoch 7/150\n",
      "1313/1313 [==============================] - 8s 6ms/step - loss: 0.6814 - val_loss: 0.6804\n",
      "Epoch 8/150\n",
      "1313/1313 [==============================] - 4s 3ms/step - loss: 0.6814 - val_loss: 0.6804\n",
      "Epoch 9/150\n",
      "1313/1313 [==============================] - 4s 3ms/step - loss: 0.6814 - val_loss: 0.6804\n",
      "Epoch 10/150\n",
      "1313/1313 [==============================] - 4s 3ms/step - loss: 0.6814 - val_loss: 0.6805\n",
      "Epoch 11/150\n",
      "1313/1313 [==============================] - 4s 3ms/step - loss: 0.6814 - val_loss: 0.6805\n",
      "Epoch 12/150\n",
      "1313/1313 [==============================] - 4s 3ms/step - loss: 0.6813 - val_loss: 0.6804\n",
      "Epoch 13/150\n",
      "1313/1313 [==============================] - 4s 3ms/step - loss: 0.6813 - val_loss: 0.6804\n",
      "Epoch 14/150\n",
      "1313/1313 [==============================] - 4s 3ms/step - loss: 0.6814 - val_loss: 0.6804\n",
      "Epoch 15/150\n",
      "1313/1313 [==============================] - 5s 4ms/step - loss: 0.6814 - val_loss: 0.6805\n",
      "Epoch 16/150\n",
      "1313/1313 [==============================] - 5s 4ms/step - loss: 0.6814 - val_loss: 0.6804\n",
      "Epoch 17/150\n",
      "1313/1313 [==============================] - 5s 4ms/step - loss: 0.6813 - val_loss: 0.6805\n",
      "Epoch 18/150\n",
      "1313/1313 [==============================] - 5s 4ms/step - loss: 0.6814 - val_loss: 0.6804\n",
      "Epoch 19/150\n",
      "1313/1313 [==============================] - 5s 4ms/step - loss: 0.6814 - val_loss: 0.6804\n",
      "Epoch 20/150\n",
      "1313/1313 [==============================] - 5s 4ms/step - loss: 0.6813 - val_loss: 0.6804\n",
      "Epoch 21/150\n",
      "1313/1313 [==============================] - 5s 4ms/step - loss: 0.6813 - val_loss: 0.6805\n",
      "Epoch 22/150\n",
      "1313/1313 [==============================] - 5s 4ms/step - loss: 0.6813 - val_loss: 0.6805\n",
      "Epoch 23/150\n",
      "1313/1313 [==============================] - 5s 4ms/step - loss: 0.6813 - val_loss: 0.6804\n",
      "Epoch 24/150\n",
      "1313/1313 [==============================] - 5s 4ms/step - loss: 0.6813 - val_loss: 0.6804\n",
      "Epoch 25/150\n",
      "1313/1313 [==============================] - 5s 4ms/step - loss: 0.6813 - val_loss: 0.6805\n",
      "Epoch 26/150\n",
      "1313/1313 [==============================] - 5s 4ms/step - loss: 0.6813 - val_loss: 0.6804\n",
      "Epoch 27/150\n",
      "1313/1313 [==============================] - 5s 4ms/step - loss: 0.6814 - val_loss: 0.6804\n",
      "Epoch 28/150\n",
      "1313/1313 [==============================] - 5s 4ms/step - loss: 0.6813 - val_loss: 0.6804\n",
      "Epoch 29/150\n",
      "1313/1313 [==============================] - 5s 4ms/step - loss: 0.6813 - val_loss: 0.6804\n",
      "Epoch 30/150\n",
      "1313/1313 [==============================] - 5s 4ms/step - loss: 0.6814 - val_loss: 0.6804\n",
      "Epoch 31/150\n",
      "1313/1313 [==============================] - 5s 4ms/step - loss: 0.6814 - val_loss: 0.6805\n",
      "Epoch 32/150\n",
      "1313/1313 [==============================] - 5s 4ms/step - loss: 0.6813 - val_loss: 0.6805\n",
      "Epoch 33/150\n",
      "1313/1313 [==============================] - 5s 4ms/step - loss: 0.6813 - val_loss: 0.6804\n",
      "Epoch 34/150\n",
      "1313/1313 [==============================] - 4s 3ms/step - loss: 0.6813 - val_loss: 0.6804\n",
      "Epoch 35/150\n",
      "1313/1313 [==============================] - 4s 3ms/step - loss: 0.6814 - val_loss: 0.6804\n",
      "Epoch 36/150\n",
      "1313/1313 [==============================] - 5s 4ms/step - loss: 0.6813 - val_loss: 0.6804\n",
      "Epoch 37/150\n",
      "1313/1313 [==============================] - 5s 4ms/step - loss: 0.6814 - val_loss: 0.6804\n",
      "Epoch 38/150\n",
      "1313/1313 [==============================] - 4s 3ms/step - loss: 0.6813 - val_loss: 0.6805\n",
      "Epoch 39/150\n",
      "1313/1313 [==============================] - 4s 3ms/step - loss: 0.6813 - val_loss: 0.6804\n",
      "Epoch 40/150\n",
      "1313/1313 [==============================] - 4s 3ms/step - loss: 0.6814 - val_loss: 0.6804\n",
      "Epoch 41/150\n",
      "1313/1313 [==============================] - 4s 3ms/step - loss: 0.6813 - val_loss: 0.6804\n",
      "Epoch 42/150\n",
      "1313/1313 [==============================] - 4s 3ms/step - loss: 0.6813 - val_loss: 0.6804\n",
      "Epoch 43/150\n",
      "1313/1313 [==============================] - 4s 3ms/step - loss: 0.6814 - val_loss: 0.6804\n",
      "Epoch 44/150\n",
      "1313/1313 [==============================] - 4s 3ms/step - loss: 0.6813 - val_loss: 0.6804\n",
      "Epoch 45/150\n",
      "1313/1313 [==============================] - 5s 4ms/step - loss: 0.6813 - val_loss: 0.6805\n",
      "Epoch 46/150\n",
      "1313/1313 [==============================] - 5s 4ms/step - loss: 0.6813 - val_loss: 0.6805\n",
      "Epoch 47/150\n",
      "1313/1313 [==============================] - 5s 3ms/step - loss: 0.6813 - val_loss: 0.6806\n",
      "Epoch 48/150\n",
      "1313/1313 [==============================] - 5s 4ms/step - loss: 0.6814 - val_loss: 0.6804\n",
      "Epoch 49/150\n",
      "1313/1313 [==============================] - 5s 4ms/step - loss: 0.6813 - val_loss: 0.6804\n",
      "Epoch 50/150\n",
      "1313/1313 [==============================] - 5s 4ms/step - loss: 0.6814 - val_loss: 0.6805\n",
      "Epoch 51/150\n",
      "1313/1313 [==============================] - 5s 4ms/step - loss: 0.6813 - val_loss: 0.6804\n",
      "Epoch 52/150\n",
      "1313/1313 [==============================] - 5s 4ms/step - loss: 0.6813 - val_loss: 0.6804\n",
      "Epoch 53/150\n",
      "1313/1313 [==============================] - 5s 4ms/step - loss: 0.6813 - val_loss: 0.6805\n",
      "Epoch 54/150\n",
      "1313/1313 [==============================] - 5s 3ms/step - loss: 0.6813 - val_loss: 0.6804\n",
      "Epoch 55/150\n",
      "1313/1313 [==============================] - 4s 3ms/step - loss: 0.6813 - val_loss: 0.6804\n",
      "Epoch 56/150\n",
      "1313/1313 [==============================] - 4s 3ms/step - loss: 0.6813 - val_loss: 0.6805\n",
      "Epoch 57/150\n",
      "1313/1313 [==============================] - 4s 3ms/step - loss: 0.6814 - val_loss: 0.6804\n",
      "Epoch 58/150\n",
      "1313/1313 [==============================] - 5s 4ms/step - loss: 0.6813 - val_loss: 0.6804\n",
      "Epoch 59/150\n",
      "1313/1313 [==============================] - 4s 3ms/step - loss: 0.6813 - val_loss: 0.6805\n",
      "Epoch 60/150\n",
      "1313/1313 [==============================] - 4s 3ms/step - loss: 0.6813 - val_loss: 0.6805\n",
      "Epoch 61/150\n",
      "1313/1313 [==============================] - 4s 3ms/step - loss: 0.6813 - val_loss: 0.6804\n",
      "Epoch 62/150\n",
      "1313/1313 [==============================] - 5s 4ms/step - loss: 0.6813 - val_loss: 0.6804\n",
      "Epoch 63/150\n",
      "1313/1313 [==============================] - 5s 4ms/step - loss: 0.6813 - val_loss: 0.6805\n",
      "Epoch 64/150\n",
      "1313/1313 [==============================] - 5s 4ms/step - loss: 0.6813 - val_loss: 0.6804\n",
      "Epoch 65/150\n",
      "1313/1313 [==============================] - 5s 4ms/step - loss: 0.6813 - val_loss: 0.6805\n",
      "Epoch 66/150\n",
      "1313/1313 [==============================] - 4s 3ms/step - loss: 0.6813 - val_loss: 0.6804\n",
      "Epoch 67/150\n",
      "1313/1313 [==============================] - 5s 4ms/step - loss: 0.6813 - val_loss: 0.6804\n",
      "Epoch 68/150\n",
      "1313/1313 [==============================] - 5s 4ms/step - loss: 0.6813 - val_loss: 0.6804\n",
      "Epoch 69/150\n",
      "1313/1313 [==============================] - 5s 4ms/step - loss: 0.6813 - val_loss: 0.6805\n",
      "Epoch 70/150\n",
      "1313/1313 [==============================] - 5s 3ms/step - loss: 0.6813 - val_loss: 0.6804\n",
      "Epoch 71/150\n",
      "1313/1313 [==============================] - 4s 3ms/step - loss: 0.6813 - val_loss: 0.6804\n",
      "Epoch 72/150\n",
      "1313/1313 [==============================] - 4s 3ms/step - loss: 0.6813 - val_loss: 0.6805\n",
      "Epoch 73/150\n",
      "1313/1313 [==============================] - 5s 4ms/step - loss: 0.6813 - val_loss: 0.6805\n",
      "Epoch 74/150\n",
      "1313/1313 [==============================] - 4s 3ms/step - loss: 0.6813 - val_loss: 0.6804\n",
      "Epoch 75/150\n",
      "1313/1313 [==============================] - 4s 3ms/step - loss: 0.6813 - val_loss: 0.6804\n",
      "Epoch 76/150\n",
      "1313/1313 [==============================] - 6s 5ms/step - loss: 0.6813 - val_loss: 0.6804\n",
      "Epoch 77/150\n",
      "1313/1313 [==============================] - 6s 4ms/step - loss: 0.6813 - val_loss: 0.6804\n",
      "Epoch 78/150\n",
      "1313/1313 [==============================] - 5s 4ms/step - loss: 0.6813 - val_loss: 0.6804\n",
      "Epoch 79/150\n",
      "1313/1313 [==============================] - 4s 3ms/step - loss: 0.6813 - val_loss: 0.6805\n",
      "Epoch 80/150\n",
      "1313/1313 [==============================] - 5s 3ms/step - loss: 0.6813 - val_loss: 0.6804\n",
      "Epoch 81/150\n",
      "1313/1313 [==============================] - 4s 3ms/step - loss: 0.6813 - val_loss: 0.6804\n",
      "Epoch 82/150\n",
      "1313/1313 [==============================] - 5s 4ms/step - loss: 0.6813 - val_loss: 0.6804\n",
      "Epoch 83/150\n",
      "1313/1313 [==============================] - 4s 3ms/step - loss: 0.6813 - val_loss: 0.6804\n",
      "Epoch 84/150\n",
      "1313/1313 [==============================] - 4s 3ms/step - loss: 0.6813 - val_loss: 0.6805\n",
      "Epoch 85/150\n",
      "1313/1313 [==============================] - 4s 3ms/step - loss: 0.6813 - val_loss: 0.6804\n",
      "Epoch 86/150\n",
      "1313/1313 [==============================] - 5s 3ms/step - loss: 0.6813 - val_loss: 0.6806\n",
      "Epoch 87/150\n",
      "1313/1313 [==============================] - 5s 4ms/step - loss: 0.6813 - val_loss: 0.6804\n",
      "Epoch 88/150\n",
      "1313/1313 [==============================] - 5s 4ms/step - loss: 0.6813 - val_loss: 0.6804\n",
      "Epoch 89/150\n",
      "1313/1313 [==============================] - 5s 4ms/step - loss: 0.6814 - val_loss: 0.6804\n",
      "Epoch 90/150\n",
      "1313/1313 [==============================] - 5s 4ms/step - loss: 0.6813 - val_loss: 0.6804\n",
      "Epoch 91/150\n",
      "1313/1313 [==============================] - 4s 3ms/step - loss: 0.6813 - val_loss: 0.6804\n",
      "Epoch 92/150\n",
      "1313/1313 [==============================] - 6s 4ms/step - loss: 0.6813 - val_loss: 0.6804\n",
      "Epoch 93/150\n",
      "1313/1313 [==============================] - 6s 5ms/step - loss: 0.6813 - val_loss: 0.6805\n",
      "Epoch 94/150\n",
      "1313/1313 [==============================] - 4s 3ms/step - loss: 0.6813 - val_loss: 0.6804\n",
      "Epoch 95/150\n",
      "1313/1313 [==============================] - 4s 3ms/step - loss: 0.6813 - val_loss: 0.6804\n",
      "Epoch 96/150\n",
      "1313/1313 [==============================] - 5s 3ms/step - loss: 0.6813 - val_loss: 0.6804\n",
      "Epoch 97/150\n",
      "1313/1313 [==============================] - 4s 3ms/step - loss: 0.6813 - val_loss: 0.6805\n",
      "Epoch 98/150\n",
      "1313/1313 [==============================] - 5s 4ms/step - loss: 0.6813 - val_loss: 0.6804\n",
      "Epoch 99/150\n",
      "1313/1313 [==============================] - 5s 3ms/step - loss: 0.6813 - val_loss: 0.6805\n",
      "Epoch 100/150\n",
      "1313/1313 [==============================] - 4s 3ms/step - loss: 0.6813 - val_loss: 0.6805\n",
      "Epoch 101/150\n",
      "1313/1313 [==============================] - 5s 3ms/step - loss: 0.6813 - val_loss: 0.6805\n",
      "Epoch 102/150\n",
      "1313/1313 [==============================] - 5s 3ms/step - loss: 0.6813 - val_loss: 0.6804\n",
      "Epoch 103/150\n",
      "1313/1313 [==============================] - 5s 4ms/step - loss: 0.6813 - val_loss: 0.6804\n",
      "Epoch 104/150\n",
      "1313/1313 [==============================] - 4s 3ms/step - loss: 0.6813 - val_loss: 0.6804\n",
      "Epoch 105/150\n",
      "1313/1313 [==============================] - 5s 4ms/step - loss: 0.6813 - val_loss: 0.6804\n",
      "Epoch 106/150\n",
      "1313/1313 [==============================] - 5s 3ms/step - loss: 0.6813 - val_loss: 0.6804\n",
      "Epoch 107/150\n",
      "1313/1313 [==============================] - 5s 4ms/step - loss: 0.6813 - val_loss: 0.6805\n",
      "Epoch 108/150\n",
      "1313/1313 [==============================] - 4s 3ms/step - loss: 0.6813 - val_loss: 0.6804\n",
      "Epoch 109/150\n",
      "1313/1313 [==============================] - 4s 3ms/step - loss: 0.6813 - val_loss: 0.6804\n",
      "Epoch 110/150\n",
      "1313/1313 [==============================] - 5s 4ms/step - loss: 0.6813 - val_loss: 0.6804\n",
      "Epoch 111/150\n",
      "1313/1313 [==============================] - 5s 4ms/step - loss: 0.6813 - val_loss: 0.6805\n",
      "Epoch 112/150\n",
      "1313/1313 [==============================] - 5s 3ms/step - loss: 0.6813 - val_loss: 0.6804\n",
      "Epoch 113/150\n",
      "1313/1313 [==============================] - 5s 3ms/step - loss: 0.6813 - val_loss: 0.6804\n",
      "Epoch 114/150\n",
      "1313/1313 [==============================] - 5s 4ms/step - loss: 0.6813 - val_loss: 0.6805\n",
      "Epoch 115/150\n",
      "1313/1313 [==============================] - 6s 4ms/step - loss: 0.6813 - val_loss: 0.6804\n",
      "Epoch 116/150\n",
      "1313/1313 [==============================] - 5s 3ms/step - loss: 0.6813 - val_loss: 0.6804\n",
      "Epoch 117/150\n",
      "1313/1313 [==============================] - 5s 4ms/step - loss: 0.6813 - val_loss: 0.6804\n",
      "Epoch 118/150\n",
      "1313/1313 [==============================] - 4s 3ms/step - loss: 0.6813 - val_loss: 0.6805\n",
      "Epoch 119/150\n",
      "1313/1313 [==============================] - 6s 4ms/step - loss: 0.6813 - val_loss: 0.6804\n",
      "Epoch 120/150\n",
      "1313/1313 [==============================] - 6s 4ms/step - loss: 0.6813 - val_loss: 0.6804\n",
      "Epoch 121/150\n",
      "1313/1313 [==============================] - 5s 4ms/step - loss: 0.6813 - val_loss: 0.6805\n",
      "Epoch 122/150\n",
      "1313/1313 [==============================] - 5s 4ms/step - loss: 0.6813 - val_loss: 0.6804\n",
      "Epoch 123/150\n",
      "1313/1313 [==============================] - 6s 4ms/step - loss: 0.6813 - val_loss: 0.6804\n",
      "Epoch 124/150\n",
      "1313/1313 [==============================] - 5s 4ms/step - loss: 0.6813 - val_loss: 0.6804\n",
      "Epoch 125/150\n",
      "1313/1313 [==============================] - 4s 3ms/step - loss: 0.6813 - val_loss: 0.6804\n",
      "Epoch 126/150\n",
      "1313/1313 [==============================] - 4s 3ms/step - loss: 0.6813 - val_loss: 0.6804\n",
      "Epoch 127/150\n",
      "1313/1313 [==============================] - 4s 3ms/step - loss: 0.6813 - val_loss: 0.6804\n",
      "Epoch 128/150\n",
      "1313/1313 [==============================] - 4s 3ms/step - loss: 0.6813 - val_loss: 0.6805\n",
      "Epoch 129/150\n",
      "1313/1313 [==============================] - 4s 3ms/step - loss: 0.6813 - val_loss: 0.6804\n",
      "Epoch 130/150\n",
      "1313/1313 [==============================] - 4s 3ms/step - loss: 0.6813 - val_loss: 0.6804\n",
      "Epoch 131/150\n",
      "1313/1313 [==============================] - 4s 3ms/step - loss: 0.6813 - val_loss: 0.6805\n",
      "Epoch 132/150\n",
      "1313/1313 [==============================] - 6s 4ms/step - loss: 0.6813 - val_loss: 0.6804\n",
      "Epoch 133/150\n",
      "1313/1313 [==============================] - 6s 5ms/step - loss: 0.6813 - val_loss: 0.6804\n",
      "Epoch 134/150\n",
      "1313/1313 [==============================] - 5s 4ms/step - loss: 0.6813 - val_loss: 0.6804\n",
      "Epoch 135/150\n",
      "1313/1313 [==============================] - 5s 4ms/step - loss: 0.6813 - val_loss: 0.6804\n",
      "Epoch 136/150\n",
      "1313/1313 [==============================] - 4s 3ms/step - loss: 0.6813 - val_loss: 0.6805\n",
      "Epoch 137/150\n",
      "1313/1313 [==============================] - 4s 3ms/step - loss: 0.6813 - val_loss: 0.6805\n",
      "Epoch 138/150\n",
      "1313/1313 [==============================] - 6s 4ms/step - loss: 0.6813 - val_loss: 0.6804\n",
      "Epoch 139/150\n",
      "1313/1313 [==============================] - 5s 3ms/step - loss: 0.6813 - val_loss: 0.6804\n",
      "Epoch 140/150\n",
      "1313/1313 [==============================] - 5s 4ms/step - loss: 0.6813 - val_loss: 0.6804\n",
      "Epoch 141/150\n",
      "1313/1313 [==============================] - 5s 4ms/step - loss: 0.6813 - val_loss: 0.6804\n",
      "Epoch 142/150\n",
      "1313/1313 [==============================] - 5s 4ms/step - loss: 0.6813 - val_loss: 0.6804\n",
      "Epoch 143/150\n",
      "1313/1313 [==============================] - 4s 3ms/step - loss: 0.6813 - val_loss: 0.6804\n",
      "Epoch 144/150\n",
      "1313/1313 [==============================] - 5s 4ms/step - loss: 0.6813 - val_loss: 0.6805\n",
      "Epoch 145/150\n",
      "1313/1313 [==============================] - 6s 4ms/step - loss: 0.6813 - val_loss: 0.6804\n",
      "Epoch 146/150\n",
      "1313/1313 [==============================] - 6s 5ms/step - loss: 0.6813 - val_loss: 0.6804\n",
      "Epoch 147/150\n",
      "1313/1313 [==============================] - 8s 6ms/step - loss: 0.6813 - val_loss: 0.6804\n",
      "Epoch 148/150\n",
      "1313/1313 [==============================] - 7s 5ms/step - loss: 0.6813 - val_loss: 0.6805\n",
      "Epoch 149/150\n",
      "1313/1313 [==============================] - 6s 4ms/step - loss: 0.6813 - val_loss: 0.6804\n",
      "Epoch 150/150\n",
      "1313/1313 [==============================] - 5s 4ms/step - loss: 0.6813 - val_loss: 0.6804\n"
     ]
    },
    {
     "data": {
      "text/plain": [
       "<keras.callbacks.History at 0x7fece4249570>"
      ]
     },
     "execution_count": 15,
     "metadata": {},
     "output_type": "execute_result"
    }
   ],
   "source": [
    "NN_model.fit(X, y, epochs=150, batch_size=64, validation_split = 0.2, callbacks=None)"
   ]
  },
  {
   "cell_type": "code",
   "execution_count": 16,
   "metadata": {},
   "outputs": [
    {
     "name": "stdout",
     "output_type": "stream",
     "text": [
      "1407/1407 [==============================] - 2s 1ms/step\n"
     ]
    }
   ],
   "source": [
    "\n",
    "testX = test_data.values\n",
    "\n",
    "predictions = NN_model.predict(testX)\n"
   ]
  },
  {
   "cell_type": "code",
   "execution_count": 18,
   "metadata": {},
   "outputs": [],
   "source": [
    "submission_df_NN = pd.DataFrame(predictions)\n",
    "submission_df_NN.columns = [\"OUTCOME\"]\n",
    "submission_df_NN.to_csv('results/submission_oh_NN.csv', index=False)\n"
   ]
  },
  {
   "cell_type": "code",
   "execution_count": 17,
   "metadata": {},
   "outputs": [
    {
     "data": {
      "text/html": [
       "<div>\n",
       "<style scoped>\n",
       "    .dataframe tbody tr th:only-of-type {\n",
       "        vertical-align: middle;\n",
       "    }\n",
       "\n",
       "    .dataframe tbody tr th {\n",
       "        vertical-align: top;\n",
       "    }\n",
       "\n",
       "    .dataframe thead th {\n",
       "        text-align: right;\n",
       "    }\n",
       "</style>\n",
       "<table border=\"1\" class=\"dataframe\">\n",
       "  <thead>\n",
       "    <tr style=\"text-align: right;\">\n",
       "      <th></th>\n",
       "      <th>CREDIT_SCORE</th>\n",
       "      <th>VEHICLE_OWNERSHIP</th>\n",
       "      <th>MARRIED</th>\n",
       "      <th>CHILDREN</th>\n",
       "      <th>POSTAL_CODE</th>\n",
       "      <th>ANNUAL_MILEAGE</th>\n",
       "      <th>SPEEDING_VIOLATIONS</th>\n",
       "      <th>DUIS</th>\n",
       "      <th>PAST_ACCIDENTS</th>\n",
       "      <th>AGE_16-25</th>\n",
       "      <th>...</th>\n",
       "      <th>INCOME_middle class</th>\n",
       "      <th>INCOME_poverty</th>\n",
       "      <th>INCOME_upper class</th>\n",
       "      <th>INCOME_working class</th>\n",
       "      <th>VEHICLE_YEAR_after 2015</th>\n",
       "      <th>VEHICLE_YEAR_before 2015</th>\n",
       "      <th>TYPE_OF_VEHICLE_HatchBack</th>\n",
       "      <th>TYPE_OF_VEHICLE_SUV</th>\n",
       "      <th>TYPE_OF_VEHICLE_Sedan</th>\n",
       "      <th>TYPE_OF_VEHICLE_Sports Car</th>\n",
       "    </tr>\n",
       "  </thead>\n",
       "  <tbody>\n",
       "    <tr>\n",
       "      <th>0</th>\n",
       "      <td>0.814707</td>\n",
       "      <td>1.0</td>\n",
       "      <td>0.0</td>\n",
       "      <td>1.0</td>\n",
       "      <td>10238</td>\n",
       "      <td>10000.0</td>\n",
       "      <td>0</td>\n",
       "      <td>0</td>\n",
       "      <td>0</td>\n",
       "      <td>0</td>\n",
       "      <td>...</td>\n",
       "      <td>0</td>\n",
       "      <td>0</td>\n",
       "      <td>0</td>\n",
       "      <td>1</td>\n",
       "      <td>1</td>\n",
       "      <td>0</td>\n",
       "      <td>1</td>\n",
       "      <td>0</td>\n",
       "      <td>0</td>\n",
       "      <td>0</td>\n",
       "    </tr>\n",
       "    <tr>\n",
       "      <th>1</th>\n",
       "      <td>0.344051</td>\n",
       "      <td>1.0</td>\n",
       "      <td>0.0</td>\n",
       "      <td>0.0</td>\n",
       "      <td>34073</td>\n",
       "      <td>13000.0</td>\n",
       "      <td>0</td>\n",
       "      <td>0</td>\n",
       "      <td>0</td>\n",
       "      <td>0</td>\n",
       "      <td>...</td>\n",
       "      <td>0</td>\n",
       "      <td>0</td>\n",
       "      <td>1</td>\n",
       "      <td>0</td>\n",
       "      <td>0</td>\n",
       "      <td>1</td>\n",
       "      <td>0</td>\n",
       "      <td>0</td>\n",
       "      <td>1</td>\n",
       "      <td>0</td>\n",
       "    </tr>\n",
       "    <tr>\n",
       "      <th>2</th>\n",
       "      <td>0.620691</td>\n",
       "      <td>0.0</td>\n",
       "      <td>1.0</td>\n",
       "      <td>0.0</td>\n",
       "      <td>10238</td>\n",
       "      <td>12000.0</td>\n",
       "      <td>0</td>\n",
       "      <td>0</td>\n",
       "      <td>0</td>\n",
       "      <td>0</td>\n",
       "      <td>...</td>\n",
       "      <td>0</td>\n",
       "      <td>0</td>\n",
       "      <td>1</td>\n",
       "      <td>0</td>\n",
       "      <td>1</td>\n",
       "      <td>0</td>\n",
       "      <td>0</td>\n",
       "      <td>1</td>\n",
       "      <td>0</td>\n",
       "      <td>0</td>\n",
       "    </tr>\n",
       "    <tr>\n",
       "      <th>3</th>\n",
       "      <td>0.689658</td>\n",
       "      <td>1.0</td>\n",
       "      <td>1.0</td>\n",
       "      <td>1.0</td>\n",
       "      <td>10238</td>\n",
       "      <td>16000.0</td>\n",
       "      <td>1</td>\n",
       "      <td>0</td>\n",
       "      <td>0</td>\n",
       "      <td>0</td>\n",
       "      <td>...</td>\n",
       "      <td>0</td>\n",
       "      <td>0</td>\n",
       "      <td>1</td>\n",
       "      <td>0</td>\n",
       "      <td>1</td>\n",
       "      <td>0</td>\n",
       "      <td>0</td>\n",
       "      <td>1</td>\n",
       "      <td>0</td>\n",
       "      <td>0</td>\n",
       "    </tr>\n",
       "    <tr>\n",
       "      <th>4</th>\n",
       "      <td>0.755666</td>\n",
       "      <td>0.0</td>\n",
       "      <td>0.0</td>\n",
       "      <td>1.0</td>\n",
       "      <td>92101</td>\n",
       "      <td>14000.0</td>\n",
       "      <td>2</td>\n",
       "      <td>0</td>\n",
       "      <td>0</td>\n",
       "      <td>0</td>\n",
       "      <td>...</td>\n",
       "      <td>1</td>\n",
       "      <td>0</td>\n",
       "      <td>0</td>\n",
       "      <td>0</td>\n",
       "      <td>1</td>\n",
       "      <td>0</td>\n",
       "      <td>1</td>\n",
       "      <td>0</td>\n",
       "      <td>0</td>\n",
       "      <td>0</td>\n",
       "    </tr>\n",
       "  </tbody>\n",
       "</table>\n",
       "<p>5 rows × 32 columns</p>\n",
       "</div>"
      ],
      "text/plain": [
       "   CREDIT_SCORE  VEHICLE_OWNERSHIP  MARRIED  CHILDREN  POSTAL_CODE  \\\n",
       "0      0.814707                1.0      0.0       1.0        10238   \n",
       "1      0.344051                1.0      0.0       0.0        34073   \n",
       "2      0.620691                0.0      1.0       0.0        10238   \n",
       "3      0.689658                1.0      1.0       1.0        10238   \n",
       "4      0.755666                0.0      0.0       1.0        92101   \n",
       "\n",
       "   ANNUAL_MILEAGE  SPEEDING_VIOLATIONS  DUIS  PAST_ACCIDENTS  AGE_16-25  ...  \\\n",
       "0         10000.0                    0     0               0          0  ...   \n",
       "1         13000.0                    0     0               0          0  ...   \n",
       "2         12000.0                    0     0               0          0  ...   \n",
       "3         16000.0                    1     0               0          0  ...   \n",
       "4         14000.0                    2     0               0          0  ...   \n",
       "\n",
       "   INCOME_middle class  INCOME_poverty  INCOME_upper class  \\\n",
       "0                    0               0                   0   \n",
       "1                    0               0                   1   \n",
       "2                    0               0                   1   \n",
       "3                    0               0                   1   \n",
       "4                    1               0                   0   \n",
       "\n",
       "   INCOME_working class  VEHICLE_YEAR_after 2015  VEHICLE_YEAR_before 2015  \\\n",
       "0                     1                        1                         0   \n",
       "1                     0                        0                         1   \n",
       "2                     0                        1                         0   \n",
       "3                     0                        1                         0   \n",
       "4                     0                        1                         0   \n",
       "\n",
       "   TYPE_OF_VEHICLE_HatchBack  TYPE_OF_VEHICLE_SUV  TYPE_OF_VEHICLE_Sedan  \\\n",
       "0                          1                    0                      0   \n",
       "1                          0                    0                      1   \n",
       "2                          0                    1                      0   \n",
       "3                          0                    1                      0   \n",
       "4                          1                    0                      0   \n",
       "\n",
       "   TYPE_OF_VEHICLE_Sports Car  \n",
       "0                           0  \n",
       "1                           0  \n",
       "2                           0  \n",
       "3                           0  \n",
       "4                           0  \n",
       "\n",
       "[5 rows x 32 columns]"
      ]
     },
     "execution_count": 17,
     "metadata": {},
     "output_type": "execute_result"
    }
   ],
   "source": []
  },
  {
   "cell_type": "markdown",
   "metadata": {},
   "source": [
    "### END"
   ]
  },
  {
   "cell_type": "code",
   "execution_count": null,
   "metadata": {},
   "outputs": [],
   "source": []
  }
 ],
 "metadata": {
  "accelerator": "GPU",
  "colab": {
   "collapsed_sections": [],
   "provenance": []
  },
  "kernelspec": {
   "display_name": "Python 3 (ipykernel)",
   "language": "python",
   "name": "python3"
  },
  "language_info": {
   "codemirror_mode": {
    "name": "ipython",
    "version": 3
   },
   "file_extension": ".py",
   "mimetype": "text/x-python",
   "name": "python",
   "nbconvert_exporter": "python",
   "pygments_lexer": "ipython3",
   "version": "3.10.6"
  }
 },
 "nbformat": 4,
 "nbformat_minor": 4
}

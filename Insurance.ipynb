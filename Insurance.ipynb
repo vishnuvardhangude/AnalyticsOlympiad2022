{
 "cells": [
  {
   "cell_type": "code",
   "execution_count": 17,
   "metadata": {
    "id": "i9sPWRfK4OBS"
   },
   "outputs": [],
   "source": [
    "import pandas as pd\n",
    "import math\n",
    "from sklearn import preprocessing\n",
    "import numpy as np\n",
    "from sklearn.metrics import log_loss\n"
   ]
  },
  {
   "cell_type": "code",
   "execution_count": null,
   "metadata": {
    "colab": {
     "base_uri": "https://localhost:8080/"
    },
    "id": "VJx5dEvv4pHi",
    "outputId": "104b510c-0892-4fb2-aea5-b44d586966bf"
   },
   "outputs": [
    {
     "name": "stdout",
     "output_type": "stream",
     "text": [
      "Mounted at /content/drive\n"
     ]
    }
   ],
   "source": [
    "from google.colab import drive\n",
    "drive.mount('/content/drive')"
   ]
  },
  {
   "cell_type": "code",
   "execution_count": 18,
   "metadata": {
    "id": "JPVMrY434qp_"
   },
   "outputs": [],
   "source": [
    "data_path = \"/home/vishnu/ML/challenges/AnalyticsOlympiad2022/data/\"\n",
    "\n",
    "train_data_path = data_path+\"train.csv\"\n",
    "test_data_path = data_path+\"test.csv\""
   ]
  },
  {
   "cell_type": "code",
   "execution_count": 19,
   "metadata": {
    "id": "HfAOu8oj5HiW"
   },
   "outputs": [],
   "source": [
    "import pandas as pd\n",
    "\n",
    "train_data = pd.read_csv(train_data_path)\n",
    "test_data = pd.read_csv(test_data_path)"
   ]
  },
  {
   "cell_type": "code",
   "execution_count": 20,
   "metadata": {
    "colab": {
     "base_uri": "https://localhost:8080/"
    },
    "id": "sn2qq-Rg5mME",
    "outputId": "22a6589b-91d7-4655-ae0b-2b5e42391f8d"
   },
   "outputs": [],
   "source": [
    "from sklearn import preprocessing\n",
    "\n",
    "le = preprocessing.LabelEncoder()\n",
    "\n",
    "for col in train_data.columns:\n",
    "  # print(col)\n",
    "  if(col not in ('ID')):\n",
    "    # print(col, train_data[col].dtypes)\n",
    "    if(train_data[col].dtypes=='object'):\n",
    "      le.fit(list(train_data[col]))\n",
    "      train_data[col] = le.transform(list(train_data[col]))\n"
   ]
  },
  {
   "cell_type": "code",
   "execution_count": 21,
   "metadata": {
    "colab": {
     "base_uri": "https://localhost:8080/",
     "height": 357
    },
    "id": "O2r4C9QjALwi",
    "outputId": "50641c74-03c8-4eb0-e3fe-29d4cb6939c9"
   },
   "outputs": [],
   "source": [
    "# test_data.head()"
   ]
  },
  {
   "cell_type": "code",
   "execution_count": 22,
   "metadata": {
    "colab": {
     "base_uri": "https://localhost:8080/"
    },
    "id": "SyECiq92AGSH",
    "outputId": "3754e0af-8bd9-4964-db33-f157b7a9cc33"
   },
   "outputs": [],
   "source": [
    "\n",
    "\n",
    "from sklearn import preprocessing\n",
    "\n",
    "le = preprocessing.LabelEncoder()\n",
    "\n",
    "for col in test_data.columns:\n",
    "  # print(col)\n",
    "  if(col not in ('ID')):\n",
    "    # print(col, test_data[col].dtypes)\n",
    "    if(test_data[col].dtypes=='object'):\n",
    "      le.fit(list(test_data[col]))\n",
    "      test_data[col] = le.transform(list(test_data[col]))\n"
   ]
  },
  {
   "cell_type": "code",
   "execution_count": 24,
   "metadata": {
    "colab": {
     "base_uri": "https://localhost:8080/"
    },
    "id": "QtWb0VRt9MBS",
    "outputId": "ede3f053-896f-4d4e-d283-1ac81ff78b0b"
   },
   "outputs": [],
   "source": [
    "# train_data.dtypes"
   ]
  },
  {
   "cell_type": "code",
   "execution_count": 25,
   "metadata": {
    "id": "g2OOJQ2HCey7"
   },
   "outputs": [],
   "source": [
    "del train_data['ID']\n",
    "del test_data['ID']"
   ]
  },
  {
   "cell_type": "code",
   "execution_count": 26,
   "metadata": {
    "colab": {
     "base_uri": "https://localhost:8080/",
     "height": 270
    },
    "id": "lt820tX_CgVO",
    "outputId": "07757929-e023-43c5-c444-048088f9ffd2"
   },
   "outputs": [],
   "source": [
    "# test_data.head()"
   ]
  },
  {
   "cell_type": "code",
   "execution_count": 27,
   "metadata": {
    "colab": {
     "base_uri": "https://localhost:8080/",
     "height": 270
    },
    "id": "cKUk2r6WRMdv",
    "outputId": "6e2da1a8-c6fc-498e-bf65-23950cdfbb27"
   },
   "outputs": [],
   "source": [
    "# train_data.head()"
   ]
  },
  {
   "cell_type": "code",
   "execution_count": 28,
   "metadata": {
    "id": "9S7thYzMP-7X"
   },
   "outputs": [],
   "source": [
    "from sklearn.model_selection import train_test_split\n",
    "\n",
    "target = train_data.OUTCOME\n",
    "del train_data['OUTCOME']\n",
    "X = train_data.values\n",
    "y = target.values\n",
    "\n",
    "# X_train, X_val, y_train, y_val = train_test_split(X, y, test_size=0.30, random_state=42)\n",
    "# X_train, X_val, y_train, y_val = train_test_split(X, y, test_size=0.01, random_state=42)\n"
   ]
  },
  {
   "cell_type": "code",
   "execution_count": null,
   "metadata": {},
   "outputs": [],
   "source": []
  },
  {
   "cell_type": "markdown",
   "metadata": {},
   "source": [
    "### Different model performance"
   ]
  },
  {
   "cell_type": "code",
   "execution_count": null,
   "metadata": {
    "id": "an2aLHIWP-_n"
   },
   "outputs": [],
   "source": [
    "# XGBClassifier(learning_rate=0.05,  n_estimators=200, max_depth=3, colsample_bytree = 0.5, gamma= 0.1, objective='binary:logistic', use_label_encoder=False)\n",
    "# XGBoost validation Log loss =  0.6819472321905787\n",
    "# submission score 0.68048\n",
    "\n",
    "#XGBClassifier(learning_rate=0.007,  n_estimators=300, max_depth=6, colsample_bytree = 0.8, gamma= 0.1, objective='binary:logistic', use_label_encoder=False)\n",
    "#XGBoost validation Log loss =  0.6819613814931067\n",
    "\n",
    "\n",
    "#XGBClassifier(learning_rate=0.05, n_estimators=200, max_depth=2, colsample_bytree = 0.5, gamma= 0.05, use_label_encoder=False)\n",
    "# submission score 0.68055\n",
    "\n",
    "#XGBClassifier(learning_rate=0.05, n_estimators=100, max_depth=2, colsample_bytree = 0.6, gamma= 0.1, use_label_encoder=False)\n",
    "# submission score 0.68048\n",
    "\n",
    "#AdaBoostClassifier(n_estimators=200, learning_rate=0.01)\n",
    "# submission score 0.68469\n"
   ]
  },
  {
   "cell_type": "markdown",
   "metadata": {
    "id": "1PeP8ATUP0mb",
    "jp-MarkdownHeadingCollapsed": true,
    "tags": []
   },
   "source": [
    "### RandomForestClassifier"
   ]
  },
  {
   "cell_type": "code",
   "execution_count": null,
   "metadata": {
    "colab": {
     "base_uri": "https://localhost:8080/"
    },
    "id": "cq5YdpbsPqCW",
    "outputId": "a5a967f7-2f08-4860-9c2e-bf640ab83dfc"
   },
   "outputs": [
    {
     "name": "stdout",
     "output_type": "stream",
     "text": [
      "Random forest validation Log Loss =  15.58639767091402\n"
     ]
    }
   ],
   "source": [
    "from sklearn.ensemble import RandomForestClassifier\n",
    "\n",
    "model = RandomForestClassifier()\n",
    "model.fit(X_train,y_train)\n",
    "\n",
    "# Get the mean absolute error on the validation data\n",
    "y_pred = model.predict(X_val)\n",
    "\n",
    "ll = log_loss(y_val, y_pred)\n",
    "\n",
    "print('Random forest validation Log Loss = ', ll)"
   ]
  },
  {
   "cell_type": "code",
   "execution_count": null,
   "metadata": {
    "colab": {
     "base_uri": "https://localhost:8080/"
    },
    "id": "ELFHRDM62KwN",
    "outputId": "2b21ef6f-b523-4ca4-f259-2b4741b7264f"
   },
   "outputs": [
    {
     "data": {
      "text/plain": [
       "array([0., 1., 0., ..., 0., 0., 0.])"
      ]
     },
     "execution_count": 54,
     "metadata": {},
     "output_type": "execute_result"
    }
   ],
   "source": [
    "y_pred"
   ]
  },
  {
   "cell_type": "markdown",
   "metadata": {
    "id": "V5_9z2qTyNJH",
    "jp-MarkdownHeadingCollapsed": true,
    "tags": []
   },
   "source": [
    "### XGBClasifier"
   ]
  },
  {
   "cell_type": "code",
   "execution_count": 19,
   "metadata": {
    "colab": {
     "base_uri": "https://localhost:8080/"
    },
    "id": "CTyfZObrQvDB",
    "outputId": "a4b85663-cc36-485f-db30-dc4dc5586bc5"
   },
   "outputs": [
    {
     "name": "stdout",
     "output_type": "stream",
     "text": [
      "Defaulting to user installation because normal site-packages is not writeable\n",
      "Collecting xgboost==1.5\n",
      "  Downloading xgboost-1.5.0-py3-none-manylinux2014_x86_64.whl (173.5 MB)\n",
      "\u001b[2K     \u001b[38;2;114;156;31m━━━━━━━━━━━━━━━━━━━━━━━━━━━━━━━━━━━━━━━\u001b[0m \u001b[32m173.5/173.5 MB\u001b[0m \u001b[31m3.5 MB/s\u001b[0m eta \u001b[36m0:00:00\u001b[0mm eta \u001b[36m0:00:01\u001b[0m[36m0:00:01\u001b[0m\n",
      "\u001b[?25hRequirement already satisfied: scipy in /usr/lib/python3/dist-packages (from xgboost==1.5) (1.8.0)\n",
      "Requirement already satisfied: numpy in /usr/lib/python3/dist-packages (from xgboost==1.5) (1.21.5)\n",
      "Installing collected packages: xgboost\n",
      "Successfully installed xgboost-1.5.0\n"
     ]
    }
   ],
   "source": [
    "!pip install xgboost==1.5 \n"
   ]
  },
  {
   "cell_type": "markdown",
   "metadata": {},
   "source": [
    "#### XGB train"
   ]
  },
  {
   "cell_type": "code",
   "execution_count": 2,
   "metadata": {
    "colab": {
     "base_uri": "https://localhost:8080/",
     "height": 363
    },
    "id": "beBhbFZH6ojB",
    "outputId": "1010890a-2657-4dd4-d3bc-657262a01e8b"
   },
   "outputs": [
    {
     "name": "stderr",
     "output_type": "stream",
     "text": [
      "/home/vishnu/.local/lib/python3.10/site-packages/xgboost/compat.py:36: FutureWarning: pandas.Int64Index is deprecated and will be removed from pandas in a future version. Use pandas.Index with the appropriate dtype instead.\n",
      "  from pandas import MultiIndex, Int64Index\n",
      "/usr/lib/python3/dist-packages/pkg_resources/__init__.py:116: PkgResourcesDeprecationWarning: 1.1build1 is an invalid version and will not be supported in a future release\n",
      "  warnings.warn(\n",
      "/usr/lib/python3/dist-packages/pkg_resources/__init__.py:116: PkgResourcesDeprecationWarning: 0.1.43ubuntu1 is an invalid version and will not be supported in a future release\n",
      "  warnings.warn(\n"
     ]
    }
   ],
   "source": [
    "import xgboost\n",
    "from xgboost import XGBClassifier\n",
    "\n",
    "import sklearn\n",
    "from sklearn import metrics\n",
    "from sklearn import svm, datasets\n",
    "\n",
    "import xgboost\n",
    "from xgboost import XGBClassifier\n",
    "\n",
    "\n",
    "XGBModel = XGBClassifier(learning_rate=0.05, n_estimators=200, max_depth=2, colsample_bytree = 0.5, gamma= 0.05\n",
    "                         , use_label_encoder=False)\n",
    "  \n",
    "XGBModel.fit(X,y, eval_metric=\"logloss\")\n"
   ]
  },
  {
   "cell_type": "markdown",
   "metadata": {},
   "source": [
    "#### XGB predict"
   ]
  },
  {
   "cell_type": "code",
   "execution_count": 30,
   "metadata": {
    "id": "zAc3fU3N_q0J"
   },
   "outputs": [],
   "source": [
    "\n",
    "testX = test_data.values\n",
    "\n",
    "y_test_pred = XGBModel.predict_proba(testX)\n",
    "\n",
    "# y_test_pred = xgb.predict_proba(val)\n",
    "y_test_pred = y_test_pred[:,1]\n",
    "y_test_pred\n",
    "\n",
    "submission_df_XG = pd.DataFrame(y_test_pred, columns=['OUTCOME'])\n",
    "submission_df_XG.to_csv('results/submission_df_XG_200_b.csv', index=False)\n"
   ]
  },
  {
   "cell_type": "markdown",
   "metadata": {},
   "source": [
    "### Adaboost"
   ]
  },
  {
   "cell_type": "code",
   "execution_count": 29,
   "metadata": {},
   "outputs": [],
   "source": [
    "from sklearn.ensemble import AdaBoostClassifier\n",
    "\n",
    "\n",
    "adaboostcls = AdaBoostClassifier(n_estimators=200, learning_rate=0.01)\n",
    "\n",
    "\n",
    "ADBModel = adaboostcls.fit(X, y)\n",
    "\n"
   ]
  },
  {
   "cell_type": "code",
   "execution_count": 32,
   "metadata": {},
   "outputs": [],
   "source": [
    "\n",
    "testX = test_data.values\n",
    "\n",
    "y_test_pred = ADBModel.predict_proba(testX)\n",
    "\n",
    "# y_test_pred = xgb.predict_proba(val)\n",
    "y_test_pred = y_test_pred[:,1]\n",
    "y_test_pred\n",
    "\n",
    "submission_df = pd.DataFrame(y_test_pred, columns=['OUTCOME'])\n",
    "submission_df.to_csv('results/submission_df_ADB_2001.csv', index=False)\n"
   ]
  },
  {
   "cell_type": "code",
   "execution_count": null,
   "metadata": {
    "id": "Jnyep3TmyzCm"
   },
   "outputs": [],
   "source": []
  }
 ],
 "metadata": {
  "accelerator": "GPU",
  "colab": {
   "collapsed_sections": [],
   "provenance": []
  },
  "kernelspec": {
   "display_name": "Python 3 (ipykernel)",
   "language": "python",
   "name": "python3"
  },
  "language_info": {
   "codemirror_mode": {
    "name": "ipython",
    "version": 3
   },
   "file_extension": ".py",
   "mimetype": "text/x-python",
   "name": "python",
   "nbconvert_exporter": "python",
   "pygments_lexer": "ipython3",
   "version": "3.10.6"
  }
 },
 "nbformat": 4,
 "nbformat_minor": 4
}

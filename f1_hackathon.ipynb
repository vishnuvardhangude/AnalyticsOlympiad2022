{
 "cells": [
  {
   "cell_type": "code",
   "execution_count": null,
   "metadata": {
    "id": "nm1I8t57tU25"
   },
   "outputs": [],
   "source": [
    "import pandas as pd\n",
    "import math\n",
    "from sklearn import preprocessing\n",
    "import numpy as np\n",
    "from sklearn.metrics import mean_squared_log_error\n",
    "\n",
    "\n",
    "\n",
    "from keras.callbacks import ModelCheckpoint\n",
    "from keras.models import Sequential\n",
    "from keras.layers import Dense, Activation, Flatten\n",
    "from sklearn.model_selection import train_test_split\n",
    "from sklearn.ensemble import RandomForestRegressor\n",
    "from sklearn.metrics import mean_absolute_error \n",
    "from matplotlib import pyplot as plt\n",
    "import seaborn as sb\n",
    "import matplotlib.pyplot as plt\n",
    "import pandas as pd\n",
    "import numpy as np\n",
    "import warnings \n",
    "warnings.filterwarnings('ignore')\n",
    "warnings.filterwarnings('ignore', category=DeprecationWarning)\n",
    "from xgboost import XGBRegressor"
   ]
  },
  {
   "cell_type": "code",
   "execution_count": null,
   "metadata": {
    "id": "CRdqwMUItWp3"
   },
   "outputs": [],
   "source": [
    "# train = pd.read_csv(\"/content/drive/MyDrive/ML/ML_Challenges/F1_hackathon/train.csv\")\n",
    "\n",
    "train_data = pd.read_csv(\"/content/drive/MyDrive/ML/ML_Challenges/F1_hackathon/train.csv\")\n",
    "test_data = pd.read_csv(\"/content/drive/MyDrive/ML/ML_Challenges/F1_hackathon/test.csv\")\n",
    "\n",
    "train_data.columns = train_data.columns.str.replace(' ','')\n",
    "test_data.columns = test_data.columns.str.replace(' ','')\n",
    "\n",
    "train_weather_df = pd.read_csv(\"/content/drive/MyDrive/ML/ML_Challenges/F1_hackathon/train_weather.csv\")\n",
    "test_weather_df = pd.read_csv(\"/content/drive/MyDrive/ML/ML_Challenges/F1_hackathon/test_weather.csv\")\n",
    "\n",
    "\n",
    "\n",
    "# train_weather = pd.read_csv('train_weather.csv')\n",
    "# test_weather = pd.read_csv('test_weather.csv')"
   ]
  },
  {
   "cell_type": "code",
   "execution_count": null,
   "metadata": {
    "id": "NZKeCUfaeJ0X"
   },
   "outputs": [],
   "source": [
    "df = train_data\n",
    "# locations = list(['Location 7', 'Location 6', 'Location 8'])"
   ]
  },
  {
   "cell_type": "code",
   "execution_count": null,
   "metadata": {
    "id": "t_SDUesXz_At"
   },
   "outputs": [],
   "source": [
    "df6 = df[(df['LOCATION'] == 'Location 6')]\n",
    "df7 = df[(df['LOCATION'] == 'Location 7')]\n",
    "df8 = df[(df['LOCATION'] == 'Location 8')]\n",
    "\n",
    "# titanic[titanic[\"\"] > 35]"
   ]
  },
  {
   "cell_type": "code",
   "execution_count": null,
   "metadata": {
    "id": "5dTbKXIqPFLD"
   },
   "outputs": [],
   "source": [
    "frames = [df6, df7, df8]\n",
    "result = pd.concat(frames)"
   ]
  },
  {
   "cell_type": "markdown",
   "metadata": {
    "id": "kRB6Zy1stmug"
   },
   "source": [
    "###Clean Data"
   ]
  },
  {
   "cell_type": "code",
   "execution_count": null,
   "metadata": {
    "id": "hZTRpmMd71qn"
   },
   "outputs": [],
   "source": [
    "import re\n",
    "def convertTimetoSec(time):\n",
    "  \n",
    "  if type(time) != str:\n",
    "    return time\n",
    "\n",
    "  parts = [float(p) for p in time.split(':')]\n",
    "  # print(parts)\n",
    "  parts = [p * (60 ** i) for i, p in enumerate(reversed(parts))]\n",
    "  return sum(parts)\n",
    "  \n",
    "\n",
    "def cleanData(df):\n",
    "  df.dropna(subset=['S1', 'S2'])\n",
    "  df['S1'] = df['S1'].apply(lambda time: 0 if pd.isna(time) else convertTimetoSec(time))\n",
    "  df['S2'] = df['S2'].apply(lambda time: 0 if pd.isna(time) else convertTimetoSec(time))\n",
    "  df['S3'] = df['S3'].apply(lambda time: 0 if pd.isna(time) else convertTimetoSec(time))\n",
    "  df['ELAPSED'] = df['ELAPSED'].apply(lambda time: 0 if pd.isna(time) else convertTimetoSec(time))\n",
    "  df['HOUR'] = df['HOUR'].apply(lambda time: 0 if pd.isna(time) else convertTimetoSec(time))\n",
    "  df['PIT_TIME'] = df['PIT_TIME'].apply(lambda time: 0 if pd.isna(time) else convertTimetoSec(time))\n",
    "  df['S1_LARGE'] = df['S1_LARGE'].apply(lambda time: 0 if pd.isna(time) else convertTimetoSec(time))\n",
    "  df['S2_LARGE'] = df['S2_LARGE'].apply(lambda time: 0 if pd.isna(time) else convertTimetoSec(time))\n",
    "  df['S3_LARGE'] = df['S3_LARGE'].apply(lambda time: 0 if pd.isna(time) else convertTimetoSec(time))\n",
    "  \n",
    "  df['GROUP'].fillna(0, inplace=True)\n",
    "  df['POWER'].fillna(df['POWER'].mean(), inplace=True)\n",
    "  df['KPH'].fillna(df['KPH'].mean(), inplace=True)\n",
    "\n",
    "\n",
    "  # df['CROSSING_FINISH_LINE_IN_PIT'].fillna('A', inplace=True)\n",
    "  \n",
    "  del df['CROSSING_FINISH_LINE_IN_PIT']\n",
    "  del df['DRIVER_NUMBER']\n",
    "  return df\n",
    "\n"
   ]
  },
  {
   "cell_type": "markdown",
   "metadata": {
    "id": "KiVuxWgUDqFi"
   },
   "source": [
    "###Label Encoding"
   ]
  },
  {
   "cell_type": "code",
   "execution_count": null,
   "metadata": {
    "id": "frSRW9ESyBtb"
   },
   "outputs": [],
   "source": [
    "\n",
    "train1 = cleanData(train)\n",
    "train1.head()\n",
    "\n",
    "\n",
    "train.rename(columns={\" DRIVER_NUMBER\": \"DRIVER_NUMBER\", \" LAP_NUMBER\": \"LAP_NUMBER\", \" LAP_IMPROVEMENT\":\"LAP_IMPROVEMENT\"}, inplace=True)\n",
    "train.rename(columns={\" CROSSING_FINISH_LINE_IN_PIT\": \"CROSSING_FINISH_LINE_IN_PIT\", \" S1\": \"S1\", \" S1_IMPROVEMENT\":\"S1_IMPROVEMENT\"}, inplace=True)\n",
    "train.rename(columns={\" S3\": \"S3\", \" S3_IMPROVEMENT\":\"S3_IMPROVEMENT\", \" S2\": \"S2\", \" S2_IMPROVEMENT\":\"S2_IMPROVEMENT\", \" KPH\":\"KPH\", \" ELAPSED\":\"ELAPSED\"}, inplace=True)\n",
    "train.rename(columns={\" HOUR\": \"HOUR\"}, inplace=True)\n",
    "train.dtypes\n",
    "\n"
   ]
  },
  {
   "cell_type": "code",
   "execution_count": null,
   "metadata": {
    "id": "GqaHJ9V0OLD8"
   },
   "outputs": [],
   "source": [
    "from sklearn import preprocessing\n",
    "\n",
    "le = preprocessing.LabelEncoder()\n",
    "le.fit(list(train['CROSSING_FINISH_LINE_IN_PIT']))\n",
    "train['CROSSING_FINISH_LINE_IN_PIT'] = le.transform(list(train['CROSSING_FINISH_LINE_IN_PIT']))\n",
    "\n",
    "le = preprocessing.LabelEncoder()\n",
    "le.fit(list(train['DRIVER_NAME']))\n",
    "train['DRIVER_NAME'] = le.transform(list(train['DRIVER_NAME']))\n",
    "\n",
    "le = preprocessing.LabelEncoder()\n",
    "le.fit(list(train['TEAM']))\n",
    "train['TEAM'] = le.transform(list(train['TEAM']))\n",
    "\n",
    "le = preprocessing.LabelEncoder()\n",
    "le.fit(list(train['LOCATION']))\n",
    "train['LOCATION'] = le.transform(list(train['LOCATION']))\n",
    "\n",
    "le = preprocessing.LabelEncoder()\n",
    "le.fit(list(train['EVENT']))\n",
    "train['EVENT'] = le.transform(list(train['EVENT']))\n",
    "\n",
    "train['DRIVER_NAME']=train['DRIVER_NAME'].replace(0, 25)\n",
    "train['LOCATION']=train['LOCATION'].replace(0, 8)\n",
    "train['TEAM']=train['TEAM'].replace(0, 24)\n",
    "train['EVENT']=train['EVENT'].replace(0, 8)\n",
    "\n",
    "train.to_csv('train_clean_Label_encoded.csv', index=False)\n"
   ]
  },
  {
   "cell_type": "code",
   "execution_count": null,
   "metadata": {
    "id": "3ILzpEwwSc5_"
   },
   "outputs": [],
   "source": [
    "test = cleanData(test)\n",
    "test.head()"
   ]
  },
  {
   "cell_type": "code",
   "execution_count": null,
   "metadata": {
    "id": "DeSdW2Nztydl"
   },
   "outputs": [],
   "source": [
    "test.rename(columns={\" DRIVER_NUMBER\": \"DRIVER_NUMBER\", \" LAP_NUMBER\": \"LAP_NUMBER\", \" LAP_IMPROVEMENT\":\"LAP_IMPROVEMENT\"}, inplace=True)\n",
    "test.rename(columns={\" CROSSING_FINISH_LINE_IN_PIT\": \"CROSSING_FINISH_LINE_IN_PIT\", \" S1\": \"S1\", \" S1_IMPROVEMENT\":\"S1_IMPROVEMENT\"}, inplace=True)\n",
    "test.rename(columns={\" S3\": \"S3\", \" S3_IMPROVEMENT\":\"S3_IMPROVEMENT\", \" S2\": \"S2\", \" S2_IMPROVEMENT\":\"S2_IMPROVEMENT\", \" KPH\":\"KPH\", \" ELAPSED\":\"ELAPSED\"}, inplace=True)\n",
    "test.rename(columns={\" HOUR\": \"HOUR\"}, inplace=True)\n",
    "test.dtypes\n"
   ]
  },
  {
   "cell_type": "code",
   "execution_count": null,
   "metadata": {
    "id": "ruf20y6StuUh"
   },
   "outputs": [],
   "source": [
    "\n",
    "le = preprocessing.LabelEncoder()\n",
    "le.fit(list(train['CROSSING_FINISH_LINE_IN_PIT']))\n",
    "test['CROSSING_FINISH_LINE_IN_PIT'] = le.transform(list(test['CROSSING_FINISH_LINE_IN_PIT']))\n",
    "\n",
    "le = preprocessing.LabelEncoder()\n",
    "le.fit(list(train['DRIVER_NAME']))\n",
    "test['DRIVER_NAME'] = le.transform(list(test['DRIVER_NAME']))\n",
    "\n",
    "le = preprocessing.LabelEncoder()\n",
    "le.fit(list(train['TEAM']))\n",
    "test['TEAM'] = le.transform(list(test['TEAM']))\n",
    "\n",
    "le = preprocessing.LabelEncoder()\n",
    "le.fit(list(train['LOCATION']))\n",
    "test['LOCATION'] = le.transform(list(test['LOCATION']))\n",
    "\n",
    "le = preprocessing.LabelEncoder()\n",
    "le.fit(list(train['EVENT']))\n",
    "test['EVENT'] = le.transform(list(test['EVENT']))\n"
   ]
  },
  {
   "cell_type": "code",
   "execution_count": null,
   "metadata": {
    "id": "D2_SZXjcuI1f"
   },
   "outputs": [],
   "source": [
    "\n",
    "test['DRIVER_NAME']=test['DRIVER_NAME'].replace(0, 25)\n",
    "test['LOCATION']=test['LOCATION'].replace(0, 8)\n",
    "test['TEAM']=test['TEAM'].replace(0, 24)\n",
    "test['EVENT']=test['EVENT'].replace(0, 8)\n",
    "\n",
    "test.to_csv('test_clean.csv', index=False)"
   ]
  },
  {
   "cell_type": "markdown",
   "metadata": {
    "id": "dxLrrQJUPsfD"
   },
   "source": [
    "###Add weather data to train and test data"
   ]
  },
  {
   "cell_type": "code",
   "execution_count": null,
   "metadata": {
    "colab": {
     "base_uri": "https://localhost:8080/",
     "height": 206
    },
    "id": "A7g4IkTHmtkf",
    "outputId": "6529e88c-f69b-479e-c6d5-6954dc93426c"
   },
   "outputs": [
    {
     "data": {
      "text/html": [
       "<div>\n",
       "<style scoped>\n",
       "    .dataframe tbody tr th:only-of-type {\n",
       "        vertical-align: middle;\n",
       "    }\n",
       "\n",
       "    .dataframe tbody tr th {\n",
       "        vertical-align: top;\n",
       "    }\n",
       "\n",
       "    .dataframe thead th {\n",
       "        text-align: right;\n",
       "    }\n",
       "</style>\n",
       "<table border=\"1\" class=\"dataframe\">\n",
       "  <thead>\n",
       "    <tr style=\"text-align: right;\">\n",
       "      <th></th>\n",
       "      <th>LOCATION</th>\n",
       "      <th>EVENT</th>\n",
       "      <th>AIR_TEMP</th>\n",
       "      <th>TRACK_TEMP</th>\n",
       "      <th>HUMIDITY</th>\n",
       "      <th>PRESSURE</th>\n",
       "      <th>WIND_SPEED</th>\n",
       "      <th>WIND_DIRECTION</th>\n",
       "      <th>RAIN</th>\n",
       "    </tr>\n",
       "  </thead>\n",
       "  <tbody>\n",
       "    <tr>\n",
       "      <th>0</th>\n",
       "      <td>Location 1</td>\n",
       "      <td>Free Practice 1</td>\n",
       "      <td>17.538364</td>\n",
       "      <td>19.564286</td>\n",
       "      <td>45.000000</td>\n",
       "      <td>937.023571</td>\n",
       "      <td>4.723681</td>\n",
       "      <td>306.476190</td>\n",
       "      <td>-1.0</td>\n",
       "    </tr>\n",
       "    <tr>\n",
       "      <th>1</th>\n",
       "      <td>Location 1</td>\n",
       "      <td>Free Practice 2</td>\n",
       "      <td>20.851193</td>\n",
       "      <td>34.039286</td>\n",
       "      <td>34.321429</td>\n",
       "      <td>937.238750</td>\n",
       "      <td>3.523816</td>\n",
       "      <td>293.357143</td>\n",
       "      <td>-1.0</td>\n",
       "    </tr>\n",
       "    <tr>\n",
       "      <th>2</th>\n",
       "      <td>Location 1</td>\n",
       "      <td>Free Practice 3</td>\n",
       "      <td>22.498669</td>\n",
       "      <td>34.259524</td>\n",
       "      <td>30.595238</td>\n",
       "      <td>937.191238</td>\n",
       "      <td>3.081760</td>\n",
       "      <td>234.571429</td>\n",
       "      <td>-1.0</td>\n",
       "    </tr>\n",
       "    <tr>\n",
       "      <th>3</th>\n",
       "      <td>Location 1</td>\n",
       "      <td>Qualifying Group 1</td>\n",
       "      <td>22.277763</td>\n",
       "      <td>28.625000</td>\n",
       "      <td>31.500000</td>\n",
       "      <td>937.200125</td>\n",
       "      <td>2.387101</td>\n",
       "      <td>265.375000</td>\n",
       "      <td>-1.0</td>\n",
       "    </tr>\n",
       "    <tr>\n",
       "      <th>4</th>\n",
       "      <td>Location 1</td>\n",
       "      <td>Qualifying Group 2</td>\n",
       "      <td>22.349200</td>\n",
       "      <td>27.714286</td>\n",
       "      <td>31.714286</td>\n",
       "      <td>937.144571</td>\n",
       "      <td>1.818743</td>\n",
       "      <td>221.714286</td>\n",
       "      <td>-1.0</td>\n",
       "    </tr>\n",
       "  </tbody>\n",
       "</table>\n",
       "</div>"
      ],
      "text/plain": [
       "     LOCATION               EVENT   AIR_TEMP  ...  WIND_SPEED  WIND_DIRECTION  RAIN\n",
       "0  Location 1     Free Practice 1  17.538364  ...    4.723681      306.476190  -1.0\n",
       "1  Location 1     Free Practice 2  20.851193  ...    3.523816      293.357143  -1.0\n",
       "2  Location 1     Free Practice 3  22.498669  ...    3.081760      234.571429  -1.0\n",
       "3  Location 1  Qualifying Group 1  22.277763  ...    2.387101      265.375000  -1.0\n",
       "4  Location 1  Qualifying Group 2  22.349200  ...    1.818743      221.714286  -1.0\n",
       "\n",
       "[5 rows x 9 columns]"
      ]
     },
     "execution_count": 7,
     "metadata": {},
     "output_type": "execute_result"
    }
   ],
   "source": [
    "NUMERIC_COLUMNS = ['AIR_TEMP', 'TRACK_TEMP', 'HUMIDITY', 'PRESSURE', 'WIND_SPEED', 'WIND_DIRECTION', 'RAIN']\n",
    "TEST_COLUMNS_TO_RENAME = { 'EVENTS': 'EVENT' }\n",
    "\n",
    "# train_weather_df = pd.read_csv('train_weather.csv', skipinitialspace=True)\n",
    "# test_weather_df = pd.read_csv('test_weather.csv', skipinitialspace=True)\n",
    "test_weather_df.rename(columns=TEST_COLUMNS_TO_RENAME, inplace=True)\n",
    "\n",
    "weather_df = pd.concat([train_weather_df, test_weather_df], axis=0).drop_duplicates()\n",
    "weather_df.drop(labels=['TIME_UTC_SECONDS',\t'TIME_UTC_STR'], axis=1, inplace=True)\n",
    "weather_df[NUMERIC_COLUMNS] = weather_df[NUMERIC_COLUMNS].applymap(lambda x: float(str(x).replace(',', '.', 1).replace(',', '')))\n",
    "\n",
    "# TODO: this join isn't really good, because weather data from 1 location are for 2 days, so we are currently using same weather data for both race days\n",
    "weather_df = weather_df.groupby(['LOCATION', 'EVENT']).mean()\n",
    "weather_df.reset_index(inplace=True)\n",
    "weather_df.head()"
   ]
  },
  {
   "cell_type": "code",
   "execution_count": null,
   "metadata": {
    "colab": {
     "base_uri": "https://localhost:8080/",
     "height": 1000
    },
    "id": "iPB6kEuhqaoI",
    "outputId": "56cda21a-e9e3-457d-e40d-6023fd3177bd"
   },
   "outputs": [
    {
     "data": {
      "text/html": [
       "<div>\n",
       "<style scoped>\n",
       "    .dataframe tbody tr th:only-of-type {\n",
       "        vertical-align: middle;\n",
       "    }\n",
       "\n",
       "    .dataframe tbody tr th {\n",
       "        vertical-align: top;\n",
       "    }\n",
       "\n",
       "    .dataframe thead th {\n",
       "        text-align: right;\n",
       "    }\n",
       "</style>\n",
       "<table border=\"1\" class=\"dataframe\">\n",
       "  <thead>\n",
       "    <tr style=\"text-align: right;\">\n",
       "      <th></th>\n",
       "      <th>LOCATION</th>\n",
       "      <th>EVENT</th>\n",
       "      <th>AIR_TEMP</th>\n",
       "      <th>TRACK_TEMP</th>\n",
       "      <th>HUMIDITY</th>\n",
       "      <th>PRESSURE</th>\n",
       "      <th>WIND_SPEED</th>\n",
       "      <th>WIND_DIRECTION</th>\n",
       "      <th>RAIN</th>\n",
       "    </tr>\n",
       "  </thead>\n",
       "  <tbody>\n",
       "    <tr>\n",
       "      <th>0</th>\n",
       "      <td>Location 1</td>\n",
       "      <td>Free Practice 1</td>\n",
       "      <td>17.538364</td>\n",
       "      <td>19.564286</td>\n",
       "      <td>45.000000</td>\n",
       "      <td>937.023571</td>\n",
       "      <td>4.723681</td>\n",
       "      <td>306.476190</td>\n",
       "      <td>-1.000000</td>\n",
       "    </tr>\n",
       "    <tr>\n",
       "      <th>1</th>\n",
       "      <td>Location 1</td>\n",
       "      <td>Free Practice 2</td>\n",
       "      <td>20.851193</td>\n",
       "      <td>34.039286</td>\n",
       "      <td>34.321429</td>\n",
       "      <td>937.238750</td>\n",
       "      <td>3.523816</td>\n",
       "      <td>293.357143</td>\n",
       "      <td>-1.000000</td>\n",
       "    </tr>\n",
       "    <tr>\n",
       "      <th>2</th>\n",
       "      <td>Location 1</td>\n",
       "      <td>Free Practice 3</td>\n",
       "      <td>22.498669</td>\n",
       "      <td>34.259524</td>\n",
       "      <td>30.595238</td>\n",
       "      <td>937.191238</td>\n",
       "      <td>3.081760</td>\n",
       "      <td>234.571429</td>\n",
       "      <td>-1.000000</td>\n",
       "    </tr>\n",
       "    <tr>\n",
       "      <th>3</th>\n",
       "      <td>Location 1</td>\n",
       "      <td>Qualifying Group 1</td>\n",
       "      <td>22.277763</td>\n",
       "      <td>28.625000</td>\n",
       "      <td>31.500000</td>\n",
       "      <td>937.200125</td>\n",
       "      <td>2.387101</td>\n",
       "      <td>265.375000</td>\n",
       "      <td>-1.000000</td>\n",
       "    </tr>\n",
       "    <tr>\n",
       "      <th>4</th>\n",
       "      <td>Location 1</td>\n",
       "      <td>Qualifying Group 2</td>\n",
       "      <td>22.349200</td>\n",
       "      <td>27.714286</td>\n",
       "      <td>31.714286</td>\n",
       "      <td>937.144571</td>\n",
       "      <td>1.818743</td>\n",
       "      <td>221.714286</td>\n",
       "      <td>-1.000000</td>\n",
       "    </tr>\n",
       "    <tr>\n",
       "      <th>5</th>\n",
       "      <td>Location 1</td>\n",
       "      <td>Qualifying Group 3</td>\n",
       "      <td>22.381950</td>\n",
       "      <td>27.037500</td>\n",
       "      <td>31.500000</td>\n",
       "      <td>937.145125</td>\n",
       "      <td>2.784950</td>\n",
       "      <td>186.625000</td>\n",
       "      <td>-1.000000</td>\n",
       "    </tr>\n",
       "    <tr>\n",
       "      <th>6</th>\n",
       "      <td>Location 1</td>\n",
       "      <td>Qualifying Group 4</td>\n",
       "      <td>22.150800</td>\n",
       "      <td>26.385714</td>\n",
       "      <td>31.714286</td>\n",
       "      <td>937.149429</td>\n",
       "      <td>2.424993</td>\n",
       "      <td>231.714286</td>\n",
       "      <td>-1.000000</td>\n",
       "    </tr>\n",
       "    <tr>\n",
       "      <th>7</th>\n",
       "      <td>Location 2</td>\n",
       "      <td>Free Practice 1</td>\n",
       "      <td>10.570110</td>\n",
       "      <td>12.028571</td>\n",
       "      <td>65.666667</td>\n",
       "      <td>1017.621667</td>\n",
       "      <td>0.202082</td>\n",
       "      <td>75.571429</td>\n",
       "      <td>-1.000000</td>\n",
       "    </tr>\n",
       "    <tr>\n",
       "      <th>8</th>\n",
       "      <td>Location 2</td>\n",
       "      <td>Free Practice 2</td>\n",
       "      <td>15.030043</td>\n",
       "      <td>19.416216</td>\n",
       "      <td>60.432432</td>\n",
       "      <td>1018.215135</td>\n",
       "      <td>3.584237</td>\n",
       "      <td>148.000000</td>\n",
       "      <td>-1.000000</td>\n",
       "    </tr>\n",
       "    <tr>\n",
       "      <th>9</th>\n",
       "      <td>Location 2</td>\n",
       "      <td>Free Practice 3</td>\n",
       "      <td>12.850517</td>\n",
       "      <td>10.473810</td>\n",
       "      <td>68.166667</td>\n",
       "      <td>1012.783095</td>\n",
       "      <td>3.789051</td>\n",
       "      <td>160.000000</td>\n",
       "      <td>-1.000000</td>\n",
       "    </tr>\n",
       "    <tr>\n",
       "      <th>10</th>\n",
       "      <td>Location 2</td>\n",
       "      <td>Qualifying Group 1</td>\n",
       "      <td>13.960314</td>\n",
       "      <td>16.385714</td>\n",
       "      <td>68.857143</td>\n",
       "      <td>1015.824286</td>\n",
       "      <td>2.879679</td>\n",
       "      <td>149.857143</td>\n",
       "      <td>-1.000000</td>\n",
       "    </tr>\n",
       "    <tr>\n",
       "      <th>11</th>\n",
       "      <td>Location 2</td>\n",
       "      <td>Qualifying Group 2</td>\n",
       "      <td>13.902800</td>\n",
       "      <td>15.625000</td>\n",
       "      <td>69.125000</td>\n",
       "      <td>1015.510000</td>\n",
       "      <td>3.580653</td>\n",
       "      <td>164.750000</td>\n",
       "      <td>-1.000000</td>\n",
       "    </tr>\n",
       "    <tr>\n",
       "      <th>12</th>\n",
       "      <td>Location 2</td>\n",
       "      <td>Qualifying Group 3</td>\n",
       "      <td>14.142843</td>\n",
       "      <td>16.128571</td>\n",
       "      <td>68.000000</td>\n",
       "      <td>1015.780000</td>\n",
       "      <td>2.121867</td>\n",
       "      <td>156.285714</td>\n",
       "      <td>-1.000000</td>\n",
       "    </tr>\n",
       "    <tr>\n",
       "      <th>13</th>\n",
       "      <td>Location 2</td>\n",
       "      <td>Qualifying Group 4</td>\n",
       "      <td>14.104150</td>\n",
       "      <td>15.887500</td>\n",
       "      <td>69.000000</td>\n",
       "      <td>1015.403750</td>\n",
       "      <td>2.254484</td>\n",
       "      <td>164.625000</td>\n",
       "      <td>-1.000000</td>\n",
       "    </tr>\n",
       "    <tr>\n",
       "      <th>14</th>\n",
       "      <td>Location 3</td>\n",
       "      <td>Free Practice 1</td>\n",
       "      <td>12.964286</td>\n",
       "      <td>14.230952</td>\n",
       "      <td>84.238095</td>\n",
       "      <td>998.030881</td>\n",
       "      <td>0.732548</td>\n",
       "      <td>149.190476</td>\n",
       "      <td>-1.000000</td>\n",
       "    </tr>\n",
       "    <tr>\n",
       "      <th>15</th>\n",
       "      <td>Location 3</td>\n",
       "      <td>Free Practice 2</td>\n",
       "      <td>13.583343</td>\n",
       "      <td>14.775000</td>\n",
       "      <td>80.428571</td>\n",
       "      <td>998.514107</td>\n",
       "      <td>1.023043</td>\n",
       "      <td>197.535714</td>\n",
       "      <td>-1.000000</td>\n",
       "    </tr>\n",
       "    <tr>\n",
       "      <th>16</th>\n",
       "      <td>Location 3</td>\n",
       "      <td>Free Practice 3</td>\n",
       "      <td>12.334652</td>\n",
       "      <td>12.083333</td>\n",
       "      <td>92.071429</td>\n",
       "      <td>992.894929</td>\n",
       "      <td>0.000000</td>\n",
       "      <td>332.047619</td>\n",
       "      <td>-1.000000</td>\n",
       "    </tr>\n",
       "    <tr>\n",
       "      <th>17</th>\n",
       "      <td>Location 3</td>\n",
       "      <td>Qualifying Group 1</td>\n",
       "      <td>14.326388</td>\n",
       "      <td>15.237500</td>\n",
       "      <td>83.000000</td>\n",
       "      <td>995.471250</td>\n",
       "      <td>0.397850</td>\n",
       "      <td>167.125000</td>\n",
       "      <td>-1.000000</td>\n",
       "    </tr>\n",
       "    <tr>\n",
       "      <th>18</th>\n",
       "      <td>Location 3</td>\n",
       "      <td>Qualifying Group 2</td>\n",
       "      <td>14.436514</td>\n",
       "      <td>15.671429</td>\n",
       "      <td>82.428571</td>\n",
       "      <td>995.907857</td>\n",
       "      <td>1.364057</td>\n",
       "      <td>145.428571</td>\n",
       "      <td>-1.000000</td>\n",
       "    </tr>\n",
       "    <tr>\n",
       "      <th>19</th>\n",
       "      <td>Location 3</td>\n",
       "      <td>Qualifying Group 3</td>\n",
       "      <td>14.555550</td>\n",
       "      <td>15.800000</td>\n",
       "      <td>82.750000</td>\n",
       "      <td>995.581500</td>\n",
       "      <td>0.265232</td>\n",
       "      <td>146.875000</td>\n",
       "      <td>-1.000000</td>\n",
       "    </tr>\n",
       "    <tr>\n",
       "      <th>20</th>\n",
       "      <td>Location 3</td>\n",
       "      <td>Qualifying Group 4</td>\n",
       "      <td>14.650829</td>\n",
       "      <td>16.228571</td>\n",
       "      <td>80.857143</td>\n",
       "      <td>995.898286</td>\n",
       "      <td>1.970304</td>\n",
       "      <td>143.857143</td>\n",
       "      <td>-1.000000</td>\n",
       "    </tr>\n",
       "    <tr>\n",
       "      <th>21</th>\n",
       "      <td>Location 4</td>\n",
       "      <td>Free Practice 1</td>\n",
       "      <td>17.667998</td>\n",
       "      <td>18.438095</td>\n",
       "      <td>71.976190</td>\n",
       "      <td>1014.447857</td>\n",
       "      <td>2.071347</td>\n",
       "      <td>158.142857</td>\n",
       "      <td>-1.000000</td>\n",
       "    </tr>\n",
       "    <tr>\n",
       "      <th>22</th>\n",
       "      <td>Location 4</td>\n",
       "      <td>Free Practice 2</td>\n",
       "      <td>19.313496</td>\n",
       "      <td>20.989286</td>\n",
       "      <td>71.178571</td>\n",
       "      <td>1015.675714</td>\n",
       "      <td>3.789050</td>\n",
       "      <td>155.000000</td>\n",
       "      <td>-1.000000</td>\n",
       "    </tr>\n",
       "    <tr>\n",
       "      <th>23</th>\n",
       "      <td>Location 4</td>\n",
       "      <td>Qualifying Group 1</td>\n",
       "      <td>20.486100</td>\n",
       "      <td>32.575000</td>\n",
       "      <td>64.000000</td>\n",
       "      <td>1016.440000</td>\n",
       "      <td>1.060932</td>\n",
       "      <td>203.500000</td>\n",
       "      <td>-1.000000</td>\n",
       "    </tr>\n",
       "    <tr>\n",
       "      <th>24</th>\n",
       "      <td>Location 4</td>\n",
       "      <td>Qualifying Group 2</td>\n",
       "      <td>20.388900</td>\n",
       "      <td>33.375000</td>\n",
       "      <td>65.000000</td>\n",
       "      <td>1016.565000</td>\n",
       "      <td>1.591400</td>\n",
       "      <td>62.750000</td>\n",
       "      <td>-1.000000</td>\n",
       "    </tr>\n",
       "    <tr>\n",
       "      <th>25</th>\n",
       "      <td>Location 4</td>\n",
       "      <td>Qualifying Group 3</td>\n",
       "      <td>20.611125</td>\n",
       "      <td>34.300000</td>\n",
       "      <td>65.250000</td>\n",
       "      <td>1016.730000</td>\n",
       "      <td>1.060935</td>\n",
       "      <td>94.000000</td>\n",
       "      <td>-1.000000</td>\n",
       "    </tr>\n",
       "    <tr>\n",
       "      <th>26</th>\n",
       "      <td>Location 4</td>\n",
       "      <td>Qualifying Group 4</td>\n",
       "      <td>19.430558</td>\n",
       "      <td>35.183333</td>\n",
       "      <td>69.333333</td>\n",
       "      <td>1016.845833</td>\n",
       "      <td>1.945043</td>\n",
       "      <td>185.666667</td>\n",
       "      <td>-1.000000</td>\n",
       "    </tr>\n",
       "    <tr>\n",
       "      <th>27</th>\n",
       "      <td>Location 5</td>\n",
       "      <td>Free Practice 1</td>\n",
       "      <td>2.622520</td>\n",
       "      <td>17.244643</td>\n",
       "      <td>92.267857</td>\n",
       "      <td>103.624822</td>\n",
       "      <td>4.546857</td>\n",
       "      <td>74.964286</td>\n",
       "      <td>-1.000000</td>\n",
       "    </tr>\n",
       "    <tr>\n",
       "      <th>28</th>\n",
       "      <td>Location 5</td>\n",
       "      <td>Free Practice 2</td>\n",
       "      <td>2.450000</td>\n",
       "      <td>32.400000</td>\n",
       "      <td>77.357143</td>\n",
       "      <td>35.183610</td>\n",
       "      <td>7.691769</td>\n",
       "      <td>188.964286</td>\n",
       "      <td>-1.000000</td>\n",
       "    </tr>\n",
       "    <tr>\n",
       "      <th>29</th>\n",
       "      <td>Location 5</td>\n",
       "      <td>Free Practice 3</td>\n",
       "      <td>2.474471</td>\n",
       "      <td>27.038095</td>\n",
       "      <td>81.714286</td>\n",
       "      <td>7.765191</td>\n",
       "      <td>0.732549</td>\n",
       "      <td>230.047619</td>\n",
       "      <td>-1.000000</td>\n",
       "    </tr>\n",
       "    <tr>\n",
       "      <th>30</th>\n",
       "      <td>Location 5</td>\n",
       "      <td>Qualifying Group 1</td>\n",
       "      <td>4.322915</td>\n",
       "      <td>43.537500</td>\n",
       "      <td>70.500000</td>\n",
       "      <td>7.761901</td>\n",
       "      <td>13.924750</td>\n",
       "      <td>211.125000</td>\n",
       "      <td>-1.000000</td>\n",
       "    </tr>\n",
       "    <tr>\n",
       "      <th>31</th>\n",
       "      <td>Location 5</td>\n",
       "      <td>Qualifying Group 2</td>\n",
       "      <td>2.029630</td>\n",
       "      <td>42.033333</td>\n",
       "      <td>71.000000</td>\n",
       "      <td>7.760868</td>\n",
       "      <td>9.548403</td>\n",
       "      <td>234.500000</td>\n",
       "      <td>-1.000000</td>\n",
       "    </tr>\n",
       "    <tr>\n",
       "      <th>32</th>\n",
       "      <td>Location 5</td>\n",
       "      <td>Qualifying Group 3</td>\n",
       "      <td>2.027083</td>\n",
       "      <td>42.587500</td>\n",
       "      <td>71.125000</td>\n",
       "      <td>7.760124</td>\n",
       "      <td>21.086055</td>\n",
       "      <td>225.500000</td>\n",
       "      <td>-1.000000</td>\n",
       "    </tr>\n",
       "    <tr>\n",
       "      <th>33</th>\n",
       "      <td>Location 5</td>\n",
       "      <td>Qualifying Group 4</td>\n",
       "      <td>4.650793</td>\n",
       "      <td>46.071429</td>\n",
       "      <td>69.571429</td>\n",
       "      <td>7.760731</td>\n",
       "      <td>17.596341</td>\n",
       "      <td>224.714286</td>\n",
       "      <td>-1.000000</td>\n",
       "    </tr>\n",
       "    <tr>\n",
       "      <th>34</th>\n",
       "      <td>Location 6</td>\n",
       "      <td>Free Practice 1</td>\n",
       "      <td>3.398577</td>\n",
       "      <td>25.672093</td>\n",
       "      <td>79.116279</td>\n",
       "      <td>1011.261860</td>\n",
       "      <td>17.320356</td>\n",
       "      <td>207.581395</td>\n",
       "      <td>-1.000000</td>\n",
       "    </tr>\n",
       "    <tr>\n",
       "      <th>35</th>\n",
       "      <td>Location 6</td>\n",
       "      <td>Free Practice 2</td>\n",
       "      <td>4.092859</td>\n",
       "      <td>30.550000</td>\n",
       "      <td>76.785714</td>\n",
       "      <td>1011.860000</td>\n",
       "      <td>9.896997</td>\n",
       "      <td>146.142857</td>\n",
       "      <td>-1.000000</td>\n",
       "    </tr>\n",
       "    <tr>\n",
       "      <th>36</th>\n",
       "      <td>Location 6</td>\n",
       "      <td>Qualifying Group 1</td>\n",
       "      <td>12.487278</td>\n",
       "      <td>29.937500</td>\n",
       "      <td>81.500000</td>\n",
       "      <td>1014.643750</td>\n",
       "      <td>9.067243</td>\n",
       "      <td>167.125000</td>\n",
       "      <td>-1.000000</td>\n",
       "    </tr>\n",
       "    <tr>\n",
       "      <th>37</th>\n",
       "      <td>Location 6</td>\n",
       "      <td>Qualifying Group 2</td>\n",
       "      <td>6.977680</td>\n",
       "      <td>32.977778</td>\n",
       "      <td>78.333333</td>\n",
       "      <td>1013.676667</td>\n",
       "      <td>8.639701</td>\n",
       "      <td>152.166667</td>\n",
       "      <td>-1.000000</td>\n",
       "    </tr>\n",
       "    <tr>\n",
       "      <th>38</th>\n",
       "      <td>Location 6</td>\n",
       "      <td>Qualifying Group 3</td>\n",
       "      <td>2.468520</td>\n",
       "      <td>32.216667</td>\n",
       "      <td>79.500000</td>\n",
       "      <td>1014.138333</td>\n",
       "      <td>6.719245</td>\n",
       "      <td>171.833333</td>\n",
       "      <td>-1.000000</td>\n",
       "    </tr>\n",
       "    <tr>\n",
       "      <th>39</th>\n",
       "      <td>Location 6</td>\n",
       "      <td>Qualifying Group 4</td>\n",
       "      <td>5.015970</td>\n",
       "      <td>30.575000</td>\n",
       "      <td>80.625000</td>\n",
       "      <td>1014.751250</td>\n",
       "      <td>12.863817</td>\n",
       "      <td>238.000000</td>\n",
       "      <td>-1.000000</td>\n",
       "    </tr>\n",
       "    <tr>\n",
       "      <th>40</th>\n",
       "      <td>Location 7</td>\n",
       "      <td>Free Practice 1</td>\n",
       "      <td>20.536222</td>\n",
       "      <td>23.695556</td>\n",
       "      <td>66.683556</td>\n",
       "      <td>1014.733111</td>\n",
       "      <td>13.669556</td>\n",
       "      <td>102.066667</td>\n",
       "      <td>0.000000</td>\n",
       "    </tr>\n",
       "    <tr>\n",
       "      <th>41</th>\n",
       "      <td>Location 7</td>\n",
       "      <td>Free Practice 2</td>\n",
       "      <td>17.374667</td>\n",
       "      <td>17.196667</td>\n",
       "      <td>91.041667</td>\n",
       "      <td>1007.915667</td>\n",
       "      <td>6.794667</td>\n",
       "      <td>175.400000</td>\n",
       "      <td>0.009667</td>\n",
       "    </tr>\n",
       "    <tr>\n",
       "      <th>42</th>\n",
       "      <td>Location 7</td>\n",
       "      <td>Qualifying Group 1</td>\n",
       "      <td>19.035000</td>\n",
       "      <td>18.487500</td>\n",
       "      <td>82.583750</td>\n",
       "      <td>1007.386250</td>\n",
       "      <td>9.733750</td>\n",
       "      <td>221.250000</td>\n",
       "      <td>0.000000</td>\n",
       "    </tr>\n",
       "    <tr>\n",
       "      <th>43</th>\n",
       "      <td>Location 7</td>\n",
       "      <td>Qualifying Group 2</td>\n",
       "      <td>19.078750</td>\n",
       "      <td>18.400000</td>\n",
       "      <td>82.892500</td>\n",
       "      <td>1007.428750</td>\n",
       "      <td>7.868750</td>\n",
       "      <td>282.500000</td>\n",
       "      <td>0.001250</td>\n",
       "    </tr>\n",
       "    <tr>\n",
       "      <th>44</th>\n",
       "      <td>Location 7</td>\n",
       "      <td>Qualifying Group 3</td>\n",
       "      <td>18.950500</td>\n",
       "      <td>17.970000</td>\n",
       "      <td>83.907000</td>\n",
       "      <td>1007.824000</td>\n",
       "      <td>7.486000</td>\n",
       "      <td>184.200000</td>\n",
       "      <td>0.001500</td>\n",
       "    </tr>\n",
       "    <tr>\n",
       "      <th>45</th>\n",
       "      <td>Location 7</td>\n",
       "      <td>Qualifying Group 4</td>\n",
       "      <td>19.308750</td>\n",
       "      <td>18.862500</td>\n",
       "      <td>81.886250</td>\n",
       "      <td>1007.345000</td>\n",
       "      <td>8.326250</td>\n",
       "      <td>216.750000</td>\n",
       "      <td>0.000000</td>\n",
       "    </tr>\n",
       "    <tr>\n",
       "      <th>46</th>\n",
       "      <td>Location 8</td>\n",
       "      <td>Free Practice 1</td>\n",
       "      <td>25.808667</td>\n",
       "      <td>31.634667</td>\n",
       "      <td>48.790400</td>\n",
       "      <td>1012.920000</td>\n",
       "      <td>6.017733</td>\n",
       "      <td>171.520000</td>\n",
       "      <td>0.000000</td>\n",
       "    </tr>\n",
       "    <tr>\n",
       "      <th>47</th>\n",
       "      <td>Location 8</td>\n",
       "      <td>Free Practice 2</td>\n",
       "      <td>21.007333</td>\n",
       "      <td>26.860000</td>\n",
       "      <td>61.003333</td>\n",
       "      <td>1013.774000</td>\n",
       "      <td>6.730333</td>\n",
       "      <td>170.883333</td>\n",
       "      <td>0.000000</td>\n",
       "    </tr>\n",
       "    <tr>\n",
       "      <th>48</th>\n",
       "      <td>Location 8</td>\n",
       "      <td>Qualifying Group 1</td>\n",
       "      <td>23.517500</td>\n",
       "      <td>33.600000</td>\n",
       "      <td>50.665000</td>\n",
       "      <td>1013.438750</td>\n",
       "      <td>6.618750</td>\n",
       "      <td>197.875000</td>\n",
       "      <td>0.000000</td>\n",
       "    </tr>\n",
       "    <tr>\n",
       "      <th>49</th>\n",
       "      <td>Location 8</td>\n",
       "      <td>Qualifying Group 2</td>\n",
       "      <td>23.497500</td>\n",
       "      <td>33.775000</td>\n",
       "      <td>49.685000</td>\n",
       "      <td>1013.350000</td>\n",
       "      <td>8.297500</td>\n",
       "      <td>190.875000</td>\n",
       "      <td>0.000000</td>\n",
       "    </tr>\n",
       "    <tr>\n",
       "      <th>50</th>\n",
       "      <td>Location 8</td>\n",
       "      <td>Qualifying Group 3</td>\n",
       "      <td>23.621250</td>\n",
       "      <td>34.125000</td>\n",
       "      <td>48.975000</td>\n",
       "      <td>1013.303750</td>\n",
       "      <td>6.357500</td>\n",
       "      <td>192.875000</td>\n",
       "      <td>0.000000</td>\n",
       "    </tr>\n",
       "    <tr>\n",
       "      <th>51</th>\n",
       "      <td>Location 8</td>\n",
       "      <td>Qualifying Group 4</td>\n",
       "      <td>23.537500</td>\n",
       "      <td>34.087500</td>\n",
       "      <td>48.818750</td>\n",
       "      <td>1013.191250</td>\n",
       "      <td>8.948750</td>\n",
       "      <td>217.375000</td>\n",
       "      <td>0.000000</td>\n",
       "    </tr>\n",
       "    <tr>\n",
       "      <th>52</th>\n",
       "      <td>Location 6</td>\n",
       "      <td>Free Practice 3</td>\n",
       "      <td>12.598389</td>\n",
       "      <td>30.000000</td>\n",
       "      <td>81.600000</td>\n",
       "      <td>1014.754860</td>\n",
       "      <td>9.156733</td>\n",
       "      <td>167.245000</td>\n",
       "      <td>-1.000000</td>\n",
       "    </tr>\n",
       "  </tbody>\n",
       "</table>\n",
       "</div>"
      ],
      "text/plain": [
       "      LOCATION               EVENT  ...  WIND_DIRECTION      RAIN\n",
       "0   Location 1     Free Practice 1  ...      306.476190 -1.000000\n",
       "1   Location 1     Free Practice 2  ...      293.357143 -1.000000\n",
       "2   Location 1     Free Practice 3  ...      234.571429 -1.000000\n",
       "3   Location 1  Qualifying Group 1  ...      265.375000 -1.000000\n",
       "4   Location 1  Qualifying Group 2  ...      221.714286 -1.000000\n",
       "5   Location 1  Qualifying Group 3  ...      186.625000 -1.000000\n",
       "6   Location 1  Qualifying Group 4  ...      231.714286 -1.000000\n",
       "7   Location 2     Free Practice 1  ...       75.571429 -1.000000\n",
       "8   Location 2     Free Practice 2  ...      148.000000 -1.000000\n",
       "9   Location 2     Free Practice 3  ...      160.000000 -1.000000\n",
       "10  Location 2  Qualifying Group 1  ...      149.857143 -1.000000\n",
       "11  Location 2  Qualifying Group 2  ...      164.750000 -1.000000\n",
       "12  Location 2  Qualifying Group 3  ...      156.285714 -1.000000\n",
       "13  Location 2  Qualifying Group 4  ...      164.625000 -1.000000\n",
       "14  Location 3     Free Practice 1  ...      149.190476 -1.000000\n",
       "15  Location 3     Free Practice 2  ...      197.535714 -1.000000\n",
       "16  Location 3     Free Practice 3  ...      332.047619 -1.000000\n",
       "17  Location 3  Qualifying Group 1  ...      167.125000 -1.000000\n",
       "18  Location 3  Qualifying Group 2  ...      145.428571 -1.000000\n",
       "19  Location 3  Qualifying Group 3  ...      146.875000 -1.000000\n",
       "20  Location 3  Qualifying Group 4  ...      143.857143 -1.000000\n",
       "21  Location 4     Free Practice 1  ...      158.142857 -1.000000\n",
       "22  Location 4     Free Practice 2  ...      155.000000 -1.000000\n",
       "23  Location 4  Qualifying Group 1  ...      203.500000 -1.000000\n",
       "24  Location 4  Qualifying Group 2  ...       62.750000 -1.000000\n",
       "25  Location 4  Qualifying Group 3  ...       94.000000 -1.000000\n",
       "26  Location 4  Qualifying Group 4  ...      185.666667 -1.000000\n",
       "27  Location 5     Free Practice 1  ...       74.964286 -1.000000\n",
       "28  Location 5     Free Practice 2  ...      188.964286 -1.000000\n",
       "29  Location 5     Free Practice 3  ...      230.047619 -1.000000\n",
       "30  Location 5  Qualifying Group 1  ...      211.125000 -1.000000\n",
       "31  Location 5  Qualifying Group 2  ...      234.500000 -1.000000\n",
       "32  Location 5  Qualifying Group 3  ...      225.500000 -1.000000\n",
       "33  Location 5  Qualifying Group 4  ...      224.714286 -1.000000\n",
       "34  Location 6     Free Practice 1  ...      207.581395 -1.000000\n",
       "35  Location 6     Free Practice 2  ...      146.142857 -1.000000\n",
       "36  Location 6  Qualifying Group 1  ...      167.125000 -1.000000\n",
       "37  Location 6  Qualifying Group 2  ...      152.166667 -1.000000\n",
       "38  Location 6  Qualifying Group 3  ...      171.833333 -1.000000\n",
       "39  Location 6  Qualifying Group 4  ...      238.000000 -1.000000\n",
       "40  Location 7     Free Practice 1  ...      102.066667  0.000000\n",
       "41  Location 7     Free Practice 2  ...      175.400000  0.009667\n",
       "42  Location 7  Qualifying Group 1  ...      221.250000  0.000000\n",
       "43  Location 7  Qualifying Group 2  ...      282.500000  0.001250\n",
       "44  Location 7  Qualifying Group 3  ...      184.200000  0.001500\n",
       "45  Location 7  Qualifying Group 4  ...      216.750000  0.000000\n",
       "46  Location 8     Free Practice 1  ...      171.520000  0.000000\n",
       "47  Location 8     Free Practice 2  ...      170.883333  0.000000\n",
       "48  Location 8  Qualifying Group 1  ...      197.875000  0.000000\n",
       "49  Location 8  Qualifying Group 2  ...      190.875000  0.000000\n",
       "50  Location 8  Qualifying Group 3  ...      192.875000  0.000000\n",
       "51  Location 8  Qualifying Group 4  ...      217.375000  0.000000\n",
       "52  Location 6     Free Practice 3  ...      167.245000 -1.000000\n",
       "\n",
       "[53 rows x 9 columns]"
      ]
     },
     "execution_count": 8,
     "metadata": {},
     "output_type": "execute_result"
    }
   ],
   "source": [
    "new_row = {'LOCATION': 'Location 6',\t'EVENT':'Free Practice 3',\t'AIR_TEMP':12.598389,\t'TRACK_TEMP':30.000000,\t'HUMIDITY':81.600000,\t'PRESSURE':1014.754860,\t'WIND_SPEED':9.156733,\t'WIND_DIRECTION':167.245000,\t'RAIN':-1.000000} \t\n",
    "weather_df = weather_df.append(new_row, ignore_index=True)\n",
    "\n",
    "weather_df"
   ]
  },
  {
   "cell_type": "code",
   "execution_count": null,
   "metadata": {
    "id": "AgO75_MrOpZL"
   },
   "outputs": [],
   "source": [
    "train_ = pd.merge(result, weather_df, on=['LOCATION', 'EVENT'])\n",
    "test_ = pd.merge(test_data, weather_df, on=['LOCATION', 'EVENT'])\n"
   ]
  },
  {
   "cell_type": "code",
   "execution_count": null,
   "metadata": {
    "id": "L69S12S0YD90"
   },
   "outputs": [],
   "source": [
    "\n",
    "train_.to_csv('train_with_weather.csv', index=False)\n",
    "test_.to_csv('test_with_weather.csv', index=False)\n",
    "\n",
    "!cp train_with_weather.csv /content/drive/MyDrive/ML/ML_Challenges/F1_hackathon/\n",
    "!cp test_with_weather.csv  /content/drive/MyDrive/ML/ML_Challenges/F1_hackathon/\n"
   ]
  },
  {
   "cell_type": "code",
   "execution_count": null,
   "metadata": {
    "id": "NVhKFXy47tTR"
   },
   "outputs": [],
   "source": [
    "train_ = pd.read_csv('/content/drive/MyDrive/ML/ML_Challenges/F1_hackathon/train_with_weather.csv')\n",
    "test_ = pd.read_csv('/content/drive/MyDrive/ML/ML_Challenges/F1_hackathon/test_with_weather.csv')"
   ]
  },
  {
   "cell_type": "code",
   "execution_count": null,
   "metadata": {
    "id": "WU67M2Bk8x8O"
   },
   "outputs": [],
   "source": [
    "train_.isna().sum()"
   ]
  },
  {
   "cell_type": "code",
   "execution_count": null,
   "metadata": {
    "id": "_KVwhmOs9Xs1"
   },
   "outputs": [],
   "source": [
    "train_.to_csv('train_with_weather.csv', index=False)\n",
    "test_.to_csv('test_with_weather.csv', index=False)\n"
   ]
  },
  {
   "cell_type": "code",
   "execution_count": null,
   "metadata": {
    "colab": {
     "base_uri": "https://localhost:8080/"
    },
    "id": "CwdrQv2XBntp",
    "outputId": "f901a3a4-8e93-4988-c763-799705097611"
   },
   "outputs": [
    {
     "data": {
      "text/plain": [
       "(4105, 32)"
      ]
     },
     "execution_count": 36,
     "metadata": {},
     "output_type": "execute_result"
    }
   ],
   "source": [
    "train_.shape"
   ]
  },
  {
   "cell_type": "code",
   "execution_count": null,
   "metadata": {
    "colab": {
     "base_uri": "https://localhost:8080/"
    },
    "id": "Gmphj_FcALkO",
    "outputId": "aae7b7d1-524b-498c-b778-6ca99d6502ba"
   },
   "outputs": [
    {
     "data": {
      "text/plain": [
       "1    10276\n",
       "Name: DRIVER_NUMBER, dtype: int64"
      ]
     },
     "execution_count": 41,
     "metadata": {},
     "output_type": "execute_result"
    }
   ],
   "source": [
    "# print(train_['S3'].mean())\n",
    "train_['DRIVER_NUMBER'].value_counts()"
   ]
  },
  {
   "cell_type": "markdown",
   "metadata": {
    "id": "-7PFo3ilDxzV"
   },
   "source": [
    "###One Hot Encoding"
   ]
  },
  {
   "cell_type": "code",
   "execution_count": null,
   "metadata": {
    "id": "ZJgwz88WDw9Z"
   },
   "outputs": [],
   "source": [
    "def get_combined_data(train, test):\n",
    "  #reading train data\n",
    "  # train = pd.read_csv(\"/content/drive/MyDrive/ML/ML_Challenges/F1_hackathon/train.csv\")\n",
    "  # test = pd.read_csv(\"/content/drive/MyDrive/ML/ML_Challenges/F1_hackathon/test.csv\")\n",
    "  # global train_data\n",
    "  # global test_data\n",
    "  \n",
    "  \n",
    "  train.columns = train.columns.str.replace(' ','')\n",
    "  test.columns = test.columns.str.replace(' ','')\n",
    "  \n",
    "  test['GROUP'].fillna(2, inplace=True)\n",
    "\n",
    "  target = train.LAP_TIME\n",
    "  train.drop(['LAP_TIME'],axis = 1 , inplace = True)\n",
    "\n",
    "  test.drop(['LAP_TIME'],axis = 1 , inplace = True)\n",
    "\n",
    "  combined = train.append(test)\n",
    "  combined.reset_index(inplace=True)\n",
    "  combined.drop(['index'], inplace=True, axis=1)\n",
    "  return combined, target\n",
    "\n",
    "\n",
    "# test_data['GROUP'].fillna(2)\n",
    "# train_data['LAP_TIME'] = train_data['LAP_TIME'].replace(0, train_data['LAP_TIME'].mean())\n",
    "# cleanData(train_data)\n",
    "# cleanData(test_data)\n",
    "\n",
    "#Combine train and test data to process them together\n",
    "combined, target = get_combined_data(train_, test_)\n",
    "# combined, target = get_combined_data(train_data, test_data)\n"
   ]
  },
  {
   "cell_type": "code",
   "execution_count": null,
   "metadata": {
    "id": "5pzyr5OCgQXd"
   },
   "outputs": [],
   "source": []
  },
  {
   "cell_type": "code",
   "execution_count": null,
   "metadata": {
    "colab": {
     "base_uri": "https://localhost:8080/"
    },
    "id": "hajMlBw0gQe7",
    "outputId": "4c559291-d674-4b80-cf6f-473ef41ca668"
   },
   "outputs": [
    {
     "data": {
      "text/plain": [
       "(4525, 31)"
      ]
     },
     "execution_count": 11,
     "metadata": {},
     "output_type": "execute_result"
    }
   ],
   "source": [
    "combined.shape"
   ]
  },
  {
   "cell_type": "code",
   "execution_count": null,
   "metadata": {
    "colab": {
     "base_uri": "https://localhost:8080/",
     "height": 704
    },
    "id": "kjar3w7LFvfV",
    "outputId": "64bfe543-fe27-48cf-d5ae-e705df48b2e0"
   },
   "outputs": [
    {
     "data": {
      "text/html": [
       "<div>\n",
       "<style scoped>\n",
       "    .dataframe tbody tr th:only-of-type {\n",
       "        vertical-align: middle;\n",
       "    }\n",
       "\n",
       "    .dataframe tbody tr th {\n",
       "        vertical-align: top;\n",
       "    }\n",
       "\n",
       "    .dataframe thead th {\n",
       "        text-align: right;\n",
       "    }\n",
       "</style>\n",
       "<table border=\"1\" class=\"dataframe\">\n",
       "  <thead>\n",
       "    <tr style=\"text-align: right;\">\n",
       "      <th></th>\n",
       "      <th>NUMBER</th>\n",
       "      <th>LAP_NUMBER</th>\n",
       "      <th>LAP_IMPROVEMENT</th>\n",
       "      <th>S1</th>\n",
       "      <th>S1_IMPROVEMENT</th>\n",
       "      <th>S2</th>\n",
       "      <th>S2_IMPROVEMENT</th>\n",
       "      <th>S3</th>\n",
       "      <th>S3_IMPROVEMENT</th>\n",
       "      <th>KPH</th>\n",
       "      <th>ELAPSED</th>\n",
       "      <th>HOUR</th>\n",
       "      <th>S1_LARGE</th>\n",
       "      <th>S2_LARGE</th>\n",
       "      <th>S3_LARGE</th>\n",
       "      <th>DRIVER_NAME</th>\n",
       "      <th>PIT_TIME</th>\n",
       "      <th>GROUP</th>\n",
       "      <th>TEAM</th>\n",
       "      <th>POWER</th>\n",
       "      <th>LOCATION</th>\n",
       "      <th>EVENT</th>\n",
       "      <th>AIR_TEMP</th>\n",
       "      <th>TRACK_TEMP</th>\n",
       "      <th>HUMIDITY</th>\n",
       "      <th>PRESSURE</th>\n",
       "      <th>WIND_SPEED</th>\n",
       "      <th>WIND_DIRECTION</th>\n",
       "      <th>RAIN</th>\n",
       "    </tr>\n",
       "  </thead>\n",
       "  <tbody>\n",
       "    <tr>\n",
       "      <th>0</th>\n",
       "      <td>10</td>\n",
       "      <td>1</td>\n",
       "      <td>0</td>\n",
       "      <td>81.200</td>\n",
       "      <td>0</td>\n",
       "      <td>32.553</td>\n",
       "      <td>0</td>\n",
       "      <td>21.912</td>\n",
       "      <td>0</td>\n",
       "      <td>61.5</td>\n",
       "      <td>135.7</td>\n",
       "      <td>1035.7</td>\n",
       "      <td>81.2</td>\n",
       "      <td>32.6</td>\n",
       "      <td>21.9</td>\n",
       "      <td>SB</td>\n",
       "      <td>47.8</td>\n",
       "      <td>0.0</td>\n",
       "      <td>JR</td>\n",
       "      <td>245.73903</td>\n",
       "      <td>Location 6</td>\n",
       "      <td>Free Practice 3</td>\n",
       "      <td>12.598389</td>\n",
       "      <td>30.000</td>\n",
       "      <td>81.600</td>\n",
       "      <td>1014.75486</td>\n",
       "      <td>9.156733</td>\n",
       "      <td>167.245</td>\n",
       "      <td>-1.0</td>\n",
       "    </tr>\n",
       "    <tr>\n",
       "      <th>1</th>\n",
       "      <td>10</td>\n",
       "      <td>2</td>\n",
       "      <td>0</td>\n",
       "      <td>26.130</td>\n",
       "      <td>0</td>\n",
       "      <td>29.227</td>\n",
       "      <td>0</td>\n",
       "      <td>21.570</td>\n",
       "      <td>0</td>\n",
       "      <td>108.6</td>\n",
       "      <td>212.6</td>\n",
       "      <td>1112.6</td>\n",
       "      <td>26.1</td>\n",
       "      <td>29.2</td>\n",
       "      <td>21.6</td>\n",
       "      <td>SB</td>\n",
       "      <td>0.0</td>\n",
       "      <td>0.0</td>\n",
       "      <td>JR</td>\n",
       "      <td>245.73903</td>\n",
       "      <td>Location 6</td>\n",
       "      <td>Free Practice 3</td>\n",
       "      <td>12.598389</td>\n",
       "      <td>30.000</td>\n",
       "      <td>81.600</td>\n",
       "      <td>1014.75486</td>\n",
       "      <td>9.156733</td>\n",
       "      <td>167.245</td>\n",
       "      <td>-1.0</td>\n",
       "    </tr>\n",
       "    <tr>\n",
       "      <th>2</th>\n",
       "      <td>10</td>\n",
       "      <td>3</td>\n",
       "      <td>0</td>\n",
       "      <td>27.038</td>\n",
       "      <td>0</td>\n",
       "      <td>34.000</td>\n",
       "      <td>0</td>\n",
       "      <td>22.270</td>\n",
       "      <td>0</td>\n",
       "      <td>100.3</td>\n",
       "      <td>295.9</td>\n",
       "      <td>1195.9</td>\n",
       "      <td>27.0</td>\n",
       "      <td>34.0</td>\n",
       "      <td>22.3</td>\n",
       "      <td>SB</td>\n",
       "      <td>0.0</td>\n",
       "      <td>0.0</td>\n",
       "      <td>JR</td>\n",
       "      <td>245.73903</td>\n",
       "      <td>Location 6</td>\n",
       "      <td>Free Practice 3</td>\n",
       "      <td>12.598389</td>\n",
       "      <td>30.000</td>\n",
       "      <td>81.600</td>\n",
       "      <td>1014.75486</td>\n",
       "      <td>9.156733</td>\n",
       "      <td>167.245</td>\n",
       "      <td>-1.0</td>\n",
       "    </tr>\n",
       "    <tr>\n",
       "      <th>3</th>\n",
       "      <td>10</td>\n",
       "      <td>4</td>\n",
       "      <td>0</td>\n",
       "      <td>24.945</td>\n",
       "      <td>0</td>\n",
       "      <td>27.891</td>\n",
       "      <td>0</td>\n",
       "      <td>19.986</td>\n",
       "      <td>0</td>\n",
       "      <td>114.7</td>\n",
       "      <td>368.8</td>\n",
       "      <td>1268.8</td>\n",
       "      <td>24.9</td>\n",
       "      <td>27.9</td>\n",
       "      <td>20.0</td>\n",
       "      <td>SB</td>\n",
       "      <td>0.0</td>\n",
       "      <td>0.0</td>\n",
       "      <td>JR</td>\n",
       "      <td>245.73903</td>\n",
       "      <td>Location 6</td>\n",
       "      <td>Free Practice 3</td>\n",
       "      <td>12.598389</td>\n",
       "      <td>30.000</td>\n",
       "      <td>81.600</td>\n",
       "      <td>1014.75486</td>\n",
       "      <td>9.156733</td>\n",
       "      <td>167.245</td>\n",
       "      <td>-1.0</td>\n",
       "    </tr>\n",
       "    <tr>\n",
       "      <th>4</th>\n",
       "      <td>10</td>\n",
       "      <td>5</td>\n",
       "      <td>0</td>\n",
       "      <td>25.595</td>\n",
       "      <td>0</td>\n",
       "      <td>28.915</td>\n",
       "      <td>0</td>\n",
       "      <td>284.700</td>\n",
       "      <td>0</td>\n",
       "      <td>24.6</td>\n",
       "      <td>707.9</td>\n",
       "      <td>1607.9</td>\n",
       "      <td>25.6</td>\n",
       "      <td>28.9</td>\n",
       "      <td>284.7</td>\n",
       "      <td>SB</td>\n",
       "      <td>0.0</td>\n",
       "      <td>0.0</td>\n",
       "      <td>JR</td>\n",
       "      <td>245.73903</td>\n",
       "      <td>Location 6</td>\n",
       "      <td>Free Practice 3</td>\n",
       "      <td>12.598389</td>\n",
       "      <td>30.000</td>\n",
       "      <td>81.600</td>\n",
       "      <td>1014.75486</td>\n",
       "      <td>9.156733</td>\n",
       "      <td>167.245</td>\n",
       "      <td>-1.0</td>\n",
       "    </tr>\n",
       "    <tr>\n",
       "      <th>...</th>\n",
       "      <td>...</td>\n",
       "      <td>...</td>\n",
       "      <td>...</td>\n",
       "      <td>...</td>\n",
       "      <td>...</td>\n",
       "      <td>...</td>\n",
       "      <td>...</td>\n",
       "      <td>...</td>\n",
       "      <td>...</td>\n",
       "      <td>...</td>\n",
       "      <td>...</td>\n",
       "      <td>...</td>\n",
       "      <td>...</td>\n",
       "      <td>...</td>\n",
       "      <td>...</td>\n",
       "      <td>...</td>\n",
       "      <td>...</td>\n",
       "      <td>...</td>\n",
       "      <td>...</td>\n",
       "      <td>...</td>\n",
       "      <td>...</td>\n",
       "      <td>...</td>\n",
       "      <td>...</td>\n",
       "      <td>...</td>\n",
       "      <td>...</td>\n",
       "      <td>...</td>\n",
       "      <td>...</td>\n",
       "      <td>...</td>\n",
       "      <td>...</td>\n",
       "    </tr>\n",
       "    <tr>\n",
       "      <th>4520</th>\n",
       "      <td>36</td>\n",
       "      <td>2</td>\n",
       "      <td>2</td>\n",
       "      <td>22.648</td>\n",
       "      <td>2</td>\n",
       "      <td>21.002</td>\n",
       "      <td>2</td>\n",
       "      <td>23.438</td>\n",
       "      <td>2</td>\n",
       "      <td>126.4</td>\n",
       "      <td>298.5</td>\n",
       "      <td>3058.5</td>\n",
       "      <td>22.6</td>\n",
       "      <td>21.0</td>\n",
       "      <td>23.4</td>\n",
       "      <td>ALOTTE</td>\n",
       "      <td>0.0</td>\n",
       "      <td>3.0</td>\n",
       "      <td>TAG</td>\n",
       "      <td>250.00000</td>\n",
       "      <td>Location 8</td>\n",
       "      <td>Qualifying Group 3</td>\n",
       "      <td>23.621250</td>\n",
       "      <td>34.125</td>\n",
       "      <td>48.975</td>\n",
       "      <td>1013.30375</td>\n",
       "      <td>6.357500</td>\n",
       "      <td>192.875</td>\n",
       "      <td>0.0</td>\n",
       "    </tr>\n",
       "    <tr>\n",
       "      <th>4521</th>\n",
       "      <td>5</td>\n",
       "      <td>1</td>\n",
       "      <td>0</td>\n",
       "      <td>171.200</td>\n",
       "      <td>0</td>\n",
       "      <td>26.054</td>\n",
       "      <td>0</td>\n",
       "      <td>25.676</td>\n",
       "      <td>0</td>\n",
       "      <td>38.0</td>\n",
       "      <td>222.9</td>\n",
       "      <td>2982.9</td>\n",
       "      <td>171.2</td>\n",
       "      <td>26.1</td>\n",
       "      <td>25.7</td>\n",
       "      <td>SVANDOO</td>\n",
       "      <td>150.4</td>\n",
       "      <td>3.0</td>\n",
       "      <td>Ml</td>\n",
       "      <td>250.00000</td>\n",
       "      <td>Location 8</td>\n",
       "      <td>Qualifying Group 3</td>\n",
       "      <td>23.621250</td>\n",
       "      <td>34.125</td>\n",
       "      <td>48.975</td>\n",
       "      <td>1013.30375</td>\n",
       "      <td>6.357500</td>\n",
       "      <td>192.875</td>\n",
       "      <td>0.0</td>\n",
       "    </tr>\n",
       "    <tr>\n",
       "      <th>4522</th>\n",
       "      <td>5</td>\n",
       "      <td>2</td>\n",
       "      <td>4</td>\n",
       "      <td>22.401</td>\n",
       "      <td>2</td>\n",
       "      <td>20.984</td>\n",
       "      <td>2</td>\n",
       "      <td>23.293</td>\n",
       "      <td>2</td>\n",
       "      <td>127.1</td>\n",
       "      <td>289.6</td>\n",
       "      <td>3049.6</td>\n",
       "      <td>22.4</td>\n",
       "      <td>21.0</td>\n",
       "      <td>23.3</td>\n",
       "      <td>SVANDOO</td>\n",
       "      <td>0.0</td>\n",
       "      <td>3.0</td>\n",
       "      <td>Ml</td>\n",
       "      <td>250.00000</td>\n",
       "      <td>Location 8</td>\n",
       "      <td>Qualifying Group 3</td>\n",
       "      <td>23.621250</td>\n",
       "      <td>34.125</td>\n",
       "      <td>48.975</td>\n",
       "      <td>1013.30375</td>\n",
       "      <td>6.357500</td>\n",
       "      <td>192.875</td>\n",
       "      <td>0.0</td>\n",
       "    </tr>\n",
       "    <tr>\n",
       "      <th>4523</th>\n",
       "      <td>99</td>\n",
       "      <td>1</td>\n",
       "      <td>0</td>\n",
       "      <td>162.800</td>\n",
       "      <td>0</td>\n",
       "      <td>22.288</td>\n",
       "      <td>0</td>\n",
       "      <td>27.709</td>\n",
       "      <td>0</td>\n",
       "      <td>39.8</td>\n",
       "      <td>212.8</td>\n",
       "      <td>2972.8</td>\n",
       "      <td>162.8</td>\n",
       "      <td>22.3</td>\n",
       "      <td>27.7</td>\n",
       "      <td>PWEHRL</td>\n",
       "      <td>145.1</td>\n",
       "      <td>3.0</td>\n",
       "      <td>TAG</td>\n",
       "      <td>250.00000</td>\n",
       "      <td>Location 8</td>\n",
       "      <td>Qualifying Group 3</td>\n",
       "      <td>23.621250</td>\n",
       "      <td>34.125</td>\n",
       "      <td>48.975</td>\n",
       "      <td>1013.30375</td>\n",
       "      <td>6.357500</td>\n",
       "      <td>192.875</td>\n",
       "      <td>0.0</td>\n",
       "    </tr>\n",
       "    <tr>\n",
       "      <th>4524</th>\n",
       "      <td>99</td>\n",
       "      <td>2</td>\n",
       "      <td>2</td>\n",
       "      <td>22.374</td>\n",
       "      <td>4</td>\n",
       "      <td>21.119</td>\n",
       "      <td>2</td>\n",
       "      <td>23.621</td>\n",
       "      <td>2</td>\n",
       "      <td>126.3</td>\n",
       "      <td>279.9</td>\n",
       "      <td>3039.9</td>\n",
       "      <td>22.4</td>\n",
       "      <td>21.1</td>\n",
       "      <td>23.6</td>\n",
       "      <td>PWEHRL</td>\n",
       "      <td>0.0</td>\n",
       "      <td>3.0</td>\n",
       "      <td>TAG</td>\n",
       "      <td>250.00000</td>\n",
       "      <td>Location 8</td>\n",
       "      <td>Qualifying Group 3</td>\n",
       "      <td>23.621250</td>\n",
       "      <td>34.125</td>\n",
       "      <td>48.975</td>\n",
       "      <td>1013.30375</td>\n",
       "      <td>6.357500</td>\n",
       "      <td>192.875</td>\n",
       "      <td>0.0</td>\n",
       "    </tr>\n",
       "  </tbody>\n",
       "</table>\n",
       "<p>4525 rows × 29 columns</p>\n",
       "</div>"
      ],
      "text/plain": [
       "      NUMBER  LAP_NUMBER  LAP_IMPROVEMENT  ...  WIND_SPEED  WIND_DIRECTION  RAIN\n",
       "0         10           1                0  ...    9.156733         167.245  -1.0\n",
       "1         10           2                0  ...    9.156733         167.245  -1.0\n",
       "2         10           3                0  ...    9.156733         167.245  -1.0\n",
       "3         10           4                0  ...    9.156733         167.245  -1.0\n",
       "4         10           5                0  ...    9.156733         167.245  -1.0\n",
       "...      ...         ...              ...  ...         ...             ...   ...\n",
       "4520      36           2                2  ...    6.357500         192.875   0.0\n",
       "4521       5           1                0  ...    6.357500         192.875   0.0\n",
       "4522       5           2                4  ...    6.357500         192.875   0.0\n",
       "4523      99           1                0  ...    6.357500         192.875   0.0\n",
       "4524      99           2                2  ...    6.357500         192.875   0.0\n",
       "\n",
       "[4525 rows x 29 columns]"
      ]
     },
     "execution_count": 12,
     "metadata": {},
     "output_type": "execute_result"
    }
   ],
   "source": [
    "\n",
    "cleanData(combined)\n",
    "\n",
    "# combined['LOCATION'].value_counts()"
   ]
  },
  {
   "cell_type": "markdown",
   "metadata": {
    "id": "6btVqcb_DxNB"
   },
   "source": [
    "def get_cols_with_no_nans(df,col_type):\n",
    "    '''\n",
    "    Arguments :\n",
    "    df : The dataframe to process\n",
    "    col_type : \n",
    "          num : to only get numerical columns with no nans\n",
    "          no_num : to only get nun-numerical columns with no nans\n",
    "          all : to get any columns with no nans    \n",
    "    '''\n",
    "    if (col_type == 'num'):\n",
    "        predictors = df.select_dtypes(exclude=['object'])\n",
    "    elif (col_type == 'no_num'):\n",
    "        predictors = df.select_dtypes(include=['object'])\n",
    "    elif (col_type == 'all'):\n",
    "        predictors = df\n",
    "    else :\n",
    "        print('Error : choose a type (num, no_num, all)')\n",
    "        return 0\n",
    "    cols_with_no_nans = []\n",
    "    for col in predictors.columns:\n",
    "        if not df[col].isnull().any():\n",
    "            cols_with_no_nans.append(col)\n",
    "    return cols_with_no_nans"
   ]
  },
  {
   "cell_type": "markdown",
   "metadata": {
    "id": "S2GRBefBDxQ8"
   },
   "source": [
    "num_cols = get_cols_with_no_nans(combined_clean , 'num')\n",
    "cat_cols = get_cols_with_no_nans(combined_clean , 'no_num')\n",
    "\n",
    "print ('Number of numerical columns with no nan values :',len(num_cols))\n",
    "print ('Number of nun-numerical columns with no nan values :',len(cat_cols))\n",
    "\n",
    "print(num_cols)\n",
    "print(cat_cols)"
   ]
  },
  {
   "cell_type": "markdown",
   "metadata": {
    "id": "P2oVMBULDxU_"
   },
   "source": [
    "combined_clean = combined_clean[num_cols + cat_cols]\n",
    "combined_clean.hist(figsize = (12,10))\n",
    "plt.show()"
   ]
  },
  {
   "cell_type": "markdown",
   "metadata": {
    "id": "v9bZSbCHF8zR"
   },
   "source": [
    "train_data = train_data[num_cols + cat_cols]\n",
    "train_data['LAP_TIME'] = target\n",
    "\n",
    "C_mat = train_data.corr()\n",
    "fig = plt.figure(figsize = (7, 7))\n",
    "\n",
    "sb.heatmap(C_mat, vmax = .8, square = True)\n",
    "plt.show()"
   ]
  },
  {
   "cell_type": "code",
   "execution_count": null,
   "metadata": {
    "colab": {
     "base_uri": "https://localhost:8080/"
    },
    "id": "naLaf-ZqF82v",
    "outputId": "bfc6e0d4-9d61-4d7b-a6df-61851551f7ba"
   },
   "outputs": [
    {
     "name": "stdout",
     "output_type": "stream",
     "text": [
      "There were 29 columns before encoding categorical features\n",
      "There are 80 columns after encoding categorical features\n"
     ]
    }
   ],
   "source": [
    "\n",
    "print('There were {} columns before encoding categorical features'.format(combined.shape[1]))\n",
    "combined = pd.get_dummies(combined)\n",
    "print('There are {} columns after encoding categorical features'.format(combined.shape[1]))"
   ]
  },
  {
   "cell_type": "markdown",
   "metadata": {
    "id": "SxTDecQzuQah"
   },
   "source": [
    "###Save Combined Data Frame\n"
   ]
  },
  {
   "cell_type": "code",
   "execution_count": null,
   "metadata": {
    "id": "5H_ExkdJuPyB"
   },
   "outputs": [],
   "source": [
    "combined.to_csv('combined_with_weather.csv', index=False)\n",
    "target.to_csv('target.csv', index=False)\n",
    "\n",
    "!cp combined_with_weather.csv /content/drive/MyDrive/ML/ML_Challenges/F1_hackathon/\n",
    "!cp target.csv /content/drive/MyDrive/ML/ML_Challenges/F1_hackathon/"
   ]
  },
  {
   "cell_type": "markdown",
   "metadata": {
    "id": "Xcnt-GCiu9QG"
   },
   "source": [
    "###Load Combined Data Frame"
   ]
  },
  {
   "cell_type": "code",
   "execution_count": null,
   "metadata": {
    "id": "FFEA0Yrou9dQ"
   },
   "outputs": [],
   "source": [
    "combined = pd.read_csv('/content/drive/MyDrive/ML/ML_Challenges/F1_hackathon/combined_with_weather.csv')\n",
    "target = pd.read_csv('/content/drive/MyDrive/ML/ML_Challenges/F1_hackathon/target.csv')"
   ]
  },
  {
   "cell_type": "markdown",
   "metadata": {
    "id": "eh_Pa222vHjb"
   },
   "source": [
    "###Split Combined Data"
   ]
  },
  {
   "cell_type": "code",
   "execution_count": null,
   "metadata": {
    "id": "zUrlQLnSF87q"
   },
   "outputs": [],
   "source": [
    "\n",
    "def split_combined():\n",
    "    global combined\n",
    "    # train = combined[:10276]\n",
    "    # test = combined[10276:]\n",
    "    train = combined[:4105]\n",
    "    test = combined[4105:]\n",
    "    \n",
    "\n",
    "    return train , test \n",
    "  \n",
    "train, test = split_combined()\n",
    "test = test.reset_index(drop=True)"
   ]
  },
  {
   "cell_type": "code",
   "execution_count": null,
   "metadata": {
    "colab": {
     "base_uri": "https://localhost:8080/"
    },
    "id": "ImAzuZfAJQhp",
    "outputId": "d7ab55ae-ca84-4a9a-b653-815502d3a04f"
   },
   "outputs": [
    {
     "name": "stdout",
     "output_type": "stream",
     "text": [
      "(4105, 80) (420, 80)\n"
     ]
    }
   ],
   "source": [
    "# print(train_data.shape, test_data.shape)\n",
    "print(train.shape, test.shape)"
   ]
  },
  {
   "cell_type": "markdown",
   "metadata": {
    "id": "2mJQxPxOEFNe"
   },
   "source": [
    "###After cleaning data"
   ]
  },
  {
   "cell_type": "code",
   "execution_count": null,
   "metadata": {
    "id": "NLq3dPWoToee"
   },
   "outputs": [],
   "source": [
    "from sklearn.model_selection import train_test_split\n",
    "X = train.values\n",
    "y = target.values\n",
    "\n",
    "X_train, X_val, y_train, y_val = train_test_split(X, y, test_size=0.30, random_state=42)\n",
    "# X_train, X_val, y_train, y_val = train_test_split(X, y, test_size=0.01, random_state=42)\n"
   ]
  },
  {
   "cell_type": "code",
   "execution_count": null,
   "metadata": {
    "id": "lbSIsmD_vM_i"
   },
   "outputs": [],
   "source": [
    "# testY = list(test['LAP_TIME'])\n",
    "# del test['LAP_TIME']\n",
    "\n",
    "testX = test.values\n"
   ]
  },
  {
   "cell_type": "markdown",
   "metadata": {
    "id": "uy7MrQen0DiS"
   },
   "source": [
    "###Heat Map"
   ]
  },
  {
   "cell_type": "code",
   "execution_count": null,
   "metadata": {
    "id": "uwTWUqG5MBRM"
   },
   "outputs": [],
   "source": [
    "train = pd.read_csv(\"/content/drive/MyDrive/ML/ML_Challenges/F1_hackathon/train.csv\")\n",
    "train.columns = train.columns.str.replace(' ','')\n"
   ]
  },
  {
   "cell_type": "code",
   "execution_count": null,
   "metadata": {
    "id": "5MNBsFK-MXjV"
   },
   "outputs": [],
   "source": [
    "cleanData(train)\n"
   ]
  },
  {
   "cell_type": "code",
   "execution_count": null,
   "metadata": {
    "id": "0JsDcFrGMpFC"
   },
   "outputs": [],
   "source": [
    "train.dtypes\n",
    "\n",
    "del train['CROSSING_FINISH_LINE_IN_PIT']\n",
    "del train['DRIVER_NAME']\n",
    "del train['TEAM']\n",
    "del train['LOCATION']\n",
    "del train['EVENT']"
   ]
  },
  {
   "cell_type": "code",
   "execution_count": null,
   "metadata": {
    "id": "NmtqbvxFNTVK"
   },
   "outputs": [],
   "source": [
    "del train['DRIVER_NUMBER']"
   ]
  },
  {
   "cell_type": "code",
   "execution_count": null,
   "metadata": {
    "id": "zFFchNGF0DBL"
   },
   "outputs": [],
   "source": [
    "import pandas as pd\n",
    "import matplotlib.pyplot as plt\n",
    "import seaborn as sb\n",
    "import numpy as np"
   ]
  },
  {
   "cell_type": "code",
   "execution_count": null,
   "metadata": {
    "colab": {
     "base_uri": "https://localhost:8080/",
     "height": 224
    },
    "id": "gkkCOSgc0DEq",
    "outputId": "68b05f69-3dcc-4f13-e12a-2b8b2a705101"
   },
   "outputs": [
    {
     "data": {
      "text/html": [
       "<div>\n",
       "<style scoped>\n",
       "    .dataframe tbody tr th:only-of-type {\n",
       "        vertical-align: middle;\n",
       "    }\n",
       "\n",
       "    .dataframe tbody tr th {\n",
       "        vertical-align: top;\n",
       "    }\n",
       "\n",
       "    .dataframe thead th {\n",
       "        text-align: right;\n",
       "    }\n",
       "</style>\n",
       "<table border=\"1\" class=\"dataframe\">\n",
       "  <thead>\n",
       "    <tr style=\"text-align: right;\">\n",
       "      <th></th>\n",
       "      <th>NUMBER</th>\n",
       "      <th>LAP_NUMBER</th>\n",
       "      <th>LAP_TIME</th>\n",
       "      <th>LAP_IMPROVEMENT</th>\n",
       "      <th>S1</th>\n",
       "      <th>S1_IMPROVEMENT</th>\n",
       "      <th>S2</th>\n",
       "      <th>S2_IMPROVEMENT</th>\n",
       "      <th>S3</th>\n",
       "      <th>S3_IMPROVEMENT</th>\n",
       "      <th>KPH</th>\n",
       "      <th>ELAPSED</th>\n",
       "      <th>HOUR</th>\n",
       "      <th>S1_LARGE</th>\n",
       "      <th>S2_LARGE</th>\n",
       "      <th>S3_LARGE</th>\n",
       "      <th>PIT_TIME</th>\n",
       "      <th>GROUP</th>\n",
       "      <th>POWER</th>\n",
       "    </tr>\n",
       "  </thead>\n",
       "  <tbody>\n",
       "    <tr>\n",
       "      <th>0</th>\n",
       "      <td>10</td>\n",
       "      <td>1</td>\n",
       "      <td>92</td>\n",
       "      <td>0</td>\n",
       "      <td>343.000</td>\n",
       "      <td>0</td>\n",
       "      <td>35.427</td>\n",
       "      <td>0</td>\n",
       "      <td>43.313</td>\n",
       "      <td>0</td>\n",
       "      <td>28.8</td>\n",
       "      <td>422.0</td>\n",
       "      <td>1322.0</td>\n",
       "      <td>343.3</td>\n",
       "      <td>35.4</td>\n",
       "      <td>43.3</td>\n",
       "      <td>314.7</td>\n",
       "      <td>0.0</td>\n",
       "      <td>0.0</td>\n",
       "    </tr>\n",
       "    <tr>\n",
       "      <th>1</th>\n",
       "      <td>10</td>\n",
       "      <td>2</td>\n",
       "      <td>87</td>\n",
       "      <td>2</td>\n",
       "      <td>25.674</td>\n",
       "      <td>2</td>\n",
       "      <td>33.399</td>\n",
       "      <td>2</td>\n",
       "      <td>41.922</td>\n",
       "      <td>2</td>\n",
       "      <td>120.5</td>\n",
       "      <td>523.0</td>\n",
       "      <td>1423.0</td>\n",
       "      <td>25.7</td>\n",
       "      <td>33.4</td>\n",
       "      <td>41.9</td>\n",
       "      <td>0.0</td>\n",
       "      <td>0.0</td>\n",
       "      <td>0.0</td>\n",
       "    </tr>\n",
       "    <tr>\n",
       "      <th>2</th>\n",
       "      <td>10</td>\n",
       "      <td>3</td>\n",
       "      <td>73</td>\n",
       "      <td>0</td>\n",
       "      <td>28.129</td>\n",
       "      <td>0</td>\n",
       "      <td>34.091</td>\n",
       "      <td>0</td>\n",
       "      <td>57.248</td>\n",
       "      <td>0</td>\n",
       "      <td>101.9</td>\n",
       "      <td>642.5</td>\n",
       "      <td>1542.5</td>\n",
       "      <td>28.1</td>\n",
       "      <td>34.1</td>\n",
       "      <td>57.2</td>\n",
       "      <td>0.0</td>\n",
       "      <td>0.0</td>\n",
       "      <td>0.0</td>\n",
       "    </tr>\n",
       "    <tr>\n",
       "      <th>3</th>\n",
       "      <td>11</td>\n",
       "      <td>1</td>\n",
       "      <td>73</td>\n",
       "      <td>0</td>\n",
       "      <td>65.000</td>\n",
       "      <td>0</td>\n",
       "      <td>38.416</td>\n",
       "      <td>0</td>\n",
       "      <td>56.833</td>\n",
       "      <td>0</td>\n",
       "      <td>75.9</td>\n",
       "      <td>160.2</td>\n",
       "      <td>1060.2</td>\n",
       "      <td>65.0</td>\n",
       "      <td>38.4</td>\n",
       "      <td>56.8</td>\n",
       "      <td>33.0</td>\n",
       "      <td>0.0</td>\n",
       "      <td>0.0</td>\n",
       "    </tr>\n",
       "    <tr>\n",
       "      <th>4</th>\n",
       "      <td>11</td>\n",
       "      <td>2</td>\n",
       "      <td>73</td>\n",
       "      <td>0</td>\n",
       "      <td>28.013</td>\n",
       "      <td>0</td>\n",
       "      <td>36.743</td>\n",
       "      <td>0</td>\n",
       "      <td>44.716</td>\n",
       "      <td>0</td>\n",
       "      <td>111.2</td>\n",
       "      <td>269.7</td>\n",
       "      <td>1169.7</td>\n",
       "      <td>28.0</td>\n",
       "      <td>36.7</td>\n",
       "      <td>44.7</td>\n",
       "      <td>0.0</td>\n",
       "      <td>0.0</td>\n",
       "      <td>0.0</td>\n",
       "    </tr>\n",
       "  </tbody>\n",
       "</table>\n",
       "</div>"
      ],
      "text/plain": [
       "   NUMBER  LAP_NUMBER  LAP_TIME  ...  PIT_TIME  GROUP  POWER\n",
       "0      10           1        92  ...     314.7    0.0    0.0\n",
       "1      10           2        87  ...       0.0    0.0    0.0\n",
       "2      10           3        73  ...       0.0    0.0    0.0\n",
       "3      11           1        73  ...      33.0    0.0    0.0\n",
       "4      11           2        73  ...       0.0    0.0    0.0\n",
       "\n",
       "[5 rows x 19 columns]"
      ]
     },
     "execution_count": 23,
     "metadata": {},
     "output_type": "execute_result"
    }
   ],
   "source": [
    "#importing libraries\n",
    "from sklearn.datasets import load_boston\n",
    "import pandas as pd\n",
    "import numpy as np\n",
    "import matplotlib\n",
    "import matplotlib.pyplot as plt\n",
    "import seaborn as sns\n",
    "import statsmodels.api as sm\n",
    "%matplotlib inline\n",
    "from sklearn.model_selection import train_test_split\n",
    "from sklearn.linear_model import LinearRegression\n",
    "from sklearn.feature_selection import RFE\n",
    "from sklearn.linear_model import RidgeCV, LassoCV, Ridge, Lasso\n",
    "\n",
    "\n",
    "df = train\n",
    "df[\"LAP_TIME\"] = target\n",
    "X = df.drop(\"LAP_TIME\",1)   #Feature Matrix\n",
    "y = df[\"LAP_TIME\"]          #Target Variable\n",
    "df.head()"
   ]
  },
  {
   "cell_type": "code",
   "execution_count": null,
   "metadata": {
    "colab": {
     "base_uri": "https://localhost:8080/",
     "height": 954
    },
    "id": "ucWIA_6M0DH8",
    "outputId": "25180859-b453-4cb1-d866-a5523bb86858"
   },
   "outputs": [
    {
     "data": {
      "image/png": "[encoded data removed]",
      "text/plain": [
       "<Figure size 1440x1080 with 2 Axes>"
      ]
     },
     "metadata": {
      "needs_background": "light"
     },
     "output_type": "display_data"
    }
   ],
   "source": [
    "#Using Pearson Correlation\n",
    "plt.figure(figsize=(20,15))\n",
    "cor = df.corr()\n",
    "sns.heatmap(cor, annot=True, cmap=plt.cm.Reds)\n",
    "plt.show()"
   ]
  },
  {
   "cell_type": "code",
   "execution_count": null,
   "metadata": {
    "id": "q2cCnRzs0CHj"
   },
   "outputs": [],
   "source": []
  },
  {
   "cell_type": "markdown",
   "metadata": {
    "id": "dflajKxg7E0A"
   },
   "source": [
    "###SVM Regressor"
   ]
  },
  {
   "cell_type": "code",
   "execution_count": null,
   "metadata": {
    "colab": {
     "base_uri": "https://localhost:8080/"
    },
    "id": "YTOgYZ_O5Smc",
    "outputId": "b7f569c1-ae16-4f00-8913-4abb77988a5f"
   },
   "outputs": [
    {
     "data": {
      "text/plain": [
       "0.546795682407487"
      ]
     },
     "execution_count": 58,
     "metadata": {},
     "output_type": "execute_result"
    }
   ],
   "source": [
    "\n",
    "from sklearn import svm\n",
    "\n",
    "regr   = svm.SVR()\n",
    "regr.fit(X_train, y_train)\n",
    "\n",
    "y_pred = regr.predict(X_val)\n",
    "\n",
    "np.sqrt(mean_squared_log_error(y_val, y_pred))"
   ]
  },
  {
   "cell_type": "code",
   "execution_count": null,
   "metadata": {
    "id": "C_XHn0UYvo6G"
   },
   "outputs": [],
   "source": [
    "y_test_pred = regr.predict(testX)\n",
    "submission_df_SVM = pd.DataFrame(y_test_pred)\n",
    "submission_df_SVM.to_csv('sub_one_hot_SVM.csv', index=False)"
   ]
  },
  {
   "cell_type": "markdown",
   "metadata": {
    "id": "dWzpd6bK7ZeN"
   },
   "source": [
    "###RandomForestRegressor"
   ]
  },
  {
   "cell_type": "code",
   "execution_count": null,
   "metadata": {
    "id": "jfVwCgeO7Nld"
   },
   "outputs": [],
   "source": [
    "from sklearn.ensemble import RandomForestRegressor\n",
    "\n",
    "model = RandomForestRegressor()\n",
    "model.fit(X_train,y_train)\n",
    "\n",
    "# Get the mean absolute error on the validation data\n",
    "y_pred = model.predict(X_val)\n",
    "\n",
    "rmse = np.sqrt(mean_squared_log_error(y_val, y_pred))\n",
    "\n",
    "print('Random forest validation RMSE = ', rmse)"
   ]
  },
  {
   "cell_type": "code",
   "execution_count": null,
   "metadata": {
    "id": "JSqQVPnA7Nog"
   },
   "outputs": [],
   "source": [
    "y_test_pred = regr.predict(testX)\n",
    "submission_df_RF = pd.DataFrame(y_test_pred)\n",
    "submission_df_RF.columns = [\"LAP_TIME\"]\n",
    "submission_df_RF.to_csv('sub_one_hot_RF.csv', index=False)"
   ]
  },
  {
   "cell_type": "code",
   "execution_count": null,
   "metadata": {
    "id": "nUKG6nN98JV9"
   },
   "outputs": [],
   "source": []
  },
  {
   "cell_type": "markdown",
   "metadata": {
    "id": "lO7H1mWo9kA7"
   },
   "source": [
    "###XGBoost"
   ]
  },
  {
   "cell_type": "markdown",
   "metadata": {
    "id": "GzC2M0_he5tV"
   },
   "source": [
    "####XGBoost Model Selection"
   ]
  },
  {
   "cell_type": "code",
   "execution_count": null,
   "metadata": {
    "colab": {
     "base_uri": "https://localhost:8080/"
    },
    "id": "9UUlV8cftq8Q",
    "outputId": "2adf3eff-73d1-4161-9951-4df0ccca88bb"
   },
   "outputs": [
    {
     "name": "stdout",
     "output_type": "stream",
     "text": [
      "Requirement already satisfied: xgboost==1.5 in /usr/local/lib/python3.7/dist-packages (1.5.0)\n",
      "Requirement already satisfied: scipy in /usr/local/lib/python3.7/dist-packages (from xgboost==1.5) (1.4.1)\n",
      "Requirement already satisfied: numpy in /usr/local/lib/python3.7/dist-packages (from xgboost==1.5) (1.19.5)\n"
     ]
    }
   ],
   "source": [
    "!pip install xgboost==1.5 \n"
   ]
  },
  {
   "cell_type": "code",
   "execution_count": null,
   "metadata": {
    "id": "W-dkHmbGgh9S"
   },
   "outputs": [],
   "source": [
    "import sklearn\n",
    "from sklearn import metrics\n",
    "\n",
    "sorted(sklearn.metrics.SCORERS.keys())"
   ]
  },
  {
   "cell_type": "code",
   "execution_count": null,
   "metadata": {
    "colab": {
     "base_uri": "https://localhost:8080/"
    },
    "id": "SLKJfYbs8dtf",
    "outputId": "97aea2f5-288a-46b6-f708-cbbf3c0ab4c8"
   },
   "outputs": [
    {
     "data": {
      "text/plain": [
       "GridSearchCV(cv=10,\n",
       "             estimator=XGBRegressor(base_score=None, booster=None,\n",
       "                                    colsample_bylevel=None,\n",
       "                                    colsample_bynode=None,\n",
       "                                    colsample_bytree=None,\n",
       "                                    enable_categorical=False, gamma=None,\n",
       "                                    gpu_id=None, importance_type=None,\n",
       "                                    interaction_constraints=None,\n",
       "                                    learning_rate=None, max_delta_step=None,\n",
       "                                    max_depth=None, min_child_weight=None,\n",
       "                                    missing=nan, monotone_constraints=None,...\n",
       "                                    num_parallel_tree=None, predictor=None,\n",
       "                                    random_state=None, reg_alpha=None,\n",
       "                                    reg_lambda=None, scale_pos_weight=None,\n",
       "                                    subsample=None, tree_method=None,\n",
       "                                    validate_parameters=None, verbosity=None),\n",
       "             param_grid={'colsample_bytree': [0.5, 0.9], 'gamma': [0.1],\n",
       "                         'learning_rate': [0.01, 0.05, 0.1],\n",
       "                         'max_depth': [2, 3, 4], 'n_estimators': [200],\n",
       "                         'objective': ['reg:squarederror']},\n",
       "             scoring='neg_mean_squared_log_error')"
      ]
     },
     "execution_count": 29,
     "metadata": {},
     "output_type": "execute_result"
    }
   ],
   "source": [
    "import xgboost\n",
    "from xgboost import XGBRegressor\n",
    "from sklearn import svm, datasets\n",
    "from sklearn.model_selection import GridSearchCV\n",
    "from sklearn.metrics import log_loss, make_scorer\n",
    "from sklearn.model_selection import GridSearchCV\n",
    "\n",
    "# parameters = {'n_estimators':[10, 50, 75, 100, 250, 500, 750, 1000],\n",
    "#               'max_depth':[3, 4, 5],\n",
    "#               'gamma': [1, 5, 10],\n",
    "#               'colsample_bytree': [0.3, 0.4, 0.5, 0.6, 0.7, 0.8, 0.9, 1.0],\n",
    "#               'learning_rate': [0.01, 0.05, 0.1, 0.001, 0.005, 0.009]\n",
    "#               }\n",
    "\n",
    "parameters = {'n_estimators':[200],\n",
    "              'max_depth':[2, 3, 4],\n",
    "              'gamma': [0.1],\n",
    "              'colsample_bytree': [0.5, 0.9],\n",
    "              'learning_rate': [0.01, 0.05, 0.1],\n",
    "              'objective':['reg:squarederror']\n",
    "              }\n",
    "\n",
    "XGBModel = XGBRegressor()\n",
    "  \n",
    "xgbmodel = GridSearchCV(XGBModel, param_grid=parameters, scoring='neg_mean_squared_log_error', cv = 10)\n",
    "# XGBModel.fit(train_X,train_y , verbose=False)\n",
    "\n",
    "# eval_set = [(X_val, y_val)]\n",
    "# model.fit(X_train, y_train, eval_metric=\"error\", eval_set=eval_set, verbose=True)\n",
    "\n",
    "xgbmodel.fit(X_train,y_train, verbose=True)\n",
    "# sorted(xgbmodel.cv_results_.keys())\n",
    "\n",
    "\n"
   ]
  },
  {
   "cell_type": "code",
   "execution_count": null,
   "metadata": {
    "colab": {
     "base_uri": "https://localhost:8080/"
    },
    "id": "PqeJa0bIH-Y0",
    "outputId": "2f7face5-2a34-4711-ccc3-186090455817"
   },
   "outputs": [
    {
     "name": "stdout",
     "output_type": "stream",
     "text": [
      "{'colsample_bytree': 0.5, 'gamma': 0.1, 'learning_rate': 0.01, 'max_depth': 2, 'n_estimators': 200, 'objective': 'reg:squarederror'}\n",
      "-0.5838194362765428\n"
     ]
    }
   ],
   "source": [
    "\n",
    "print(xgbmodel.best_params_)\n",
    "\n",
    "print(xgbmodel.best_score_)\n"
   ]
  },
  {
   "cell_type": "code",
   "execution_count": null,
   "metadata": {
    "id": "cYzZHrhUH8-X"
   },
   "outputs": [],
   "source": [
    "\n",
    "from sklearn.externals import joblib\n",
    "joblib.dump(xgbmodel, 'xgbmodel_sklearn.pkl')\n",
    "\n",
    "# xgbmodel.save_model(\"xgbmodel_sklearn.json\")\n",
    "\n",
    "!cp xgbmodel_sklearn.pkl /content/drive/MyDrive/ML/NLP/F1_hackathon/\n",
    "\n"
   ]
  },
  {
   "cell_type": "markdown",
   "metadata": {
    "id": "DccrvdvnuqEl"
   },
   "source": [
    "###XGBoost Training"
   ]
  },
  {
   "cell_type": "code",
   "execution_count": null,
   "metadata": {
    "id": "X_In2V8YuTta"
   },
   "outputs": [],
   "source": [
    "\n",
    "#{'learning_rate': 0.01, 'max_depth': 4, 'n_estimators': 250}\n",
    "#XGBoost validation RMSE =  0.5322364532852599\n",
    "\n",
    "#{'colsample_bytree': 0.5, 'gamma': 1, 'learning_rate': 0.01, 'max_depth': 4, 'n_estimators': 250}  \n",
    "#XGBoost validation RMSE =  0.5297175217856089\n",
    "\n",
    "#{'colsample_bytree': 0.5, 'gamma': 1, 'learning_rate': 0.01, 'max_depth': 4, 'n_estimators': 285}  \n",
    "#XGBoost validation RMSE =  0.528959708134752\n",
    "\n",
    "\n",
    "#{'colsample_bytree': 0.5, 'gamma': 1, 'learning_rate': 0.01, 'max_depth': 4, 'n_estimators': 285}  \n",
    "#no CROSSING_FINISH_LANE_IN_PIT column, mean KPH\n",
    "#XGBoost validation RMSE =  0.5288903599654621\n",
    "#test score: 0.70630\n",
    "\n",
    "#{'colsample_bytree': 0.9, 'gamma': 0.1, 'learning_rate': 0.01, 'max_depth': 2, 'n_estimators': 250, 'objective': 'reg:squarederror'}\n",
    "#no CROSSING_FINISH_LANE_IN_PIT column, mean KPH  #combined weather column\n",
    "#XGBoost validation RMSE =  0.5457443738578217\n",
    "#test score: 0.70244\n",
    "\n",
    "#{'colsample_bytree': 0.9, 'gamma': 0.1, 'learning_rate': 0.01, 'max_depth': 2, 'n_estimators': 250, 'objective': 'reg:squarederror'}\n",
    "#with weather data, mean POWER, KPH, no CROSSING_FINISH_LINE_IN_PIT, DRIVER_NUMBER\n",
    "#XGBoost validation RMSE =  0.5456228927807572\n",
    "#test score: 0.70224\n",
    "\n",
    "\n",
    "#{'colsample_bytree': 0.9, 'gamma': 0.1, 'learning_rate': 0.01, 'max_depth': 3, 'n_estimators': 275, 'objective': 'reg:squarederror'}\n",
    "#without weather data, mean POWER, KPH, no CROSSING_FINISH_LINE_IN_PIT, DRIVER_NUMBER\n",
    "#XGBoost validation RMSE =  0.5287775760302842\n",
    "#test score: 0.70346\n",
    "\n",
    "#{'colsample_bytree': 0.5, 'gamma': 0.1, 'learning_rate': 0.01, 'max_depth': 2, 'n_estimators': 200, 'objective': 'reg:squarederror'}\n"
   ]
  },
  {
   "cell_type": "code",
   "execution_count": null,
   "metadata": {
    "id": "xqjXlelMijoq"
   },
   "outputs": [],
   "source": [
    "import xgboost\n",
    "from xgboost import XGBRegressor\n",
    "\n",
    "\n",
    "XGBModel = XGBRegressor(\n",
    "                      learning_rate=0.01,  \n",
    "                      n_estimators=200, \n",
    "                      max_depth=2, \n",
    "                      colsample_bytree = 0.5,\n",
    "                      gamma= 0.1,\n",
    "                      objective='reg:squarederror')\n",
    "  \n",
    "  \n",
    "# XGBModel.fit(train_X,train_y , verbose=False)\n",
    "\n",
    "eval_set = [(X_val, y_val)]\n",
    "# model.fit(X_train, y_train, eval_metric=\"error\", eval_set=eval_set, verbose=True)\n",
    "\n",
    "XGBModel.fit(X_train,y_train, eval_metric=\"rmsle\", eval_set=eval_set)\n",
    "# XGBModel.fit(X,y)\n",
    "  "
   ]
  },
  {
   "cell_type": "code",
   "execution_count": null,
   "metadata": {
    "colab": {
     "base_uri": "https://localhost:8080/"
    },
    "id": "RkbipSsF9_u1",
    "outputId": "176270a8-df22-4564-db7c-9dadb4433e60"
   },
   "outputs": [
    {
     "name": "stdout",
     "output_type": "stream",
     "text": [
      "XGBoost validation RMSE =  0.7747822383581132\n"
     ]
    }
   ],
   "source": [
    "\n",
    "# Get the mean absolute error on the validation data :\n",
    "XGBpredictions = XGBModel.predict(X_val)\n",
    "\n",
    "rmse = np.sqrt(mean_squared_log_error(y_val, XGBpredictions))\n",
    "print('XGBoost validation RMSE = ', rmse)\n",
    "\n",
    "# XGBoost validation RMSE =  0.7767064839192265\n"
   ]
  },
  {
   "cell_type": "code",
   "execution_count": null,
   "metadata": {
    "id": "oLOSaIfkwJet"
   },
   "outputs": [],
   "source": [
    "\n",
    "y_test_pred = XGBModel.predict(testX)\n",
    "\n",
    "submission_df_XG = pd.DataFrame(y_test_pred, columns=['LAP_TIME'])\n",
    "submission_df_XG.to_csv('sub_3.csv', index=False)\n"
   ]
  },
  {
   "cell_type": "markdown",
   "metadata": {
    "id": "92qyzLLUphgO"
   },
   "source": [
    "###xgb train"
   ]
  },
  {
   "cell_type": "code",
   "execution_count": null,
   "metadata": {
    "colab": {
     "base_uri": "https://localhost:8080/"
    },
    "id": "JMVJ_T6e3SE8",
    "outputId": "f861631f-9048-4fd4-effd-d58e989587c4"
   },
   "outputs": [
    {
     "name": "stdout",
     "output_type": "stream",
     "text": [
      "XGBoost validation RMSE =  0.5289002942479997\n"
     ]
    }
   ],
   "source": [
    "import xgboost as xgb\n",
    "from xgboost import XGBRegressor\n",
    "\n",
    "D_train = xgb.DMatrix(X_train, label=y_train)\n",
    "D_test = xgb.DMatrix(X_val, label=y_val)\n",
    "\n",
    "param = {\n",
    "    'learning_rate': 0.01,  \n",
    "    # 'n_estimators': 250, \n",
    "    'max_depth': 4, \n",
    "    'colsample_bytree': 0.9,\n",
    "    'gamma': 1, \n",
    "    'objective': 'reg:squarederror'} \n",
    "\n",
    "steps = 290  # The number of training iterations\n",
    "\n",
    "model = xgb.train(param, D_train, steps)\n",
    "\n",
    "preds = model.predict(D_test)\n",
    "\n",
    "\n",
    "rmse = np.sqrt(mean_squared_log_error(y_val, preds))\n",
    "print('XGBoost validation RMSE = ', rmse)\n",
    "\n",
    "#250-XGBoost validation RMSE =  0.5297175217856089\n",
    "#300-XGBoost validation RMSE =  0.5289854801407681\n",
    "#XGBoost validation RMSE =  0.5289002942479997\n",
    "\n",
    "\n",
    "\n",
    "\n",
    "  "
   ]
  },
  {
   "cell_type": "code",
   "execution_count": null,
   "metadata": {
    "id": "v9QfWlzcyjsa"
   },
   "outputs": [],
   "source": []
  },
  {
   "cell_type": "code",
   "execution_count": null,
   "metadata": {
    "id": "AwsXZ5JH3SH8"
   },
   "outputs": [],
   "source": [
    "\n",
    "y_test_pred = XGBModel.predict(testX)\n",
    "submission_df_XG = pd.DataFrame(y_test_pred)\n",
    "submission_df_XG.columns = [\"LAP_TIME\"]\n",
    "submission_df_XG.to_csv('submission_fn_XG13.csv', index=False)\n"
   ]
  },
  {
   "cell_type": "code",
   "execution_count": null,
   "metadata": {
    "id": "X6HZhnkN3SKz"
   },
   "outputs": [],
   "source": []
  },
  {
   "cell_type": "code",
   "execution_count": null,
   "metadata": {
    "id": "bFiw--Wi-3I9"
   },
   "outputs": [],
   "source": [
    "\n",
    "# plot learning curve\n",
    "from numpy import loadtxt\n",
    "from xgboost import XGBClassifier\n",
    "from sklearn.model_selection import train_test_split\n",
    "from sklearn.metrics import accuracy_score\n",
    "from matplotlib import pyplot\n",
    "import xgboost\n",
    "from xgboost import XGBRegressor\n",
    "# load data\n",
    "\n",
    "\n",
    "model = XGBRegressor(\n",
    "                      learning_rate=0.01,  \n",
    "                      n_estimators=250, \n",
    "                      max_depth=4, \n",
    "                      colsample_bytree = 0.9,\n",
    "                      gamma= 1,\n",
    "                      objective='reg:squarederror')\n",
    "  \n",
    "\n",
    "X_test= X_val\n",
    "y_test=y_val\n",
    "eval_set = [(X_train, y_train), (X_test, y_test)]\n",
    "model.fit(X_train,y_train, eval_metric=[\"error\", \"rmsle\"], eval_set=eval_set, verbose=True)\n",
    "\n",
    "# make predictions for test data\n",
    "\n",
    "y_pred = model.predict(X_test)\n",
    "predictions = [round(value) for value in y_pred]\n",
    "# evaluate predictions\n",
    "accuracy = accuracy_score(y_test, predictions)\n",
    "print(\"Accuracy: %.2f%%\" % (accuracy * 100.0))\n",
    "# retrieve performance metrics\n",
    "results = model.evals_result()\n",
    "epochs = len(results['validation_0']['error'])\n",
    "x_axis = range(0, epochs)\n",
    "# plot log loss\n",
    "fig, ax = pyplot.subplots()\n",
    "ax.plot(x_axis, results['validation_0']['rmsle'], label='Train')\n",
    "ax.plot(x_axis, results['validation_1']['rmsle'], label='Test')\n",
    "ax.legend()\n",
    "pyplot.ylabel('Log Loss')\n",
    "pyplot.title('XGBoost Log Loss')\n",
    "pyplot.show()\n",
    "# plot classification error\n",
    "fig, ax = pyplot.subplots()\n",
    "ax.plot(x_axis, results['validation_0']['error'], label='Train')\n",
    "ax.plot(x_axis, results['validation_1']['error'], label='Test')\n",
    "ax.legend()\n",
    "pyplot.ylabel('Classification Error')\n",
    "pyplot.title('XGBoost Classification Error')\n",
    "pyplot.show()"
   ]
  },
  {
   "cell_type": "code",
   "execution_count": null,
   "metadata": {
    "id": "soHWSGVsjjJH"
   },
   "outputs": [],
   "source": [
    "results"
   ]
  },
  {
   "cell_type": "code",
   "execution_count": null,
   "metadata": {
    "colab": {
     "base_uri": "https://localhost:8080/"
    },
    "id": "FQA6csf-mDcW",
    "outputId": "7cbed747-f4ea-4d50-a532-22837515f50c"
   },
   "outputs": [
    {
     "data": {
      "text/plain": [
       "array([ 17.11476135,  16.36309052, -14.59975433, ...,   7.29431152,\n",
       "        -1.56993866, -15.15593719])"
      ]
     },
     "execution_count": 35,
     "metadata": {},
     "output_type": "execute_result"
    }
   ],
   "source": [
    "predictions = pd.DataFrame(y_val, XGBpredictions)"
   ]
  },
  {
   "cell_type": "code",
   "execution_count": null,
   "metadata": {
    "colab": {
     "base_uri": "https://localhost:8080/"
    },
    "id": "0qCrCtn1yBfx",
    "outputId": "331efd64-3190-4d10-a5db-8d2816cf3e9a"
   },
   "outputs": [
    {
     "data": {
      "text/plain": [
       "(3392, 83)"
      ]
     },
     "execution_count": 76,
     "metadata": {},
     "output_type": "execute_result"
    }
   ],
   "source": [
    "X_val.shape"
   ]
  },
  {
   "cell_type": "code",
   "execution_count": null,
   "metadata": {
    "id": "3ICkvqWzrYx1"
   },
   "outputs": [],
   "source": [
    "#submission_fn_XG3.csv  0.70442\n",
    "#submission_fn_XG4.csv  0.71610\n"
   ]
  },
  {
   "cell_type": "markdown",
   "metadata": {
    "id": "lnRqpbDZ4yvs"
   },
   "source": [
    "###Custom XG Boost Metrics\n"
   ]
  },
  {
   "cell_type": "code",
   "execution_count": null,
   "metadata": {
    "id": "jdRTCo6k44jA"
   },
   "outputs": [],
   "source": [
    "# from sklearn.datasets import load_diabetes\n",
    "from sklearn.metrics import mean_absolute_error\n",
    "from sklearn.metrics import mean_squared_log_error\n",
    "\n",
    "\n",
    "XGBModel = XGBRegressor(silent=False, \n",
    "                      scale_pos_weight=1,\n",
    "                      learning_rate=0.01,  \n",
    "                      colsample_bytree = 0.9,\n",
    "                      subsample = 0.8, \n",
    "                      n_estimators=1000, \n",
    "                      reg_alpha = 0.3,\n",
    "                      max_depth=3, \n",
    "                      gamma=1,\n",
    "                      objective='reg:squarederror',\n",
    "                      tree_method=\"hist\",\n",
    "                      eval_metric=mean_squared_log_error)\n",
    "  \n",
    "# XGBModel.fit(train_X,train_y , verbose=False)\n",
    "XGBModel.fit(X_train,y_train, eval_metric='rmsle', eval_set=[(X_val, y_val)])\n",
    "\n",
    "\n"
   ]
  },
  {
   "cell_type": "code",
   "execution_count": null,
   "metadata": {
    "colab": {
     "base_uri": "https://localhost:8080/"
    },
    "id": "DRDPKOzfdwcz",
    "outputId": "a37970a0-073f-4e60-dbcd-c8c54181e960"
   },
   "outputs": [
    {
     "name": "stdout",
     "output_type": "stream",
     "text": [
      "Requirement already satisfied: xgboost in /usr/local/lib/python3.7/dist-packages (0.90)\n",
      "Requirement already satisfied: scipy in /usr/local/lib/python3.7/dist-packages (from xgboost) (1.4.1)\n",
      "Requirement already satisfied: numpy in /usr/local/lib/python3.7/dist-packages (from xgboost) (1.19.5)\n"
     ]
    }
   ],
   "source": [
    "!pip install xgboost\n"
   ]
  },
  {
   "cell_type": "code",
   "execution_count": null,
   "metadata": {
    "id": "5Kwaztq844qL"
   },
   "outputs": [],
   "source": [
    "from sklearn.datasets import load_diabetes\n",
    "from sklearn.metrics import mean_absolute_error\n",
    "import xgboost as xgb\n",
    "X, y = load_diabetes(return_X_y=True)\n",
    "reg = xgb.XGBRegressor(\n",
    "    tree_method=\"hist\",\n",
    "    eval_metric=mean_absolute_error\n",
    ")\n",
    "reg.fit(X, y, eval_set=[(X, y)])"
   ]
  },
  {
   "cell_type": "code",
   "execution_count": null,
   "metadata": {
    "id": "eR1DYRDG44s4"
   },
   "outputs": [],
   "source": []
  },
  {
   "cell_type": "code",
   "execution_count": null,
   "metadata": {
    "id": "3VIi5JKS44vX"
   },
   "outputs": [],
   "source": []
  },
  {
   "cell_type": "markdown",
   "metadata": {
    "id": "33EDsjzaRBv0"
   },
   "source": [
    "### Neural Net"
   ]
  },
  {
   "cell_type": "code",
   "execution_count": null,
   "metadata": {
    "colab": {
     "base_uri": "https://localhost:8080/"
    },
    "id": "nnAL0ceFRFCi",
    "outputId": "6b47b809-de5c-4605-9f79-1598bf1a81c2"
   },
   "outputs": [
    {
     "name": "stdout",
     "output_type": "stream",
     "text": [
      "Model: \"sequential_15\"\n",
      "_________________________________________________________________\n",
      " Layer (type)                Output Shape              Param #   \n",
      "=================================================================\n",
      " dense_89 (Dense)            (None, 128)               10752     \n",
      "                                                                 \n",
      " dense_90 (Dense)            (None, 256)               33024     \n",
      "                                                                 \n",
      " dense_91 (Dense)            (None, 256)               65792     \n",
      "                                                                 \n",
      " dense_92 (Dense)            (None, 256)               65792     \n",
      "                                                                 \n",
      " dense_93 (Dense)            (None, 256)               65792     \n",
      "                                                                 \n",
      " dense_94 (Dense)            (None, 1)                 257       \n",
      "                                                                 \n",
      "=================================================================\n",
      "Total params: 241,409\n",
      "Trainable params: 241,409\n",
      "Non-trainable params: 0\n",
      "_________________________________________________________________\n"
     ]
    }
   ],
   "source": [
    "\n",
    "from keras import backend as K\n",
    "\n",
    "def root_mean_squared_error(y_true, y_pred):\n",
    "  return K.sqrt(K.mean(K.square(y_pred - y_true))) \n",
    "\n",
    "import keras\n",
    "import numpy as np\n",
    "from tensorflow.python.ops import math_ops\n",
    "\n",
    "def custom_loss(y_true, y_pred):\n",
    " diff = math_ops.squared_difference(y_pred, y_true)  #squared difference\n",
    " loss = K.mean(diff, axis=-1) #mean over last dimension\n",
    " loss = loss / 10.0\n",
    " return loss\n",
    "\n",
    "NN_model = Sequential()\n",
    "\n",
    "# The Input Layer :\n",
    "NN_model.add(Dense(128, kernel_initializer='normal',input_dim = train.shape[1], activation='relu'))\n",
    "\n",
    "# The Hidden Layers :\n",
    "NN_model.add(Dense(256, kernel_initializer='normal',activation='relu'))\n",
    "NN_model.add(Dense(256, kernel_initializer='normal',activation='relu'))\n",
    "NN_model.add(Dense(256, kernel_initializer='normal',activation='relu'))\n",
    "NN_model.add(Dense(256, kernel_initializer='normal',activation='relu'))\n",
    "\n",
    "# The Output Layer :\n",
    "NN_model.add(Dense(1, kernel_initializer='normal',activation='linear'))\n",
    "\n",
    "# Compile the network :\n",
    "NN_model.compile(loss=custom_loss, optimizer='rmsprop', metrics=['mean_absolute_error'])\n",
    "NN_model.summary()\n",
    "\n",
    "\n"
   ]
  },
  {
   "cell_type": "code",
   "execution_count": null,
   "metadata": {
    "id": "Am-aS4DlRFMS"
   },
   "outputs": [],
   "source": [
    "\n",
    "# checkpoint_name = 'Weights_f-{epoch:03d}--{val_loss:.5f}.hdf5' \n",
    "# checkpoint = ModelCheckpoint(checkpoint_name, monitor='val_loss', verbose = 1, save_best_only = True, mode ='auto')\n",
    "# callbacks_list = [checkpoint]\n",
    "callbacks_list = None"
   ]
  },
  {
   "cell_type": "code",
   "execution_count": null,
   "metadata": {
    "id": "CR3RV-yeRFQx"
   },
   "outputs": [],
   "source": [
    "NN_model.fit(train, target, epochs=150, batch_size=16, validation_split = 0.2, callbacks=callbacks_list)\n"
   ]
  },
  {
   "cell_type": "code",
   "execution_count": null,
   "metadata": {
    "id": "Aq0SunI4UGBv"
   },
   "outputs": [],
   "source": [
    "# Load wights file of the best model :\n",
    "# wights_file = 'Weights-478--18738.19831.hdf5' # choose the best checkpoint \n",
    "# NN_model.load_weights(wights_file) # load it\n",
    "NN_model.compile(loss='mean_absolute_error', optimizer='adam', metrics=['mean_absolute_error'])"
   ]
  },
  {
   "cell_type": "code",
   "execution_count": null,
   "metadata": {
    "id": "uQYL6hieUGGd"
   },
   "outputs": [],
   "source": [
    "# def make_submission(prediction, sub_name):\n",
    "#   my_submission = pd.DataFrame({'Id':pd.read_csv('test.csv').Id,'SalePrice':prediction})\n",
    "#   my_submission.to_csv('{}.csv'.format(sub_name),index=False)\n",
    "#   print('A submission file has been made')\n",
    "\n",
    "predictions = NN_model.predict(test)\n",
    "# make_submission(predictions[:,0],'submission(NN).csv')"
   ]
  },
  {
   "cell_type": "code",
   "execution_count": null,
   "metadata": {
    "id": "Lcjg4JUgVFND"
   },
   "outputs": [],
   "source": [
    "submission_df_NN = pd.DataFrame(predictions)\n",
    "submission_df_NN.columns = [\"LAP_TIME\"]\n",
    "submission_df_NN.to_csv('submission_NN.csv', index=False)\n"
   ]
  },
  {
   "cell_type": "code",
   "execution_count": null,
   "metadata": {
    "id": "jk5D6KnJ-LfD"
   },
   "outputs": [],
   "source": [
    "0.5465152571940624\n",
    "Random forest validation MAE =  0.5371144902997661\n",
    "XGBoost validation RMSE =  0.5325518226994682\n",
    "\n"
   ]
  },
  {
   "cell_type": "code",
   "execution_count": null,
   "metadata": {
    "id": "dVbgMEjVj7Bt"
   },
   "outputs": [],
   "source": []
  },
  {
   "cell_type": "code",
   "execution_count": null,
   "metadata": {
    "id": "adMyTGcdj7GD"
   },
   "outputs": [],
   "source": [
    "def time2seconds(time):\n",
    "  if type(time) != str:\n",
    "    return time\n",
    "\n",
    "  parts = [float(p) for p in time.split(':')]\n",
    "  print(parts)\n",
    "  parts = [p * (60 ** i) for i, p in enumerate(reversed(parts))]\n",
    "  return sum(parts)"
   ]
  },
  {
   "cell_type": "code",
   "execution_count": null,
   "metadata": {
    "colab": {
     "base_uri": "https://localhost:8080/"
    },
    "id": "1URcmHAmj-FZ",
    "outputId": "ffc97f27-6353-4ba4-ab85-9f3785f68c1e"
   },
   "outputs": [
    {
     "name": "stdout",
     "output_type": "stream",
     "text": [
      "[5.0, 25.7]\n"
     ]
    },
    {
     "data": {
      "text/plain": [
       "325.7"
      ]
     },
     "execution_count": 130,
     "metadata": {},
     "output_type": "execute_result"
    }
   ],
   "source": [
    "time2seconds('05:25.7')"
   ]
  },
  {
   "cell_type": "code",
   "execution_count": null,
   "metadata": {
    "id": "-GAX9cXEkAVV"
   },
   "outputs": [],
   "source": []
  },
  {
   "cell_type": "markdown",
   "metadata": {
    "id": "-FQYU5qwXiKj"
   },
   "source": [
    "### AdaBoost"
   ]
  },
  {
   "cell_type": "code",
   "execution_count": null,
   "metadata": {
    "colab": {
     "base_uri": "https://localhost:8080/",
     "height": 167
    },
    "id": "2JsXtj99b2Ew",
    "outputId": "45fc21f9-399f-4699-aada-e5c9fc66a563"
   },
   "outputs": [
    {
     "ename": "TypeError",
     "evalue": "ignored",
     "output_type": "error",
     "traceback": [
      "\u001b[0;31m---------------------------------------------------------------------------\u001b[0m",
      "\u001b[0;31mTypeError\u001b[0m                                 Traceback (most recent call last)",
      "\u001b[0;32m<ipython-input-11-7b2fe770f24b>\u001b[0m in \u001b[0;36m<module>\u001b[0;34m()\u001b[0m\n\u001b[0;32m----> 1\u001b[0;31m \u001b[0mAdaBoostRegressor\u001b[0m\u001b[0;34m.\u001b[0m\u001b[0mget_params\u001b[0m\u001b[0;34m(\u001b[0m\u001b[0;34m)\u001b[0m\u001b[0;34m.\u001b[0m\u001b[0mkeys\u001b[0m\u001b[0;34m(\u001b[0m\u001b[0;34m)\u001b[0m\u001b[0;34m\u001b[0m\u001b[0;34m\u001b[0m\u001b[0m\n\u001b[0m",
      "\u001b[0;31mTypeError\u001b[0m: get_params() missing 1 required positional argument: 'self'"
     ]
    }
   ],
   "source": [
    "AdaBoostRegressor.get_params().keys()"
   ]
  },
  {
   "cell_type": "code",
   "execution_count": null,
   "metadata": {
    "colab": {
     "base_uri": "https://localhost:8080/"
    },
    "id": "lIXQ_7rHasDo",
    "outputId": "daea62aa-e42a-4e75-c847-2024b0c4237b"
   },
   "outputs": [
    {
     "data": {
      "text/plain": [
       "GridSearchCV(cv=10, estimator=AdaBoostRegressor(),\n",
       "             param_grid={'learning_rate': [0.01, 0.05, 1], 'loss': ['square'],\n",
       "                         'n_estimators': [100, 150, 250, 300]},\n",
       "             scoring='neg_mean_squared_log_error')"
      ]
     },
     "execution_count": 15,
     "metadata": {},
     "output_type": "execute_result"
    }
   ],
   "source": [
    "from sklearn.ensemble import AdaBoostRegressor\n",
    "\n",
    "from sklearn.model_selection import GridSearchCV\n",
    "\n",
    "# parameters = {'n_estimators':[10, 50, 75, 100, 250, 500, 750, 1000],\n",
    "#               'max_depth':[3, 4, 5],\n",
    "#               'gamma': [1, 5, 10],\n",
    "#               'colsample_bytree': [0.3, 0.4, 0.5, 0.6, 0.7, 0.8, 0.9, 1.0],\n",
    "#               'learning_rate': [0.01, 0.05, 0.1, 0.001, 0.005, 0.009]\n",
    "#               }\n",
    "\n",
    "parameters = {'n_estimators':[100, 150, 250, 300],\n",
    "              # 'max_depth':[2],\n",
    "              # 'gamma': [0.1, 0.5, 1],\n",
    "              'learning_rate': [0.01, 0.05, 1],\n",
    "              'loss':['square']\n",
    "              }\n",
    "\n",
    "AdaBoostModel = AdaBoostRegressor()\n",
    "  \n",
    "adaboostmodel = GridSearchCV(AdaBoostModel, param_grid=parameters, scoring='neg_mean_squared_log_error', cv = 10)\n",
    "# XGBModel.fit(train_X,train_y , verbose=False)\n",
    "\n",
    "# eval_set = [(X_val, y_val)]\n",
    "# model.fit(X_train, y_train, eval_metric=\"error\", eval_set=eval_set, verbose=True)\n",
    "\n",
    "adaboostmodel.fit(X_train,y_train)\n",
    "# sorted(xgbmodel.cv_results_.keys())\n"
   ]
  },
  {
   "cell_type": "code",
   "execution_count": null,
   "metadata": {
    "colab": {
     "base_uri": "https://localhost:8080/"
    },
    "id": "rnoYZli9f8fL",
    "outputId": "e9087b49-5966-441c-b4cb-ec1e72f40cb0"
   },
   "outputs": [
    {
     "data": {
      "text/plain": [
       "AdaBoostRegressor(learning_rate=0.01, loss='square', n_estimators=100)"
      ]
     },
     "execution_count": 16,
     "metadata": {},
     "output_type": "execute_result"
    }
   ],
   "source": [
    "adaboostmodel.best_estimator_"
   ]
  },
  {
   "cell_type": "code",
   "execution_count": null,
   "metadata": {
    "colab": {
     "base_uri": "https://localhost:8080/"
    },
    "id": "UyrGo2qvXkXr",
    "outputId": "78e99100-159d-41ae-e127-f5aabbe47661"
   },
   "outputs": [
    {
     "data": {
      "text/plain": [
       "0.5510309935746373"
      ]
     },
     "execution_count": 20,
     "metadata": {},
     "output_type": "execute_result"
    }
   ],
   "source": [
    "from sklearn.ensemble import AdaBoostRegressor\n",
    "# Create adaboost classifer object\n",
    "adaboostreg = AdaBoostRegressor(n_estimators=200, learning_rate=0.01, loss='square')\n",
    "# adaboostreg = AdaBoostRegressor()\n",
    "# Train Adaboost Classifer\n",
    "model = adaboostreg.fit(X_train, y_train)\n",
    "\n",
    "# Use the AdaboostClassifer predict method on the test data\n",
    "y_predict = model.predict(X_val)\n",
    "\n",
    "rmse = np.sqrt(mean_squared_log_error(y_val, y_predict)) \n",
    "rmse"
   ]
  },
  {
   "cell_type": "code",
   "execution_count": null,
   "metadata": {
    "id": "5ZxRdfDpXkbs"
   },
   "outputs": [],
   "source": [
    "\n",
    "y_test_pred = model.predict(testX)\n",
    "submission_df_XG = pd.DataFrame(y_test_pred)\n",
    "submission_df_XG.columns = [\"LAP_TIME\"]\n",
    "submission_df_XG.to_csv('submission_AdB2.csv', index=False)"
   ]
  },
  {
   "cell_type": "code",
   "execution_count": null,
   "metadata": {
    "colab": {
     "base_uri": "https://localhost:8080/"
    },
    "id": "6u64IjPAXkgM",
    "outputId": "75407d74-bfad-45a6-d541-ffee21a5b71b"
   },
   "outputs": [
    {
     "data": {
      "text/plain": [
       "<bound method BaseEstimator.get_params of AdaBoostRegressor(learning_rate=1.5, n_estimators=5, random_state=1)>"
      ]
     },
     "execution_count": 18,
     "metadata": {},
     "output_type": "execute_result"
    }
   ],
   "source": [
    "model.get_params"
   ]
  },
  {
   "cell_type": "code",
   "execution_count": null,
   "metadata": {
    "id": "sbBa8t4xZRhw"
   },
   "outputs": [],
   "source": []
  }
 ],
 "metadata": {
  "accelerator": "GPU",
  "colab": {
   "collapsed_sections": [
    "KiVuxWgUDqFi",
    "dxLrrQJUPsfD",
    "Xcnt-GCiu9QG",
    "uy7MrQen0DiS",
    "dflajKxg7E0A",
    "dWzpd6bK7ZeN"
   ],
   "provenance": []
  },
  "kernelspec": {
   "display_name": "Python 3 (ipykernel)",
   "language": "python",
   "name": "python3"
  },
  "language_info": {
   "codemirror_mode": {
    "name": "ipython",
    "version": 3
   },
   "file_extension": ".py",
   "mimetype": "text/x-python",
   "name": "python",
   "nbconvert_exporter": "python",
   "pygments_lexer": "ipython3",
   "version": "3.10.6"
  }
 },
 "nbformat": 4,
 "nbformat_minor": 4
}
